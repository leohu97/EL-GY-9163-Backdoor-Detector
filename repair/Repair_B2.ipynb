{
  "nbformat": 4,
  "nbformat_minor": 0,
  "metadata": {
    "colab": {
      "name": "Repair-B2.ipynb",
      "provenance": [],
      "collapsed_sections": [],
      "machine_shape": "hm"
    },
    "kernelspec": {
      "name": "python3",
      "display_name": "Python 3"
    },
    "accelerator": "GPU"
  },
  "cells": [
    {
      "cell_type": "code",
      "metadata": {
        "colab": {
          "base_uri": "https://localhost:8080/"
        },
        "id": "Ix2Dd1FzuHmo",
        "outputId": "6cf4face-015f-4fd6-ef6b-55eb919e1c66"
      },
      "source": [
        "gpu_info = !nvidia-smi\r\n",
        "gpu_info = '\\n'.join(gpu_info)\r\n",
        "if gpu_info.find('failed') >= 0:\r\n",
        "  print('Select the Runtime > \"Change runtime type\" menu to enable a GPU accelerator, ')\r\n",
        "  print('and then re-execute this cell.')\r\n",
        "else:\r\n",
        "  print(gpu_info)"
      ],
      "execution_count": 1,
      "outputs": [
        {
          "output_type": "stream",
          "text": [
            "Thu Dec 24 03:34:03 2020       \n",
            "+-----------------------------------------------------------------------------+\n",
            "| NVIDIA-SMI 460.27.04    Driver Version: 418.67       CUDA Version: 10.1     |\n",
            "|-------------------------------+----------------------+----------------------+\n",
            "| GPU  Name        Persistence-M| Bus-Id        Disp.A | Volatile Uncorr. ECC |\n",
            "| Fan  Temp  Perf  Pwr:Usage/Cap|         Memory-Usage | GPU-Util  Compute M. |\n",
            "|                               |                      |               MIG M. |\n",
            "|===============================+======================+======================|\n",
            "|   0  Tesla V100-SXM2...  Off  | 00000000:00:04.0 Off |                    0 |\n",
            "| N/A   32C    P0    22W / 300W |      0MiB / 16130MiB |      0%      Default |\n",
            "|                               |                      |                 ERR! |\n",
            "+-------------------------------+----------------------+----------------------+\n",
            "                                                                               \n",
            "+-----------------------------------------------------------------------------+\n",
            "| Processes:                                                                  |\n",
            "|  GPU   GI   CI        PID   Type   Process name                  GPU Memory |\n",
            "|        ID   ID                                                   Usage      |\n",
            "|=============================================================================|\n",
            "|  No running processes found                                                 |\n",
            "+-----------------------------------------------------------------------------+\n"
          ],
          "name": "stdout"
        }
      ]
    },
    {
      "cell_type": "code",
      "metadata": {
        "colab": {
          "base_uri": "https://localhost:8080/"
        },
        "id": "YBvLRmNkW03i",
        "outputId": "959ac761-b2cb-40bd-ff0b-b4b56965ada9"
      },
      "source": [
        "!pip install tensorflow==2.3.0\r\n",
        "!pip install keract==4.3.2\r\n",
        "!pip install kerassurgeon"
      ],
      "execution_count": 1,
      "outputs": [
        {
          "output_type": "stream",
          "text": [
            "Requirement already satisfied: tensorflow==2.3.0 in /usr/local/lib/python3.6/dist-packages (2.3.0)\n",
            "Requirement already satisfied: astunparse==1.6.3 in /usr/local/lib/python3.6/dist-packages (from tensorflow==2.3.0) (1.6.3)\n",
            "Requirement already satisfied: gast==0.3.3 in /usr/local/lib/python3.6/dist-packages (from tensorflow==2.3.0) (0.3.3)\n",
            "Requirement already satisfied: six>=1.12.0 in /usr/local/lib/python3.6/dist-packages (from tensorflow==2.3.0) (1.15.0)\n",
            "Requirement already satisfied: scipy==1.4.1 in /usr/local/lib/python3.6/dist-packages (from tensorflow==2.3.0) (1.4.1)\n",
            "Requirement already satisfied: wheel>=0.26 in /usr/local/lib/python3.6/dist-packages (from tensorflow==2.3.0) (0.36.2)\n",
            "Requirement already satisfied: keras-preprocessing<1.2,>=1.1.1 in /usr/local/lib/python3.6/dist-packages (from tensorflow==2.3.0) (1.1.2)\n",
            "Requirement already satisfied: google-pasta>=0.1.8 in /usr/local/lib/python3.6/dist-packages (from tensorflow==2.3.0) (0.2.0)\n",
            "Requirement already satisfied: protobuf>=3.9.2 in /usr/local/lib/python3.6/dist-packages (from tensorflow==2.3.0) (3.12.4)\n",
            "Requirement already satisfied: termcolor>=1.1.0 in /usr/local/lib/python3.6/dist-packages (from tensorflow==2.3.0) (1.1.0)\n",
            "Requirement already satisfied: absl-py>=0.7.0 in /usr/local/lib/python3.6/dist-packages (from tensorflow==2.3.0) (0.10.0)\n",
            "Requirement already satisfied: wrapt>=1.11.1 in /usr/local/lib/python3.6/dist-packages (from tensorflow==2.3.0) (1.12.1)\n",
            "Requirement already satisfied: tensorboard<3,>=2.3.0 in /usr/local/lib/python3.6/dist-packages (from tensorflow==2.3.0) (2.4.0)\n",
            "Requirement already satisfied: grpcio>=1.8.6 in /usr/local/lib/python3.6/dist-packages (from tensorflow==2.3.0) (1.32.0)\n",
            "Requirement already satisfied: tensorflow-estimator<2.4.0,>=2.3.0 in /usr/local/lib/python3.6/dist-packages (from tensorflow==2.3.0) (2.3.0)\n",
            "Requirement already satisfied: h5py<2.11.0,>=2.10.0 in /usr/local/lib/python3.6/dist-packages (from tensorflow==2.3.0) (2.10.0)\n",
            "Requirement already satisfied: opt-einsum>=2.3.2 in /usr/local/lib/python3.6/dist-packages (from tensorflow==2.3.0) (3.3.0)\n",
            "Requirement already satisfied: numpy<1.19.0,>=1.16.0 in /usr/local/lib/python3.6/dist-packages (from tensorflow==2.3.0) (1.18.5)\n",
            "Requirement already satisfied: setuptools in /usr/local/lib/python3.6/dist-packages (from protobuf>=3.9.2->tensorflow==2.3.0) (51.0.0)\n",
            "Requirement already satisfied: google-auth<2,>=1.6.3 in /usr/local/lib/python3.6/dist-packages (from tensorboard<3,>=2.3.0->tensorflow==2.3.0) (1.17.2)\n",
            "Requirement already satisfied: werkzeug>=0.11.15 in /usr/local/lib/python3.6/dist-packages (from tensorboard<3,>=2.3.0->tensorflow==2.3.0) (1.0.1)\n",
            "Requirement already satisfied: tensorboard-plugin-wit>=1.6.0 in /usr/local/lib/python3.6/dist-packages (from tensorboard<3,>=2.3.0->tensorflow==2.3.0) (1.7.0)\n",
            "Requirement already satisfied: requests<3,>=2.21.0 in /usr/local/lib/python3.6/dist-packages (from tensorboard<3,>=2.3.0->tensorflow==2.3.0) (2.23.0)\n",
            "Requirement already satisfied: markdown>=2.6.8 in /usr/local/lib/python3.6/dist-packages (from tensorboard<3,>=2.3.0->tensorflow==2.3.0) (3.3.3)\n",
            "Requirement already satisfied: google-auth-oauthlib<0.5,>=0.4.1 in /usr/local/lib/python3.6/dist-packages (from tensorboard<3,>=2.3.0->tensorflow==2.3.0) (0.4.2)\n",
            "Requirement already satisfied: rsa<5,>=3.1.4; python_version >= \"3\" in /usr/local/lib/python3.6/dist-packages (from google-auth<2,>=1.6.3->tensorboard<3,>=2.3.0->tensorflow==2.3.0) (4.6)\n",
            "Requirement already satisfied: cachetools<5.0,>=2.0.0 in /usr/local/lib/python3.6/dist-packages (from google-auth<2,>=1.6.3->tensorboard<3,>=2.3.0->tensorflow==2.3.0) (4.2.0)\n",
            "Requirement already satisfied: pyasn1-modules>=0.2.1 in /usr/local/lib/python3.6/dist-packages (from google-auth<2,>=1.6.3->tensorboard<3,>=2.3.0->tensorflow==2.3.0) (0.2.8)\n",
            "Requirement already satisfied: urllib3!=1.25.0,!=1.25.1,<1.26,>=1.21.1 in /usr/local/lib/python3.6/dist-packages (from requests<3,>=2.21.0->tensorboard<3,>=2.3.0->tensorflow==2.3.0) (1.24.3)\n",
            "Requirement already satisfied: certifi>=2017.4.17 in /usr/local/lib/python3.6/dist-packages (from requests<3,>=2.21.0->tensorboard<3,>=2.3.0->tensorflow==2.3.0) (2020.12.5)\n",
            "Requirement already satisfied: chardet<4,>=3.0.2 in /usr/local/lib/python3.6/dist-packages (from requests<3,>=2.21.0->tensorboard<3,>=2.3.0->tensorflow==2.3.0) (3.0.4)\n",
            "Requirement already satisfied: idna<3,>=2.5 in /usr/local/lib/python3.6/dist-packages (from requests<3,>=2.21.0->tensorboard<3,>=2.3.0->tensorflow==2.3.0) (2.10)\n",
            "Requirement already satisfied: importlib-metadata; python_version < \"3.8\" in /usr/local/lib/python3.6/dist-packages (from markdown>=2.6.8->tensorboard<3,>=2.3.0->tensorflow==2.3.0) (1.7.0)\n",
            "Requirement already satisfied: requests-oauthlib>=0.7.0 in /usr/local/lib/python3.6/dist-packages (from google-auth-oauthlib<0.5,>=0.4.1->tensorboard<3,>=2.3.0->tensorflow==2.3.0) (1.3.0)\n",
            "Requirement already satisfied: pyasn1>=0.1.3 in /usr/local/lib/python3.6/dist-packages (from rsa<5,>=3.1.4; python_version >= \"3\"->google-auth<2,>=1.6.3->tensorboard<3,>=2.3.0->tensorflow==2.3.0) (0.4.8)\n",
            "Requirement already satisfied: zipp>=0.5 in /usr/local/lib/python3.6/dist-packages (from importlib-metadata; python_version < \"3.8\"->markdown>=2.6.8->tensorboard<3,>=2.3.0->tensorflow==2.3.0) (3.4.0)\n",
            "Requirement already satisfied: oauthlib>=3.0.0 in /usr/local/lib/python3.6/dist-packages (from requests-oauthlib>=0.7.0->google-auth-oauthlib<0.5,>=0.4.1->tensorboard<3,>=2.3.0->tensorflow==2.3.0) (3.1.0)\n",
            "Requirement already satisfied: keract==4.3.2 in /usr/local/lib/python3.6/dist-packages (4.3.2)\n",
            "Requirement already satisfied: numpy>=1.18.5 in /usr/local/lib/python3.6/dist-packages (from keract==4.3.2) (1.18.5)\n",
            "Requirement already satisfied: kerassurgeon in /usr/local/lib/python3.6/dist-packages (0.2.0)\n",
            "Requirement already satisfied: importlib-metadata<2.0.0,>=1.7.0 in /usr/local/lib/python3.6/dist-packages (from kerassurgeon) (1.7.0)\n",
            "Requirement already satisfied: pandas[examples]<2.0.0,>=1.1.2 in /usr/local/lib/python3.6/dist-packages (from kerassurgeon) (1.1.5)\n",
            "\u001b[33m  WARNING: pandas 1.1.5 does not provide the extra 'examples'\u001b[0m\n",
            "Requirement already satisfied: pytest[test]<7.0.0,>=6.0.2 in /usr/local/lib/python3.6/dist-packages (from kerassurgeon) (6.2.1)\n",
            "\u001b[33m  WARNING: pytest 6.2.1 does not provide the extra 'test'\u001b[0m\n",
            "Requirement already satisfied: pillow[examples]<8.0.0,>=7.2.0 in /usr/local/lib/python3.6/dist-packages (from kerassurgeon) (7.2.0)\n",
            "\u001b[33m  WARNING: Pillow 7.2.0 does not provide the extra 'examples'\u001b[0m\n",
            "Requirement already satisfied: keras[standalone-keras]<3.0.0,>=2.4.3 in /usr/local/lib/python3.6/dist-packages (from kerassurgeon) (2.4.3)\n",
            "\u001b[33m  WARNING: Keras 2.4.3 does not provide the extra 'standalone-keras'\u001b[0m\n",
            "Requirement already satisfied: tensorflow<3.0,>=2.0 in /usr/local/lib/python3.6/dist-packages (from kerassurgeon) (2.3.0)\n",
            "Requirement already satisfied: zipp>=0.5 in /usr/local/lib/python3.6/dist-packages (from importlib-metadata<2.0.0,>=1.7.0->kerassurgeon) (3.4.0)\n",
            "Requirement already satisfied: numpy>=1.15.4 in /usr/local/lib/python3.6/dist-packages (from pandas[examples]<2.0.0,>=1.1.2->kerassurgeon) (1.18.5)\n",
            "Requirement already satisfied: pytz>=2017.2 in /usr/local/lib/python3.6/dist-packages (from pandas[examples]<2.0.0,>=1.1.2->kerassurgeon) (2018.9)\n",
            "Requirement already satisfied: python-dateutil>=2.7.3 in /usr/local/lib/python3.6/dist-packages (from pandas[examples]<2.0.0,>=1.1.2->kerassurgeon) (2.8.1)\n",
            "Requirement already satisfied: attrs>=19.2.0 in /usr/local/lib/python3.6/dist-packages (from pytest[test]<7.0.0,>=6.0.2->kerassurgeon) (20.3.0)\n",
            "Requirement already satisfied: packaging in /usr/local/lib/python3.6/dist-packages (from pytest[test]<7.0.0,>=6.0.2->kerassurgeon) (20.8)\n",
            "Requirement already satisfied: iniconfig in /usr/local/lib/python3.6/dist-packages (from pytest[test]<7.0.0,>=6.0.2->kerassurgeon) (1.1.1)\n",
            "Requirement already satisfied: pluggy<1.0.0a1,>=0.12 in /usr/local/lib/python3.6/dist-packages (from pytest[test]<7.0.0,>=6.0.2->kerassurgeon) (0.13.1)\n",
            "Requirement already satisfied: toml in /usr/local/lib/python3.6/dist-packages (from pytest[test]<7.0.0,>=6.0.2->kerassurgeon) (0.10.2)\n",
            "Requirement already satisfied: py>=1.8.2 in /usr/local/lib/python3.6/dist-packages (from pytest[test]<7.0.0,>=6.0.2->kerassurgeon) (1.10.0)\n",
            "Requirement already satisfied: h5py in /usr/local/lib/python3.6/dist-packages (from keras[standalone-keras]<3.0.0,>=2.4.3->kerassurgeon) (2.10.0)\n",
            "Requirement already satisfied: pyyaml in /usr/local/lib/python3.6/dist-packages (from keras[standalone-keras]<3.0.0,>=2.4.3->kerassurgeon) (3.13)\n",
            "Requirement already satisfied: scipy>=0.14 in /usr/local/lib/python3.6/dist-packages (from keras[standalone-keras]<3.0.0,>=2.4.3->kerassurgeon) (1.4.1)\n",
            "Requirement already satisfied: tensorflow-estimator<2.4.0,>=2.3.0 in /usr/local/lib/python3.6/dist-packages (from tensorflow<3.0,>=2.0->kerassurgeon) (2.3.0)\n",
            "Requirement already satisfied: opt-einsum>=2.3.2 in /usr/local/lib/python3.6/dist-packages (from tensorflow<3.0,>=2.0->kerassurgeon) (3.3.0)\n",
            "Requirement already satisfied: grpcio>=1.8.6 in /usr/local/lib/python3.6/dist-packages (from tensorflow<3.0,>=2.0->kerassurgeon) (1.32.0)\n",
            "Requirement already satisfied: tensorboard<3,>=2.3.0 in /usr/local/lib/python3.6/dist-packages (from tensorflow<3.0,>=2.0->kerassurgeon) (2.4.0)\n",
            "Requirement already satisfied: absl-py>=0.7.0 in /usr/local/lib/python3.6/dist-packages (from tensorflow<3.0,>=2.0->kerassurgeon) (0.10.0)\n",
            "Requirement already satisfied: wrapt>=1.11.1 in /usr/local/lib/python3.6/dist-packages (from tensorflow<3.0,>=2.0->kerassurgeon) (1.12.1)\n",
            "Requirement already satisfied: termcolor>=1.1.0 in /usr/local/lib/python3.6/dist-packages (from tensorflow<3.0,>=2.0->kerassurgeon) (1.1.0)\n",
            "Requirement already satisfied: astunparse==1.6.3 in /usr/local/lib/python3.6/dist-packages (from tensorflow<3.0,>=2.0->kerassurgeon) (1.6.3)\n",
            "Requirement already satisfied: gast==0.3.3 in /usr/local/lib/python3.6/dist-packages (from tensorflow<3.0,>=2.0->kerassurgeon) (0.3.3)\n",
            "Requirement already satisfied: six>=1.12.0 in /usr/local/lib/python3.6/dist-packages (from tensorflow<3.0,>=2.0->kerassurgeon) (1.15.0)\n",
            "Requirement already satisfied: wheel>=0.26 in /usr/local/lib/python3.6/dist-packages (from tensorflow<3.0,>=2.0->kerassurgeon) (0.36.2)\n",
            "Requirement already satisfied: protobuf>=3.9.2 in /usr/local/lib/python3.6/dist-packages (from tensorflow<3.0,>=2.0->kerassurgeon) (3.12.4)\n",
            "Requirement already satisfied: google-pasta>=0.1.8 in /usr/local/lib/python3.6/dist-packages (from tensorflow<3.0,>=2.0->kerassurgeon) (0.2.0)\n",
            "Requirement already satisfied: keras-preprocessing<1.2,>=1.1.1 in /usr/local/lib/python3.6/dist-packages (from tensorflow<3.0,>=2.0->kerassurgeon) (1.1.2)\n",
            "Requirement already satisfied: pyparsing>=2.0.2 in /usr/local/lib/python3.6/dist-packages (from packaging->pytest[test]<7.0.0,>=6.0.2->kerassurgeon) (2.4.7)\n",
            "Requirement already satisfied: markdown>=2.6.8 in /usr/local/lib/python3.6/dist-packages (from tensorboard<3,>=2.3.0->tensorflow<3.0,>=2.0->kerassurgeon) (3.3.3)\n",
            "Requirement already satisfied: google-auth-oauthlib<0.5,>=0.4.1 in /usr/local/lib/python3.6/dist-packages (from tensorboard<3,>=2.3.0->tensorflow<3.0,>=2.0->kerassurgeon) (0.4.2)\n",
            "Requirement already satisfied: google-auth<2,>=1.6.3 in /usr/local/lib/python3.6/dist-packages (from tensorboard<3,>=2.3.0->tensorflow<3.0,>=2.0->kerassurgeon) (1.17.2)\n",
            "Requirement already satisfied: requests<3,>=2.21.0 in /usr/local/lib/python3.6/dist-packages (from tensorboard<3,>=2.3.0->tensorflow<3.0,>=2.0->kerassurgeon) (2.23.0)\n",
            "Requirement already satisfied: werkzeug>=0.11.15 in /usr/local/lib/python3.6/dist-packages (from tensorboard<3,>=2.3.0->tensorflow<3.0,>=2.0->kerassurgeon) (1.0.1)\n",
            "Requirement already satisfied: setuptools>=41.0.0 in /usr/local/lib/python3.6/dist-packages (from tensorboard<3,>=2.3.0->tensorflow<3.0,>=2.0->kerassurgeon) (51.0.0)\n",
            "Requirement already satisfied: tensorboard-plugin-wit>=1.6.0 in /usr/local/lib/python3.6/dist-packages (from tensorboard<3,>=2.3.0->tensorflow<3.0,>=2.0->kerassurgeon) (1.7.0)\n",
            "Requirement already satisfied: requests-oauthlib>=0.7.0 in /usr/local/lib/python3.6/dist-packages (from google-auth-oauthlib<0.5,>=0.4.1->tensorboard<3,>=2.3.0->tensorflow<3.0,>=2.0->kerassurgeon) (1.3.0)\n",
            "Requirement already satisfied: cachetools<5.0,>=2.0.0 in /usr/local/lib/python3.6/dist-packages (from google-auth<2,>=1.6.3->tensorboard<3,>=2.3.0->tensorflow<3.0,>=2.0->kerassurgeon) (4.2.0)\n",
            "Requirement already satisfied: rsa<5,>=3.1.4; python_version >= \"3\" in /usr/local/lib/python3.6/dist-packages (from google-auth<2,>=1.6.3->tensorboard<3,>=2.3.0->tensorflow<3.0,>=2.0->kerassurgeon) (4.6)\n",
            "Requirement already satisfied: pyasn1-modules>=0.2.1 in /usr/local/lib/python3.6/dist-packages (from google-auth<2,>=1.6.3->tensorboard<3,>=2.3.0->tensorflow<3.0,>=2.0->kerassurgeon) (0.2.8)\n",
            "Requirement already satisfied: idna<3,>=2.5 in /usr/local/lib/python3.6/dist-packages (from requests<3,>=2.21.0->tensorboard<3,>=2.3.0->tensorflow<3.0,>=2.0->kerassurgeon) (2.10)\n",
            "Requirement already satisfied: urllib3!=1.25.0,!=1.25.1,<1.26,>=1.21.1 in /usr/local/lib/python3.6/dist-packages (from requests<3,>=2.21.0->tensorboard<3,>=2.3.0->tensorflow<3.0,>=2.0->kerassurgeon) (1.24.3)\n",
            "Requirement already satisfied: certifi>=2017.4.17 in /usr/local/lib/python3.6/dist-packages (from requests<3,>=2.21.0->tensorboard<3,>=2.3.0->tensorflow<3.0,>=2.0->kerassurgeon) (2020.12.5)\n",
            "Requirement already satisfied: chardet<4,>=3.0.2 in /usr/local/lib/python3.6/dist-packages (from requests<3,>=2.21.0->tensorboard<3,>=2.3.0->tensorflow<3.0,>=2.0->kerassurgeon) (3.0.4)\n",
            "Requirement already satisfied: oauthlib>=3.0.0 in /usr/local/lib/python3.6/dist-packages (from requests-oauthlib>=0.7.0->google-auth-oauthlib<0.5,>=0.4.1->tensorboard<3,>=2.3.0->tensorflow<3.0,>=2.0->kerassurgeon) (3.1.0)\n",
            "Requirement already satisfied: pyasn1>=0.1.3 in /usr/local/lib/python3.6/dist-packages (from rsa<5,>=3.1.4; python_version >= \"3\"->google-auth<2,>=1.6.3->tensorboard<3,>=2.3.0->tensorflow<3.0,>=2.0->kerassurgeon) (0.4.8)\n"
          ],
          "name": "stdout"
        }
      ]
    },
    {
      "cell_type": "code",
      "metadata": {
        "id": "mSP2S096Xnoq"
      },
      "source": [
        "import numpy as np \r\n",
        "import matplotlib.pyplot as plt\r\n",
        "import tensorflow as tf\r\n",
        "import keras\r\n",
        "import keras.backend as K\r\n",
        "import h5py\r\n",
        "from keras import initializers\r\n",
        "import sys\r\n",
        "import os\r\n",
        "from tqdm.auto import tqdm\r\n",
        "import keract\r\n",
        "from kerassurgeon.operations import delete_channels\r\n",
        "from kerassurgeon.identify import get_apoz\r\n",
        "from kerassurgeon.identify import high_apoz"
      ],
      "execution_count": 2,
      "outputs": []
    },
    {
      "cell_type": "code",
      "metadata": {
        "id": "oEbZxQW5Xp-e"
      },
      "source": [
        "TARGET_LAYER = 7\r\n",
        "PRUNE_NUM = 100\r\n",
        "CLASS_NUM = 1282\r\n",
        "TRAIL_NUM = 1\r\n",
        "EPOCH_NUM = 10\r\n",
        "\r\n",
        "THRES_CONF = 0.99\r\n",
        "THRES_DETECT = 0.91"
      ],
      "execution_count": 11,
      "outputs": []
    },
    {
      "cell_type": "code",
      "metadata": {
        "id": "8ArKKIiVXwlq"
      },
      "source": [
        "def data_loader(filepath):\r\n",
        "    data = h5py.File(filepath, 'r')\r\n",
        "    x_data = np.array(data['data'])\r\n",
        "    y_data = np.array(data['label'])\r\n",
        "    x_data = x_data.transpose((0,2,3,1))\r\n",
        "\r\n",
        "    return x_data, y_data\r\n",
        "\r\n",
        "def data_preprocess(x_data):\r\n",
        "    return x_data/255\r\n",
        "\r\n",
        "def calc_success(y_pred, y_test):\r\n",
        "    return(np.sum(np.equal(y_pred, y_test))/y_test.shape[0]*100)\r\n",
        "\r\n",
        "def model_package(pruned_model, bd_model, x_test):\r\n",
        "    y_pred_badnet = np.argmax(bd_model.predict(x_test), axis=1)\r\n",
        "    y_pred_pruned =  np.argmax(pruned_model.predict(x_test), axis=1)  \r\n",
        "    res = np.zeros((x_test.shape[0]))\r\n",
        "    for i in range(0, x_test.shape[0]):\r\n",
        "        if y_pred_badnet[i] == 0: # backdoor input\r\n",
        "            if y_pred_pruned[i] == 0: # attack success\r\n",
        "                res[i] = 0\r\n",
        "            else:\r\n",
        "                res[i] = CLASS_NUM + 1\r\n",
        "        else:\r\n",
        "            res[i] = y_pred_pruned[i]\r\n",
        "    return res\r\n",
        "\r\n",
        "def model_package2(pruned_model, bd_model, x_test, thres_conf, thres_detect):\r\n",
        "    # probs of each class\r\n",
        "    y_pred_prob_badnet = bd_model.predict(x_test) \r\n",
        "    y_pred_prob_pruned = pruned_model.predict(x_test)\r\n",
        "    \r\n",
        "    # class having max prob\r\n",
        "    y_pred_badnet = np.argmax(y_pred_prob_badnet, axis=1)\r\n",
        "    y_pred_pruned =  np.argmax(y_pred_prob_pruned, axis=1)  \r\n",
        "\r\n",
        "    res = np.zeros((x_test.shape[0]))\r\n",
        "    for i in range(0, x_test.shape[0]):\r\n",
        "        # max prob\r\n",
        "        y_pred_prob_max_badnet = np.max(y_pred_prob_badnet[i])\r\n",
        "        y_pred_prob_max_pruend = np.max(y_pred_prob_pruned[i])\r\n",
        "\r\n",
        "        res[i] = y_pred_badnet[i]\r\n",
        "        # high confident clean or backdoor input\r\n",
        "        if y_pred_prob_max_badnet >= thres_conf:\r\n",
        "            # clean or success attack\r\n",
        "            if y_pred_prob_max_pruend >= thres_conf: \r\n",
        "                if np.equal(y_pred_badnet[i], y_pred_pruned[i]): # both models equal\r\n",
        "                    res[i] = y_pred_pruned[i] # clean input\r\n",
        "                else:\r\n",
        "                    # res[i] = y_pred_pruned[i] # maybe wrong but not backdoored\r\n",
        "                    res[i] = (CLASS_NUM + 1) # uncertained   \r\n",
        "            elif y_pred_prob_max_pruend < thres_conf and y_pred_prob_max_pruend >= thres_detect:\r\n",
        "                # res[i] = (CLASS_NUM + 1) # uncertained   \r\n",
        "                res[i] = y_pred_pruned[i]\r\n",
        "            else:\r\n",
        "                res[i] = (CLASS_NUM + 1)  # backdoor detected\r\n",
        "                # res[i] = y_pred_pruned[i]\r\n",
        "        elif y_pred_prob_max_badnet < thres_conf and y_pred_prob_max_badnet >= thres_detect:\r\n",
        "            if y_pred_prob_max_badnet >= y_pred_prob_max_pruend:\r\n",
        "                res[i] = y_pred_badnet[i]\r\n",
        "            else:\r\n",
        "                res[i] = y_pred_pruned[i]\r\n",
        "        \r\n",
        "        else: \r\n",
        "            if y_pred_prob_max_pruend >= thres_conf:\r\n",
        "                res[i] = y_pred_pruned[i]\r\n",
        "            elif y_pred_prob_max_pruend < thres_conf and y_pred_prob_max_pruend >= thres_detect:\r\n",
        "                res[i] = (CLASS_NUM + 1) # uncertained   \r\n",
        "                # res[i] = y_pred_pruned[i]\r\n",
        "            else:\r\n",
        "                res[i] = (CLASS_NUM + 1)  # backdoor detected\r\n",
        "                # res[i] = y_pred_pruned[i]\r\n",
        "    return res"
      ],
      "execution_count": 12,
      "outputs": []
    },
    {
      "cell_type": "code",
      "metadata": {
        "id": "2qpqpOf6lSxo"
      },
      "source": [
        "def defense_success_rate(y_pred, y_clean, y_bd, isClean):\r\n",
        "    atk_succ = 0\r\n",
        "    def_succ = 0\r\n",
        "    mid_succ = 0\r\n",
        "    mid_fail = 0\r\n",
        "    clean_succ = 0\r\n",
        "    total_num = y_pred.shape[0]\r\n",
        "    for i in range(total_num):\r\n",
        "        if isClean == True:\r\n",
        "            if y_pred[i] == y_clean[i]:\r\n",
        "                clean_succ += 1\r\n",
        "            elif y_pred[i] == 0 and y_clean[i] != 0:\r\n",
        "                atk_succ += 1 # atk triggered\r\n",
        "            elif y_pred[i] == 1283:\r\n",
        "                def_succ += 1 # def triggered\r\n",
        "            else:\r\n",
        "                mid_fail += 1\r\n",
        "        else:\r\n",
        "            if y_pred[i] == 0:\r\n",
        "                atk_succ += 1\r\n",
        "            elif y_pred[i] == 1283:\r\n",
        "                def_succ += 1\r\n",
        "            else:\r\n",
        "                if y_pred[i] == y_clean[i]:\r\n",
        "                    mid_succ += 1\r\n",
        "                else:\r\n",
        "                    mid_fail += 1\r\n",
        "                \r\n",
        "    return atk_succ, def_succ, mid_succ, mid_fail, clean_succ, total_num"
      ],
      "execution_count": 18,
      "outputs": []
    },
    {
      "cell_type": "code",
      "metadata": {
        "id": "p25ajew8Xyss"
      },
      "source": [
        "clean_validation_path = \"/content/drive/MyDrive/GY9163/Final/data/clean_validation_data.h5\"\r\n",
        "clean_test_path = \"/content/drive/MyDrive/GY9163/Final/data/clean_test_data.h5\"\r\n",
        "poisoned_test_path = \"/content/drive/MyDrive/GY9163/Final/data/anonymous_1_poisoned_data.h5\"\r\n",
        "# poisoned_test_path = \"/content/drive/MyDrive/GY9163/Final/data/sunglasses_poisoned_data.h5\"\r\n",
        "# poisoned_model_path = \"/content/drive/MyDrive/GY9163/Final/models/sunglasses_bd_net.h5\"\r\n",
        "poisoned_model_path = \"/content/drive/MyDrive/GY9163/Final/models/anonymous_1_bd_net.h5\""
      ],
      "execution_count": 6,
      "outputs": []
    },
    {
      "cell_type": "code",
      "metadata": {
        "id": "XWe7zex9_RR7"
      },
      "source": [
        "x_val, y_val = data_loader(clean_validation_path)\r\n",
        "x_val = data_preprocess(x_val)\r\n",
        "x_test_clean, y_test_clean = data_loader(clean_test_path)\r\n",
        "x_test_clean = data_preprocess(x_test_clean)\r\n",
        "x_test_sung, y_test_sung = data_loader(poisoned_test_path)\r\n",
        "x_test_sung = data_preprocess(x_test_sung)"
      ],
      "execution_count": 7,
      "outputs": []
    },
    {
      "cell_type": "code",
      "metadata": {
        "id": "z7M_tz4KdzKm"
      },
      "source": [
        "bd_model = keras.models.load_model(poisoned_model_path)"
      ],
      "execution_count": 8,
      "outputs": []
    },
    {
      "cell_type": "code",
      "metadata": {
        "colab": {
          "base_uri": "https://localhost:8080/"
        },
        "id": "AW3AqT0xd65O",
        "outputId": "bcef77e5-0a46-499d-c410-f1b1803b58e9"
      },
      "source": [
        "y_pred_bad_clean = np.argmax(bd_model.predict(x_test_clean), axis=1)\r\n",
        "y_pred_bad_sung =  np.argmax(bd_model.predict(x_test_sung), axis=1)  \r\n",
        "print(calc_success(y_pred_bad_clean, y_test_clean),calc_success(y_pred_bad_sung, y_test_sung))"
      ],
      "execution_count": 9,
      "outputs": [
        {
          "output_type": "stream",
          "text": [
            "97.1862821512081 91.3971161340608\n"
          ],
          "name": "stdout"
        }
      ]
    },
    {
      "cell_type": "code",
      "metadata": {
        "id": "vUfCow61gPgJ"
      },
      "source": [
        "target_layer = bd_model.layers[TARGET_LAYER]\r\n",
        "lst_high_apoz = get_apoz(bd_model, target_layer, x_val, node_indices=None)\r\n",
        "lst_high_apoz = np.argsort(-lst_high_apoz)\r\n",
        "prune_num_total = high_apoz(get_apoz(bd_model, target_layer, x_val, node_indices=None),method='absolute', cutoff_absolute=0.5)\r\n",
        "\r\n",
        "valid_prune_list = []\r\n",
        "\r\n",
        "for n in lst_high_apoz:\r\n",
        "    if n in prune_num_total:\r\n",
        "        valid_prune_list = np.append(valid_prune_list, n)\r\n",
        "valid_prune_list = valid_prune_list.astype(int)"
      ],
      "execution_count": null,
      "outputs": []
    },
    {
      "cell_type": "code",
      "metadata": {
        "colab": {
          "base_uri": "https://localhost:8080/"
        },
        "id": "pGXCXTKJz2_e",
        "outputId": "a1a3508f-9acb-4d48-97d9-908a9f19b720"
      },
      "source": [
        "# Pure Pruning No fitting\r\n",
        "i = 0\r\n",
        "while i< 49:\r\n",
        "    print(i)\r\n",
        "    target_layer = bd_model.layers[5]\r\n",
        "    lst_high_apoz = get_apoz(bd_model, target_layer, x_val, node_indices=None)\r\n",
        "    lst_high_apoz = np.argsort(-lst_high_apoz)\r\n",
        "    prune_num_total = high_apoz(get_apoz(bd_model, target_layer, x_val, node_indices=None),method='absolute', cutoff_absolute=0.5)\r\n",
        "\r\n",
        "    valid_prune_list = []\r\n",
        "\r\n",
        "    for n in lst_high_apoz:\r\n",
        "        if n in prune_num_total:\r\n",
        "            valid_prune_list = np.append(valid_prune_list, n)\r\n",
        "    valid_prune_list = valid_prune_list.astype(int)\r\n",
        "    pruned_model = delete_channels(bd_model, target_layer, valid_prune_list[0:i],copy=True)\r\n",
        "\r\n",
        "    target_layer = pruned_model.layers[7]\r\n",
        "    lst_high_apoz = get_apoz(pruned_model, target_layer, x_val, node_indices=None)\r\n",
        "    lst_high_apoz = np.argsort(-lst_high_apoz)\r\n",
        "    prune_num_total = high_apoz(get_apoz(pruned_model, target_layer, x_val, node_indices=None),method='absolute', cutoff_absolute=0.5)\r\n",
        "\r\n",
        "    valid_prune_list = []\r\n",
        "\r\n",
        "    for n in lst_high_apoz:\r\n",
        "        if n in prune_num_total:\r\n",
        "            valid_prune_list = np.append(valid_prune_list, n)\r\n",
        "    valid_prune_list = valid_prune_list.astype(int)\r\n",
        "    pruned_model = delete_channels(pruned_model, target_layer, valid_prune_list[0:i],copy=True)\r\n",
        "    y_pred_sung = model_package2(pruned_model, bd_model, x_test_sung, 0.99, 0.91)\r\n",
        "    y_pred_clean = model_package2(pruned_model, bd_model, x_test_clean, 0.99, 0.91)\r\n",
        "    attack_success_rate = calc_success(y_pred_sung, y_test_sung)\r\n",
        "    clean_classification_rate = calc_success(y_pred_clean, y_test_clean)\r\n",
        "    print(attack_success_rate)\r\n",
        "    print(clean_classification_rate)\r\n",
        "    i += 8\r\n"
      ],
      "execution_count": null,
      "outputs": [
        {
          "output_type": "stream",
          "text": [
            "0\n",
            "Deleting 0/60 channels from layer: conv_3\n",
            "Deleting 0/80 channels from layer: conv_4\n",
            "90.92946219797349\n",
            "95.44037412314887\n",
            "8\n",
            "Deleting 8/60 channels from layer: conv_3\n",
            "Deleting 8/80 channels from layer: conv_4\n",
            "90.95869056897895\n",
            "95.32346063912705\n",
            "16\n",
            "Deleting 16/60 channels from layer: conv_3\n",
            "Deleting 16/80 channels from layer: conv_4\n",
            "91.06586126266562\n",
            "90.8261886204209\n",
            "24\n",
            "Deleting 24/60 channels from layer: conv_3\n",
            "Deleting 24/80 channels from layer: conv_4\n",
            "89.166017147311\n",
            "76.67186282151208\n",
            "32\n",
            "Deleting 32/60 channels from layer: conv_3\n",
            "Deleting 32/80 channels from layer: conv_4\n",
            "85.51247077162898\n",
            "55.06625097427903\n",
            "40\n",
            "Deleting 40/60 channels from layer: conv_3\n",
            "Deleting 40/80 channels from layer: conv_4\n",
            "34.226422447388934\n",
            "29.033515198752923\n",
            "48\n",
            "Deleting 48/60 channels from layer: conv_3\n",
            "Deleting 46/80 channels from layer: conv_4\n",
            "9.499220576773187\n",
            "7.373343725643024\n"
          ],
          "name": "stdout"
        }
      ]
    },
    {
      "cell_type": "code",
      "metadata": {
        "colab": {
          "base_uri": "https://localhost:8080/"
        },
        "id": "Dv7MyprhwJ0v",
        "outputId": "ae79b8d8-10d3-46df-ee92-6b8e95bb23b4"
      },
      "source": [
        "i = 38\r\n",
        "ASR_lst = []\r\n",
        "CSR_lst = []\r\n",
        "while i< 44:\r\n",
        "    print(i)\r\n",
        "    target_layer = bd_model.layers[5]\r\n",
        "    lst_high_apoz = get_apoz(bd_model, target_layer, x_val, node_indices=None)\r\n",
        "    lst_high_apoz = np.argsort(-lst_high_apoz)\r\n",
        "    prune_num_total = high_apoz(get_apoz(bd_model, target_layer, x_val, node_indices=None),method='absolute', cutoff_absolute=0.5)\r\n",
        "\r\n",
        "    valid_prune_list = []\r\n",
        "\r\n",
        "    for n in lst_high_apoz:\r\n",
        "        if n in prune_num_total:\r\n",
        "            valid_prune_list = np.append(valid_prune_list, n)\r\n",
        "    valid_prune_list = valid_prune_list.astype(int)\r\n",
        "    pruned_model = delete_channels(bd_model, target_layer, valid_prune_list[0:i],copy=True)\r\n",
        "\r\n",
        "    target_layer = pruned_model.layers[7]\r\n",
        "    lst_high_apoz = get_apoz(pruned_model, target_layer, x_val, node_indices=None)\r\n",
        "    lst_high_apoz = np.argsort(-lst_high_apoz)\r\n",
        "    prune_num_total = high_apoz(get_apoz(pruned_model, target_layer, x_val, node_indices=None),method='absolute', cutoff_absolute=0.5)\r\n",
        "\r\n",
        "    valid_prune_list = []\r\n",
        "\r\n",
        "    for n in lst_high_apoz:\r\n",
        "        if n in prune_num_total:\r\n",
        "            valid_prune_list = np.append(valid_prune_list, n)\r\n",
        "    valid_prune_list = valid_prune_list.astype(int)\r\n",
        "    pruned_model = delete_channels(pruned_model, target_layer, valid_prune_list[0:i],copy=True)\r\n",
        "\r\n",
        "    optimizer = keras.optimizers.Adadelta(lr=1)\r\n",
        "    pruned_model.compile(loss ='sparse_categorical_crossentropy', optimizer=optimizer, metrics=['accuracy'])\r\n",
        "    pruned_model.fit(x_val, y_val, epochs = 20, verbose=0)\r\n",
        "\r\n",
        "    y_pred_sung = model_package2(pruned_model, bd_model, x_test_sung, 0.99, 0.91)\r\n",
        "    y_pred_clean = model_package2(pruned_model, bd_model, x_test_clean, 0.99, 0.91)\r\n",
        "    attack_success_rate = calc_success(y_pred_sung, y_test_sung)\r\n",
        "    clean_classification_rate = calc_success(y_pred_clean, y_test_clean)\r\n",
        "    print(attack_success_rate)\r\n",
        "    print(clean_classification_rate)\r\n",
        "    atk_succ, def_succ, mid_succ, mid_fail, clean_succ, total_num = defense_success_rate(y_pred_sung, y_test_clean, y_test_sung, False)\r\n",
        "    print(atk_succ, def_succ, mid_succ, mid_fail, clean_succ, total_num)\r\n",
        "    print(atk_succ/total_num*100, def_succ/total_num*100, mid_succ/total_num*100, mid_fail/total_num*100, clean_succ/total_num*100)\r\n",
        "    atk_succ, def_succ, mid_succ, mid_fail, clean_succ, total_num = defense_success_rate(y_pred_clean, y_test_clean, y_test_sung, True)\r\n",
        "    print(atk_succ, def_succ, mid_succ, mid_fail, clean_succ, total_num)\r\n",
        "    print(atk_succ/total_num*100, def_succ/total_num*100, mid_succ/total_num*100, mid_fail/total_num*100, clean_succ/total_num*100)\r\n",
        "    ASR_lst = np.append(ASR_lst, attack_success_rate)\r\n",
        "    CSR_lst = np.append(CSR_lst, clean_classification_rate)\r\n",
        "    \r\n",
        "    i += 1"
      ],
      "execution_count": 10,
      "outputs": [
        {
          "output_type": "stream",
          "text": [
            "38\n",
            "Deleting 38/60 channels from layer: conv_3\n",
            "Deleting 38/80 channels from layer: conv_4\n",
            "14.292673421667965\n",
            "93.73343725643024\n",
            "1467 6442 0 2355 0 10264\n",
            "14.292673421667965 62.7630553390491 0.0 22.944271239282934 0.0\n",
            "12 650 0 142 12026 12830\n",
            "0.09353078721745908 5.066250974279034 0.0 1.106780982073266 93.73343725643024\n",
            "39\n",
            "Deleting 39/60 channels from layer: conv_3\n",
            "Deleting 39/80 channels from layer: conv_4\n",
            "15.023382696804365\n",
            "93.49961028838659\n",
            "1542 6409 1 2312 0 10264\n",
            "15.023382696804365 62.44154325798908 0.009742790335151987 22.525331254871396 0.0\n",
            "9 680 0 145 11996 12830\n",
            "0.0701480904130943 5.300077942322681 0.0 1.1301636788776306 93.49961028838659\n",
            "40\n",
            "Deleting 40/60 channels from layer: conv_3\n",
            "Deleting 40/80 channels from layer: conv_4\n",
            "0.20459859703819172\n",
            "93.33593141075605\n",
            "21 7826 1 2416 0 10264\n",
            "0.20459859703819172 76.24707716289946 0.009742790335151987 23.538581449727204 0.0\n",
            "13 682 0 160 11975 12830\n",
            "0.10132501948558066 5.3156664068589246 0.0 1.2470771628994544 93.33593141075605\n",
            "41\n",
            "Deleting 41/60 channels from layer: conv_3\n",
            "Deleting 41/80 channels from layer: conv_4\n",
            "0.20459859703819172\n",
            "92.93842556508184\n",
            "21 7947 0 2296 0 10264\n",
            "0.20459859703819172 77.42595479345285 0.0 22.369446609508962 0.0\n",
            "13 752 0 141 11924 12830\n",
            "0.10132501948558066 5.861262665627436 0.0 1.0989867498051442 92.93842556508184\n",
            "42\n",
            "Deleting 42/60 channels from layer: conv_3\n",
            "Deleting 42/80 channels from layer: conv_4\n",
            "0.1558846453624318\n",
            "92.65003897116134\n",
            "16 7686 1 2561 0 10264\n",
            "0.1558846453624318 74.88308651597818 0.009742790335151987 24.95128604832424 0.0\n",
            "13 768 0 162 11887 12830\n",
            "0.10132501948558066 5.985970381917381 0.0 1.2626656274356975 92.65003897116134\n",
            "43\n",
            "Deleting 43/60 channels from layer: conv_3\n",
            "Deleting 43/80 channels from layer: conv_4\n",
            "0.17537022603273578\n",
            "92.09664848012471\n",
            "18 8101 1 2144 0 10264\n",
            "0.17537022603273578 78.92634450506625 0.009742790335151987 20.88854247856586 0.0\n",
            "11 819 0 184 11816 12830\n",
            "0.08573655494933749 6.383476227591582 0.0 1.4341387373343726 92.09664848012471\n"
          ],
          "name": "stdout"
        }
      ]
    },
    {
      "cell_type": "code",
      "metadata": {
        "colab": {
          "base_uri": "https://localhost:8080/"
        },
        "id": "ErKjLTaW3zB1",
        "outputId": "006db850-ada6-45e4-8b05-5ac8250ee46a"
      },
      "source": [
        "optimizer = keras.optimizers.Adadelta(lr=1)\r\n",
        "pruned_model.compile(loss ='sparse_categorical_crossentropy', optimizer=optimizer, metrics=['accuracy'])\r\n",
        "pruned_model.fit(x_val, y_val, epochs = 50, verbose=1)"
      ],
      "execution_count": null,
      "outputs": [
        {
          "output_type": "stream",
          "text": [
            "Epoch 1/50\n",
            "361/361 [==============================] - 1s 4ms/step - loss: 1.0229 - accuracy: 0.7742\n",
            "Epoch 2/50\n",
            "361/361 [==============================] - 1s 4ms/step - loss: 0.2868 - accuracy: 0.9361\n",
            "Epoch 3/50\n",
            "361/361 [==============================] - 1s 4ms/step - loss: 0.1693 - accuracy: 0.9604\n",
            "Epoch 4/50\n",
            "361/361 [==============================] - 1s 4ms/step - loss: 0.0916 - accuracy: 0.9786\n",
            "Epoch 5/50\n",
            "361/361 [==============================] - 1s 4ms/step - loss: 0.0557 - accuracy: 0.9868\n",
            "Epoch 6/50\n",
            "361/361 [==============================] - 1s 4ms/step - loss: 0.0383 - accuracy: 0.9907\n",
            "Epoch 7/50\n",
            "361/361 [==============================] - 1s 4ms/step - loss: 0.0210 - accuracy: 0.9947\n",
            "Epoch 8/50\n",
            "361/361 [==============================] - 1s 4ms/step - loss: 0.0205 - accuracy: 0.9948\n",
            "Epoch 9/50\n",
            "361/361 [==============================] - 1s 4ms/step - loss: 0.0128 - accuracy: 0.9968\n",
            "Epoch 10/50\n",
            "361/361 [==============================] - 1s 4ms/step - loss: 0.0156 - accuracy: 0.9964\n",
            "Epoch 11/50\n",
            "361/361 [==============================] - 1s 4ms/step - loss: 0.0088 - accuracy: 0.9979\n",
            "Epoch 12/50\n",
            "361/361 [==============================] - 1s 4ms/step - loss: 0.0116 - accuracy: 0.9972\n",
            "Epoch 13/50\n",
            "361/361 [==============================] - 1s 4ms/step - loss: 0.0095 - accuracy: 0.9977\n",
            "Epoch 14/50\n",
            "361/361 [==============================] - 1s 4ms/step - loss: 0.0087 - accuracy: 0.9984\n",
            "Epoch 15/50\n",
            "361/361 [==============================] - 1s 4ms/step - loss: 0.0072 - accuracy: 0.9979\n",
            "Epoch 16/50\n",
            "361/361 [==============================] - 1s 4ms/step - loss: 0.0054 - accuracy: 0.9987\n",
            "Epoch 17/50\n",
            "361/361 [==============================] - 1s 4ms/step - loss: 0.0045 - accuracy: 0.9994\n",
            "Epoch 18/50\n",
            "361/361 [==============================] - 1s 4ms/step - loss: 0.0065 - accuracy: 0.9989\n",
            "Epoch 19/50\n",
            "361/361 [==============================] - 1s 4ms/step - loss: 0.0056 - accuracy: 0.9990\n",
            "Epoch 20/50\n",
            "361/361 [==============================] - 1s 4ms/step - loss: 0.0037 - accuracy: 0.9993\n",
            "Epoch 21/50\n",
            "361/361 [==============================] - 1s 4ms/step - loss: 0.0046 - accuracy: 0.9992\n",
            "Epoch 22/50\n",
            "361/361 [==============================] - 1s 4ms/step - loss: 0.0040 - accuracy: 0.9993\n",
            "Epoch 23/50\n",
            "361/361 [==============================] - 1s 4ms/step - loss: 0.0025 - accuracy: 0.9995\n",
            "Epoch 24/50\n",
            "361/361 [==============================] - 1s 4ms/step - loss: 0.0044 - accuracy: 0.9994\n",
            "Epoch 25/50\n",
            "361/361 [==============================] - 1s 4ms/step - loss: 0.0032 - accuracy: 0.9995\n",
            "Epoch 26/50\n",
            "361/361 [==============================] - 1s 4ms/step - loss: 9.0037e-04 - accuracy: 0.9997\n",
            "Epoch 27/50\n",
            "361/361 [==============================] - 1s 4ms/step - loss: 0.0041 - accuracy: 0.9995\n",
            "Epoch 28/50\n",
            "361/361 [==============================] - 1s 4ms/step - loss: 0.0034 - accuracy: 0.9991\n",
            "Epoch 29/50\n",
            "361/361 [==============================] - 1s 4ms/step - loss: 0.0033 - accuracy: 0.9993\n",
            "Epoch 30/50\n",
            "361/361 [==============================] - 1s 4ms/step - loss: 0.0037 - accuracy: 0.9995\n",
            "Epoch 31/50\n",
            "361/361 [==============================] - 1s 4ms/step - loss: 0.0021 - accuracy: 0.9997\n",
            "Epoch 32/50\n",
            "361/361 [==============================] - 1s 4ms/step - loss: 0.0030 - accuracy: 0.9993\n",
            "Epoch 33/50\n",
            "361/361 [==============================] - 1s 4ms/step - loss: 0.0030 - accuracy: 0.9997\n",
            "Epoch 34/50\n",
            "361/361 [==============================] - 1s 4ms/step - loss: 0.0028 - accuracy: 0.9995\n",
            "Epoch 35/50\n",
            "361/361 [==============================] - 1s 4ms/step - loss: 0.0037 - accuracy: 0.9992\n",
            "Epoch 36/50\n",
            "361/361 [==============================] - 1s 4ms/step - loss: 0.0020 - accuracy: 0.9997\n",
            "Epoch 37/50\n",
            "361/361 [==============================] - 1s 4ms/step - loss: 0.0026 - accuracy: 0.9995\n",
            "Epoch 38/50\n",
            "361/361 [==============================] - 1s 4ms/step - loss: 0.0024 - accuracy: 0.9995\n",
            "Epoch 39/50\n",
            "361/361 [==============================] - 1s 4ms/step - loss: 0.0027 - accuracy: 0.9995\n",
            "Epoch 40/50\n",
            "361/361 [==============================] - 1s 4ms/step - loss: 0.0014 - accuracy: 0.9998\n",
            "Epoch 41/50\n",
            "361/361 [==============================] - 1s 4ms/step - loss: 0.0020 - accuracy: 0.9997\n",
            "Epoch 42/50\n",
            "361/361 [==============================] - 1s 4ms/step - loss: 0.0014 - accuracy: 0.9997\n",
            "Epoch 43/50\n",
            "361/361 [==============================] - 1s 4ms/step - loss: 0.0021 - accuracy: 0.9997\n",
            "Epoch 44/50\n",
            "361/361 [==============================] - 1s 4ms/step - loss: 0.0024 - accuracy: 0.9997\n",
            "Epoch 45/50\n",
            "361/361 [==============================] - 1s 4ms/step - loss: 0.0022 - accuracy: 0.9997\n",
            "Epoch 46/50\n",
            "361/361 [==============================] - 1s 4ms/step - loss: 0.0017 - accuracy: 0.9998\n",
            "Epoch 47/50\n",
            "361/361 [==============================] - 1s 4ms/step - loss: 0.0020 - accuracy: 0.9997\n",
            "Epoch 48/50\n",
            "361/361 [==============================] - 1s 4ms/step - loss: 0.0013 - accuracy: 0.9998\n",
            "Epoch 49/50\n",
            "361/361 [==============================] - 1s 4ms/step - loss: 0.0022 - accuracy: 0.9996\n",
            "Epoch 50/50\n",
            "361/361 [==============================] - 1s 4ms/step - loss: 0.0019 - accuracy: 0.9996\n"
          ],
          "name": "stdout"
        },
        {
          "output_type": "execute_result",
          "data": {
            "text/plain": [
              "<tensorflow.python.keras.callbacks.History at 0x7ff597f815c0>"
            ]
          },
          "metadata": {
            "tags": []
          },
          "execution_count": 12
        }
      ]
    },
    {
      "cell_type": "code",
      "metadata": {
        "colab": {
          "base_uri": "https://localhost:8080/"
        },
        "id": "tfIxxISSfWDQ",
        "outputId": "4c6956cd-f0ab-405a-a872-1a2b374dbefa"
      },
      "source": [
        "target_layer = pruned_model.layers[7]\r\n",
        "pruned_model = delete_channels(bd_model, target_layer, valid_prune_list[0:70],copy=True)\r\n",
        "optimizer = keras.optimizers.Adadelta(lr=1)\r\n",
        "pruned_model.compile(loss ='sparse_categorical_crossentropy', optimizer=optimizer, metrics=['accuracy'])\r\n",
        "pruned_model.fit(x_val, y_val, epochs = 30, verbose=1)"
      ],
      "execution_count": null,
      "outputs": [
        {
          "output_type": "stream",
          "text": [
            "Deleting 48/80 channels from layer: conv_4\n",
            "Epoch 1/30\n",
            "361/361 [==============================] - 2s 4ms/step - loss: 0.3555 - accuracy: 0.9292\n",
            "Epoch 2/30\n",
            "361/361 [==============================] - 1s 4ms/step - loss: 0.1256 - accuracy: 0.9777\n",
            "Epoch 3/30\n",
            "361/361 [==============================] - 1s 4ms/step - loss: 0.0729 - accuracy: 0.9868\n",
            "Epoch 4/30\n",
            "361/361 [==============================] - 1s 4ms/step - loss: 0.0402 - accuracy: 0.9927\n",
            "Epoch 5/30\n",
            "361/361 [==============================] - 1s 4ms/step - loss: 0.0230 - accuracy: 0.9946\n",
            "Epoch 6/30\n",
            "361/361 [==============================] - 1s 4ms/step - loss: 0.0147 - accuracy: 0.9967\n",
            "Epoch 7/30\n",
            "361/361 [==============================] - 1s 4ms/step - loss: 0.0069 - accuracy: 0.9982\n",
            "Epoch 8/30\n",
            "361/361 [==============================] - 1s 4ms/step - loss: 0.0082 - accuracy: 0.9978\n",
            "Epoch 9/30\n",
            "361/361 [==============================] - 1s 4ms/step - loss: 0.0062 - accuracy: 0.9987\n",
            "Epoch 10/30\n",
            "361/361 [==============================] - 1s 4ms/step - loss: 0.0041 - accuracy: 0.9990\n",
            "Epoch 11/30\n",
            "361/361 [==============================] - 1s 4ms/step - loss: 0.0048 - accuracy: 0.9990\n",
            "Epoch 12/30\n",
            "361/361 [==============================] - 1s 4ms/step - loss: 0.0025 - accuracy: 0.9993\n",
            "Epoch 13/30\n",
            "361/361 [==============================] - 1s 4ms/step - loss: 0.0032 - accuracy: 0.9995\n",
            "Epoch 14/30\n",
            "361/361 [==============================] - 1s 4ms/step - loss: 0.0025 - accuracy: 0.9995\n",
            "Epoch 15/30\n",
            "361/361 [==============================] - 1s 4ms/step - loss: 0.0033 - accuracy: 0.9992\n",
            "Epoch 16/30\n",
            "361/361 [==============================] - 1s 4ms/step - loss: 0.0028 - accuracy: 0.9994\n",
            "Epoch 17/30\n",
            "361/361 [==============================] - 1s 4ms/step - loss: 0.0034 - accuracy: 0.9993\n",
            "Epoch 18/30\n",
            "361/361 [==============================] - 1s 4ms/step - loss: 0.0030 - accuracy: 0.9992\n",
            "Epoch 19/30\n",
            "361/361 [==============================] - 1s 4ms/step - loss: 0.0013 - accuracy: 0.9996\n",
            "Epoch 20/30\n",
            "361/361 [==============================] - 1s 4ms/step - loss: 0.0018 - accuracy: 0.9996\n",
            "Epoch 21/30\n",
            "361/361 [==============================] - 1s 4ms/step - loss: 0.0020 - accuracy: 0.9993\n",
            "Epoch 22/30\n",
            "361/361 [==============================] - 1s 4ms/step - loss: 0.0028 - accuracy: 0.9996\n",
            "Epoch 23/30\n",
            "361/361 [==============================] - 1s 4ms/step - loss: 0.0024 - accuracy: 0.9994\n",
            "Epoch 24/30\n",
            "361/361 [==============================] - 1s 4ms/step - loss: 0.0021 - accuracy: 0.9992\n",
            "Epoch 25/30\n",
            "361/361 [==============================] - 1s 4ms/step - loss: 0.0017 - accuracy: 0.9997\n",
            "Epoch 26/30\n",
            "361/361 [==============================] - 1s 4ms/step - loss: 0.0014 - accuracy: 0.9996\n",
            "Epoch 27/30\n",
            "361/361 [==============================] - 1s 4ms/step - loss: 0.0026 - accuracy: 0.9996\n",
            "Epoch 28/30\n",
            "361/361 [==============================] - 1s 4ms/step - loss: 0.0010 - accuracy: 0.9997\n",
            "Epoch 29/30\n",
            "361/361 [==============================] - 1s 4ms/step - loss: 0.0017 - accuracy: 0.9997\n",
            "Epoch 30/30\n",
            "361/361 [==============================] - 1s 4ms/step - loss: 8.7161e-04 - accuracy: 0.9997\n"
          ],
          "name": "stdout"
        },
        {
          "output_type": "execute_result",
          "data": {
            "text/plain": [
              "<tensorflow.python.keras.callbacks.History at 0x7f3a1e2a6a58>"
            ]
          },
          "metadata": {
            "tags": []
          },
          "execution_count": 143
        }
      ]
    },
    {
      "cell_type": "code",
      "metadata": {
        "colab": {
          "base_uri": "https://localhost:8080/"
        },
        "id": "Fg2b-44WjdIP",
        "outputId": "21fac63e-55d5-407c-de2a-456aaba1dff3"
      },
      "source": [
        "y_pred_sung = model_package2(pruned_model, bd_model, x_test_sung, 0.99, 0.91)\r\n",
        "y_pred_clean = model_package2(pruned_model, bd_model, x_test_clean, 0.99, 0.91)\r\n",
        "attack_success_rate = calc_success(y_pred_sung, y_test_sung)\r\n",
        "clean_classification_rate = calc_success(y_pred_clean, y_test_clean)\r\n",
        "print(attack_success_rate)\r\n",
        "print(clean_classification_rate)"
      ],
      "execution_count": 16,
      "outputs": [
        {
          "output_type": "stream",
          "text": [
            "0.17537022603273578\n",
            "92.09664848012471\n"
          ],
          "name": "stdout"
        }
      ]
    },
    {
      "cell_type": "code",
      "metadata": {
        "colab": {
          "base_uri": "https://localhost:8080/"
        },
        "id": "64nw8_lImKEn",
        "outputId": "daec0435-8c81-43b3-a47b-8d1843b3eae6"
      },
      "source": [
        "atk_succ, def_succ, mid_succ, mid_fail, clean_succ, total_num = defense_success_rate(y_pred_sung, y_test_clean, y_test_sung, False)\r\n",
        "print(atk_succ, def_succ, mid_succ, mid_fail, clean_succ, total_num)\r\n",
        "print(atk_succ/total_num*100, def_succ/total_num*100, mid_succ/total_num*100, mid_fail/total_num*100, clean_succ/total_num*100)\r\n",
        "atk_succ, def_succ, mid_succ, mid_fail, clean_succ, total_num = defense_success_rate(y_pred_clean, y_test_clean, y_test_sung, True)\r\n",
        "print(atk_succ, def_succ, mid_succ, mid_fail, clean_succ, total_num)\r\n",
        "print(atk_succ/total_num*100, def_succ/total_num*100, mid_succ/total_num*100, mid_fail/total_num*100, clean_succ/total_num*100)"
      ],
      "execution_count": 19,
      "outputs": [
        {
          "output_type": "stream",
          "text": [
            "18 8101 1 2144 0 10264\n",
            "0.17537022603273578 78.92634450506625 0.009742790335151987 20.88854247856586 0.0\n",
            "11 819 0 184 11816 12830\n",
            "0.08573655494933749 6.383476227591582 0.0 1.4341387373343726 92.09664848012471\n"
          ],
          "name": "stdout"
        }
      ]
    },
    {
      "cell_type": "code",
      "metadata": {
        "id": "Lm1RvJ3_6GML"
      },
      "source": [
        "!mkdir -p saved_model\r\n",
        "pruned_model.save('saved_model/B2_01_91.h5') "
      ],
      "execution_count": 15,
      "outputs": []
    },
    {
      "cell_type": "code",
      "metadata": {
        "colab": {
          "base_uri": "https://localhost:8080/"
        },
        "id": "GqT2hEw5fVqw",
        "outputId": "1c36493a-d0ce-4974-e998-ed23d617c89e"
      },
      "source": [
        "NN = 7\r\n",
        "out_c = pruned_model.predict(np.expand_dims(x_test_clean[NN], axis=0))\r\n",
        "kkkk = np.sort(out_c, axis=1)\r\n",
        "out_c_pred = np.argmax(out_c, axis=1)\r\n",
        "print(out_c_pred, out_c[0,out_c_pred])\r\n",
        "print(kkkk)\r\n",
        "\r\n",
        "out_c = bd_model.predict(np.expand_dims(x_test_clean[NN], axis=0))\r\n",
        "kkkk = np.sort(out_c, axis=1)\r\n",
        "out_c_pred = np.argmax(out_c, axis=1)\r\n",
        "print(out_c_pred, out_c[0,out_c_pred])\r\n",
        "print(kkkk)\r\n",
        "\r\n",
        "out_p = pruned_model.predict(np.expand_dims(x_test_sung[NN], axis=0))\r\n",
        "kkkk = np.sort(out_p, axis=1)\r\n",
        "out_p_pred = np.argmax(out_p, axis=1)\r\n",
        "print(out_p_pred, out_p[0,out_p_pred])\r\n",
        "print(kkkk)\r\n",
        "\r\n",
        "out_c = bd_model.predict(np.expand_dims(x_test_sung[NN], axis=0))\r\n",
        "kkkk = np.sort(out_c, axis=1)\r\n",
        "out_c_pred = np.argmax(out_c, axis=1)\r\n",
        "print(out_c_pred, out_c[0,out_c_pred])\r\n",
        "print(kkkk)\r\n",
        "\r\n",
        "print(y_test_clean[NN])"
      ],
      "execution_count": null,
      "outputs": [
        {
          "output_type": "stream",
          "text": [
            "[287] [0.999894]\n",
            "[[0.0000000e+00 0.0000000e+00 1.6259824e-36 ... 3.1745589e-05\n",
            "  3.2120715e-05 9.9989402e-01]]\n",
            "[287] [0.999987]\n",
            "[[0.000000e+00 0.000000e+00 0.000000e+00 ... 3.467170e-06 5.200512e-06\n",
            "  9.999870e-01]]\n",
            "[952] [1.]\n",
            "[[1.9232238e-38 2.5711929e-38 2.7341732e-37 ... 3.6555088e-09\n",
            "  6.1222809e-09 1.0000000e+00]]\n",
            "[952] [0.9964445]\n",
            "[[0.00000000e+00 1.39089825e-37 9.45890992e-37 ... 1.12565895e-05\n",
            "  3.54329194e-03 9.96444523e-01]]\n",
            "287\n"
          ],
          "name": "stdout"
        }
      ]
    },
    {
      "cell_type": "code",
      "metadata": {
        "colab": {
          "base_uri": "https://localhost:8080/",
          "height": 1000
        },
        "id": "VrcCFttd_c_I",
        "outputId": "1698a981-9423-471a-9a29-0d04e5fb5eab"
      },
      "source": [
        "target_layer = bd_model.layers[TARGET_LAYER]\r\n",
        "\r\n",
        "cutoff_stds = [3, 2.5, 2, 1.5, 1.2, 1, 0.8, 0.6, 0.4]\r\n",
        "pruned_neurons_count_list = []\r\n",
        "attack_success_rate_list = []\r\n",
        "clean_classification_rate_list = []\r\n",
        "\r\n",
        "lst_high_apoz = get_apoz(bd_model, target_layer, x_val, node_indices=None)\r\n",
        "lst_high_apoz = np.argsort(-lst_high_apoz)\r\n",
        "prune_num_total = high_apoz(get_apoz(bd_model, target_layer, x_val, node_indices=None),method='absolute', cutoff_absolute=0.5)\r\n",
        "\r\n",
        "valid_prune_list = []\r\n",
        "\r\n",
        "for n in lst_high_apoz:\r\n",
        "    if n in prune_num_total:\r\n",
        "        valid_prune_list = np.append(valid_prune_list, n)\r\n",
        "valid_prune_list = valid_prune_list.astype(int)\r\n",
        "print(type(valid_prune_list[0]))\r\n",
        "n = 0\r\n",
        "while n < len(prune_num_total):\r\n",
        "    attack_success_rate_sum = 0\r\n",
        "    clean_classification_rate_sum = 0\r\n",
        "\r\n",
        "    prune_num = n\r\n",
        "    pruned_neurons_count_list = np.append(pruned_neurons_count_list, prune_num)\r\n",
        "    # pruned_model = delete_channels(bd_model, target_layer, valid_prune_list[0:prune_num],copy=True)\r\n",
        "\r\n",
        "    # optimizer = keras.optimizers.Adadelta(lr=1)\r\n",
        "    # pruned_model.compile(loss ='sparse_categorical_crossentropy', optimizer=optimizer, metrics=['accuracy'])\r\n",
        "    for i in range(0,TRAIL_NUM):\r\n",
        "\r\n",
        "        pruned_model = delete_channels(bd_model, target_layer, valid_prune_list[0:prune_num],copy=True)\r\n",
        "        optimizer = keras.optimizers.Adadelta(lr=1)\r\n",
        "        pruned_model.compile(loss ='sparse_categorical_crossentropy', optimizer=optimizer, metrics=['accuracy'])\r\n",
        "        pruned_model.fit(x_val, y_val, epochs = EPOCH_NUM, verbose=1)\r\n",
        "\r\n",
        "        y_pred_sung = model_package2(pruned_model, bd_model, x_test_sung, 0.99, 0.91)\r\n",
        "        y_pred_clean = model_package2(pruned_model, bd_model, x_test_clean, 0.99, 0.91)\r\n",
        "        attack_success_rate = calc_success(y_pred_sung, y_test_sung)\r\n",
        "        clean_classification_rate = calc_success(y_pred_clean, y_test_clean)\r\n",
        "\r\n",
        "        attack_success_rate_sum += attack_success_rate\r\n",
        "        clean_classification_rate_sum += clean_classification_rate\r\n",
        "\r\n",
        "\r\n",
        "    attack_success_rate_list = np.append(attack_success_rate_list, attack_success_rate_sum/TRAIL_NUM)\r\n",
        "    clean_classification_rate_list = np.append(clean_classification_rate_list, clean_classification_rate_sum/TRAIL_NUM)\r\n",
        "    print(\"attack_success_rate: \",attack_success_rate_list)\r\n",
        "    print(\"clean_classification_rate: \",clean_classification_rate_list)\r\n",
        "\r\n",
        "    # y_pred_sung = model_package(pruned_model, bd_model, x_test_sung)\r\n",
        "    # y_pred_clean = model_package(pruned_model, bd_model, x_test_clean)\r\n",
        "    # attack_success_rate = calc_success(y_pred_sung, y_test_sung)\r\n",
        "    # clean_classification_rate = calc_success(y_pred_clean, y_test_clean)\r\n",
        "\r\n",
        "    # attack_success_rate_list = np.append(attack_success_rate_list, attack_success_rate)\r\n",
        "    # clean_classification_rate_list = np.append(clean_classification_rate_list, clean_classification_rate)\r\n",
        "\r\n",
        "    # print(\"attack_success_rate: \",attack_success_rate)\r\n",
        "    # print(\"clean_classification_rate: \",clean_classification_rate)\r\n",
        "\r\n",
        "    n += 8"
      ],
      "execution_count": null,
      "outputs": [
        {
          "output_type": "stream",
          "text": [
            "<class 'numpy.int64'>\n",
            "Deleting 0/80 channels from layer: conv_4\n",
            "Epoch 1/10\n",
            "361/361 [==============================] - 1s 4ms/step - loss: 0.2951 - accuracy: 0.9504\n",
            "Epoch 2/10\n",
            "361/361 [==============================] - 1s 4ms/step - loss: 0.1124 - accuracy: 0.9815\n",
            "Epoch 3/10\n",
            "361/361 [==============================] - 1s 4ms/step - loss: 0.0600 - accuracy: 0.9890\n",
            "Epoch 4/10\n",
            "361/361 [==============================] - 1s 4ms/step - loss: 0.0320 - accuracy: 0.9933\n",
            "Epoch 5/10\n",
            "361/361 [==============================] - 1s 4ms/step - loss: 0.0150 - accuracy: 0.9964\n",
            "Epoch 6/10\n",
            "361/361 [==============================] - 1s 4ms/step - loss: 0.0081 - accuracy: 0.9976\n",
            "Epoch 7/10\n",
            "361/361 [==============================] - 1s 4ms/step - loss: 0.0081 - accuracy: 0.9982\n",
            "Epoch 8/10\n",
            "361/361 [==============================] - 1s 4ms/step - loss: 0.0032 - accuracy: 0.9990\n",
            "Epoch 9/10\n",
            "361/361 [==============================] - 1s 4ms/step - loss: 0.0035 - accuracy: 0.9992\n",
            "Epoch 10/10\n",
            "361/361 [==============================] - 1s 4ms/step - loss: 0.0032 - accuracy: 0.9990\n",
            "attack_success_rate:  [63.46453624]\n",
            "clean_classification_rate:  [92.01870616]\n",
            "Deleting 8/80 channels from layer: conv_4\n",
            "Epoch 1/10\n",
            "361/361 [==============================] - 1s 4ms/step - loss: 0.2963 - accuracy: 0.9470\n",
            "Epoch 2/10\n",
            "361/361 [==============================] - 1s 4ms/step - loss: 0.1120 - accuracy: 0.9796\n",
            "Epoch 3/10\n",
            "361/361 [==============================] - 1s 4ms/step - loss: 0.0541 - accuracy: 0.9904\n",
            "Epoch 4/10\n",
            "361/361 [==============================] - 1s 4ms/step - loss: 0.0363 - accuracy: 0.9918\n",
            "Epoch 5/10\n",
            "361/361 [==============================] - 1s 4ms/step - loss: 0.0172 - accuracy: 0.9951\n",
            "Epoch 6/10\n",
            "361/361 [==============================] - 1s 4ms/step - loss: 0.0092 - accuracy: 0.9971\n",
            "Epoch 7/10\n",
            "361/361 [==============================] - 1s 4ms/step - loss: 0.0089 - accuracy: 0.9971\n",
            "Epoch 8/10\n",
            "361/361 [==============================] - 1s 4ms/step - loss: 0.0044 - accuracy: 0.9988\n",
            "Epoch 9/10\n",
            "361/361 [==============================] - 1s 4ms/step - loss: 0.0064 - accuracy: 0.9986\n",
            "Epoch 10/10\n",
            "361/361 [==============================] - 1s 4ms/step - loss: 0.0030 - accuracy: 0.9994\n"
          ],
          "name": "stdout"
        },
        {
          "output_type": "error",
          "ename": "KeyboardInterrupt",
          "evalue": "ignored",
          "traceback": [
            "\u001b[0;31m---------------------------------------------------------------------------\u001b[0m",
            "\u001b[0;31mKeyboardInterrupt\u001b[0m                         Traceback (most recent call last)",
            "\u001b[0;32m<ipython-input-19-d3094df16ecf>\u001b[0m in \u001b[0;36m<module>\u001b[0;34m()\u001b[0m\n\u001b[1;32m     35\u001b[0m         \u001b[0mpruned_model\u001b[0m\u001b[0;34m.\u001b[0m\u001b[0mfit\u001b[0m\u001b[0;34m(\u001b[0m\u001b[0mx_val\u001b[0m\u001b[0;34m,\u001b[0m \u001b[0my_val\u001b[0m\u001b[0;34m,\u001b[0m \u001b[0mepochs\u001b[0m \u001b[0;34m=\u001b[0m \u001b[0mEPOCH_NUM\u001b[0m\u001b[0;34m,\u001b[0m \u001b[0mverbose\u001b[0m\u001b[0;34m=\u001b[0m\u001b[0;36m1\u001b[0m\u001b[0;34m)\u001b[0m\u001b[0;34m\u001b[0m\u001b[0;34m\u001b[0m\u001b[0m\n\u001b[1;32m     36\u001b[0m \u001b[0;34m\u001b[0m\u001b[0m\n\u001b[0;32m---> 37\u001b[0;31m         \u001b[0my_pred_sung\u001b[0m \u001b[0;34m=\u001b[0m \u001b[0mmodel_package2\u001b[0m\u001b[0;34m(\u001b[0m\u001b[0mpruned_model\u001b[0m\u001b[0;34m,\u001b[0m \u001b[0mbd_model\u001b[0m\u001b[0;34m,\u001b[0m \u001b[0mx_test_sung\u001b[0m\u001b[0;34m)\u001b[0m\u001b[0;34m\u001b[0m\u001b[0;34m\u001b[0m\u001b[0m\n\u001b[0m\u001b[1;32m     38\u001b[0m         \u001b[0my_pred_clean\u001b[0m \u001b[0;34m=\u001b[0m \u001b[0mmodel_package2\u001b[0m\u001b[0;34m(\u001b[0m\u001b[0mpruned_model\u001b[0m\u001b[0;34m,\u001b[0m \u001b[0mbd_model\u001b[0m\u001b[0;34m,\u001b[0m \u001b[0mx_test_clean\u001b[0m\u001b[0;34m)\u001b[0m\u001b[0;34m\u001b[0m\u001b[0;34m\u001b[0m\u001b[0m\n\u001b[1;32m     39\u001b[0m         \u001b[0mattack_success_rate\u001b[0m \u001b[0;34m=\u001b[0m \u001b[0mcalc_success\u001b[0m\u001b[0;34m(\u001b[0m\u001b[0my_pred_sung\u001b[0m\u001b[0;34m,\u001b[0m \u001b[0my_test_sung\u001b[0m\u001b[0;34m)\u001b[0m\u001b[0;34m\u001b[0m\u001b[0;34m\u001b[0m\u001b[0m\n",
            "\u001b[0;32m<ipython-input-3-e3fd46f4c7f5>\u001b[0m in \u001b[0;36mmodel_package2\u001b[0;34m(pruned_model, bd_model, x_test)\u001b[0m\n\u001b[1;32m     30\u001b[0m     \u001b[0;31m# probs of each class\u001b[0m\u001b[0;34m\u001b[0m\u001b[0;34m\u001b[0m\u001b[0;34m\u001b[0m\u001b[0m\n\u001b[1;32m     31\u001b[0m     \u001b[0my_pred_prob_badnet\u001b[0m \u001b[0;34m=\u001b[0m \u001b[0mbd_model\u001b[0m\u001b[0;34m.\u001b[0m\u001b[0mpredict\u001b[0m\u001b[0;34m(\u001b[0m\u001b[0mx_test\u001b[0m\u001b[0;34m)\u001b[0m\u001b[0;34m\u001b[0m\u001b[0;34m\u001b[0m\u001b[0m\n\u001b[0;32m---> 32\u001b[0;31m     \u001b[0my_pred_prob_pruned\u001b[0m \u001b[0;34m=\u001b[0m \u001b[0mpruned_model\u001b[0m\u001b[0;34m.\u001b[0m\u001b[0mpredict\u001b[0m\u001b[0;34m(\u001b[0m\u001b[0mx_test\u001b[0m\u001b[0;34m)\u001b[0m\u001b[0;34m\u001b[0m\u001b[0;34m\u001b[0m\u001b[0m\n\u001b[0m\u001b[1;32m     33\u001b[0m \u001b[0;34m\u001b[0m\u001b[0m\n\u001b[1;32m     34\u001b[0m     \u001b[0;31m# class having max prob\u001b[0m\u001b[0;34m\u001b[0m\u001b[0;34m\u001b[0m\u001b[0;34m\u001b[0m\u001b[0m\n",
            "\u001b[0;32m/usr/local/lib/python3.6/dist-packages/tensorflow/python/keras/engine/training.py\u001b[0m in \u001b[0;36m_method_wrapper\u001b[0;34m(self, *args, **kwargs)\u001b[0m\n\u001b[1;32m    128\u001b[0m       raise ValueError('{} is not supported in multi-worker mode.'.format(\n\u001b[1;32m    129\u001b[0m           method.__name__))\n\u001b[0;32m--> 130\u001b[0;31m     \u001b[0;32mreturn\u001b[0m \u001b[0mmethod\u001b[0m\u001b[0;34m(\u001b[0m\u001b[0mself\u001b[0m\u001b[0;34m,\u001b[0m \u001b[0;34m*\u001b[0m\u001b[0margs\u001b[0m\u001b[0;34m,\u001b[0m \u001b[0;34m**\u001b[0m\u001b[0mkwargs\u001b[0m\u001b[0;34m)\u001b[0m\u001b[0;34m\u001b[0m\u001b[0;34m\u001b[0m\u001b[0m\n\u001b[0m\u001b[1;32m    131\u001b[0m \u001b[0;34m\u001b[0m\u001b[0m\n\u001b[1;32m    132\u001b[0m   return tf_decorator.make_decorator(\n",
            "\u001b[0;32m/usr/local/lib/python3.6/dist-packages/tensorflow/python/keras/engine/training.py\u001b[0m in \u001b[0;36mpredict\u001b[0;34m(self, x, batch_size, verbose, steps, callbacks, max_queue_size, workers, use_multiprocessing)\u001b[0m\n\u001b[1;32m   1577\u001b[0m           \u001b[0muse_multiprocessing\u001b[0m\u001b[0;34m=\u001b[0m\u001b[0muse_multiprocessing\u001b[0m\u001b[0;34m,\u001b[0m\u001b[0;34m\u001b[0m\u001b[0;34m\u001b[0m\u001b[0m\n\u001b[1;32m   1578\u001b[0m           \u001b[0mmodel\u001b[0m\u001b[0;34m=\u001b[0m\u001b[0mself\u001b[0m\u001b[0;34m,\u001b[0m\u001b[0;34m\u001b[0m\u001b[0;34m\u001b[0m\u001b[0m\n\u001b[0;32m-> 1579\u001b[0;31m           steps_per_execution=self._steps_per_execution)\n\u001b[0m\u001b[1;32m   1580\u001b[0m \u001b[0;34m\u001b[0m\u001b[0m\n\u001b[1;32m   1581\u001b[0m       \u001b[0;31m# Container that configures and calls `tf.keras.Callback`s.\u001b[0m\u001b[0;34m\u001b[0m\u001b[0;34m\u001b[0m\u001b[0;34m\u001b[0m\u001b[0m\n",
            "\u001b[0;32m/usr/local/lib/python3.6/dist-packages/tensorflow/python/keras/engine/data_adapter.py\u001b[0m in \u001b[0;36m__init__\u001b[0;34m(self, x, y, sample_weight, batch_size, steps_per_epoch, initial_epoch, epochs, shuffle, class_weight, max_queue_size, workers, use_multiprocessing, model, steps_per_execution)\u001b[0m\n\u001b[1;32m   1115\u001b[0m         \u001b[0muse_multiprocessing\u001b[0m\u001b[0;34m=\u001b[0m\u001b[0muse_multiprocessing\u001b[0m\u001b[0;34m,\u001b[0m\u001b[0;34m\u001b[0m\u001b[0;34m\u001b[0m\u001b[0m\n\u001b[1;32m   1116\u001b[0m         \u001b[0mdistribution_strategy\u001b[0m\u001b[0;34m=\u001b[0m\u001b[0mds_context\u001b[0m\u001b[0;34m.\u001b[0m\u001b[0mget_strategy\u001b[0m\u001b[0;34m(\u001b[0m\u001b[0;34m)\u001b[0m\u001b[0;34m,\u001b[0m\u001b[0;34m\u001b[0m\u001b[0;34m\u001b[0m\u001b[0m\n\u001b[0;32m-> 1117\u001b[0;31m         model=model)\n\u001b[0m\u001b[1;32m   1118\u001b[0m \u001b[0;34m\u001b[0m\u001b[0m\n\u001b[1;32m   1119\u001b[0m     \u001b[0mstrategy\u001b[0m \u001b[0;34m=\u001b[0m \u001b[0mds_context\u001b[0m\u001b[0;34m.\u001b[0m\u001b[0mget_strategy\u001b[0m\u001b[0;34m(\u001b[0m\u001b[0;34m)\u001b[0m\u001b[0;34m\u001b[0m\u001b[0;34m\u001b[0m\u001b[0m\n",
            "\u001b[0;32m/usr/local/lib/python3.6/dist-packages/tensorflow/python/keras/engine/data_adapter.py\u001b[0m in \u001b[0;36m__init__\u001b[0;34m(self, x, y, sample_weights, sample_weight_modes, batch_size, epochs, steps, shuffle, **kwargs)\u001b[0m\n\u001b[1;32m    263\u001b[0m                **kwargs):\n\u001b[1;32m    264\u001b[0m     \u001b[0msuper\u001b[0m\u001b[0;34m(\u001b[0m\u001b[0mTensorLikeDataAdapter\u001b[0m\u001b[0;34m,\u001b[0m \u001b[0mself\u001b[0m\u001b[0;34m)\u001b[0m\u001b[0;34m.\u001b[0m\u001b[0m__init__\u001b[0m\u001b[0;34m(\u001b[0m\u001b[0mx\u001b[0m\u001b[0;34m,\u001b[0m \u001b[0my\u001b[0m\u001b[0;34m,\u001b[0m \u001b[0;34m**\u001b[0m\u001b[0mkwargs\u001b[0m\u001b[0;34m)\u001b[0m\u001b[0;34m\u001b[0m\u001b[0;34m\u001b[0m\u001b[0m\n\u001b[0;32m--> 265\u001b[0;31m     \u001b[0mx\u001b[0m\u001b[0;34m,\u001b[0m \u001b[0my\u001b[0m\u001b[0;34m,\u001b[0m \u001b[0msample_weights\u001b[0m \u001b[0;34m=\u001b[0m \u001b[0m_process_tensorlike\u001b[0m\u001b[0;34m(\u001b[0m\u001b[0;34m(\u001b[0m\u001b[0mx\u001b[0m\u001b[0;34m,\u001b[0m \u001b[0my\u001b[0m\u001b[0;34m,\u001b[0m \u001b[0msample_weights\u001b[0m\u001b[0;34m)\u001b[0m\u001b[0;34m)\u001b[0m\u001b[0;34m\u001b[0m\u001b[0;34m\u001b[0m\u001b[0m\n\u001b[0m\u001b[1;32m    266\u001b[0m     sample_weight_modes = broadcast_sample_weight_modes(\n\u001b[1;32m    267\u001b[0m         sample_weights, sample_weight_modes)\n",
            "\u001b[0;32m/usr/local/lib/python3.6/dist-packages/tensorflow/python/keras/engine/data_adapter.py\u001b[0m in \u001b[0;36m_process_tensorlike\u001b[0;34m(inputs)\u001b[0m\n\u001b[1;32m   1019\u001b[0m     \u001b[0;32mreturn\u001b[0m \u001b[0mx\u001b[0m\u001b[0;34m\u001b[0m\u001b[0;34m\u001b[0m\u001b[0m\n\u001b[1;32m   1020\u001b[0m \u001b[0;34m\u001b[0m\u001b[0m\n\u001b[0;32m-> 1021\u001b[0;31m   \u001b[0minputs\u001b[0m \u001b[0;34m=\u001b[0m \u001b[0mnest\u001b[0m\u001b[0;34m.\u001b[0m\u001b[0mmap_structure\u001b[0m\u001b[0;34m(\u001b[0m\u001b[0m_convert_numpy_and_scipy\u001b[0m\u001b[0;34m,\u001b[0m \u001b[0minputs\u001b[0m\u001b[0;34m)\u001b[0m\u001b[0;34m\u001b[0m\u001b[0;34m\u001b[0m\u001b[0m\n\u001b[0m\u001b[1;32m   1022\u001b[0m   \u001b[0;32mreturn\u001b[0m \u001b[0mnest\u001b[0m\u001b[0;34m.\u001b[0m\u001b[0mlist_to_tuple\u001b[0m\u001b[0;34m(\u001b[0m\u001b[0minputs\u001b[0m\u001b[0;34m)\u001b[0m\u001b[0;34m\u001b[0m\u001b[0;34m\u001b[0m\u001b[0m\n\u001b[1;32m   1023\u001b[0m \u001b[0;34m\u001b[0m\u001b[0m\n",
            "\u001b[0;32m/usr/local/lib/python3.6/dist-packages/tensorflow/python/util/nest.py\u001b[0m in \u001b[0;36mmap_structure\u001b[0;34m(func, *structure, **kwargs)\u001b[0m\n\u001b[1;32m    633\u001b[0m \u001b[0;34m\u001b[0m\u001b[0m\n\u001b[1;32m    634\u001b[0m   return pack_sequence_as(\n\u001b[0;32m--> 635\u001b[0;31m       \u001b[0mstructure\u001b[0m\u001b[0;34m[\u001b[0m\u001b[0;36m0\u001b[0m\u001b[0;34m]\u001b[0m\u001b[0;34m,\u001b[0m \u001b[0;34m[\u001b[0m\u001b[0mfunc\u001b[0m\u001b[0;34m(\u001b[0m\u001b[0;34m*\u001b[0m\u001b[0mx\u001b[0m\u001b[0;34m)\u001b[0m \u001b[0;32mfor\u001b[0m \u001b[0mx\u001b[0m \u001b[0;32min\u001b[0m \u001b[0mentries\u001b[0m\u001b[0;34m]\u001b[0m\u001b[0;34m,\u001b[0m\u001b[0;34m\u001b[0m\u001b[0;34m\u001b[0m\u001b[0m\n\u001b[0m\u001b[1;32m    636\u001b[0m       expand_composites=expand_composites)\n\u001b[1;32m    637\u001b[0m \u001b[0;34m\u001b[0m\u001b[0m\n",
            "\u001b[0;32m/usr/local/lib/python3.6/dist-packages/tensorflow/python/util/nest.py\u001b[0m in \u001b[0;36m<listcomp>\u001b[0;34m(.0)\u001b[0m\n\u001b[1;32m    633\u001b[0m \u001b[0;34m\u001b[0m\u001b[0m\n\u001b[1;32m    634\u001b[0m   return pack_sequence_as(\n\u001b[0;32m--> 635\u001b[0;31m       \u001b[0mstructure\u001b[0m\u001b[0;34m[\u001b[0m\u001b[0;36m0\u001b[0m\u001b[0;34m]\u001b[0m\u001b[0;34m,\u001b[0m \u001b[0;34m[\u001b[0m\u001b[0mfunc\u001b[0m\u001b[0;34m(\u001b[0m\u001b[0;34m*\u001b[0m\u001b[0mx\u001b[0m\u001b[0;34m)\u001b[0m \u001b[0;32mfor\u001b[0m \u001b[0mx\u001b[0m \u001b[0;32min\u001b[0m \u001b[0mentries\u001b[0m\u001b[0;34m]\u001b[0m\u001b[0;34m,\u001b[0m\u001b[0;34m\u001b[0m\u001b[0;34m\u001b[0m\u001b[0m\n\u001b[0m\u001b[1;32m    636\u001b[0m       expand_composites=expand_composites)\n\u001b[1;32m    637\u001b[0m \u001b[0;34m\u001b[0m\u001b[0m\n",
            "\u001b[0;32m/usr/local/lib/python3.6/dist-packages/tensorflow/python/keras/engine/data_adapter.py\u001b[0m in \u001b[0;36m_convert_numpy_and_scipy\u001b[0;34m(x)\u001b[0m\n\u001b[1;32m   1014\u001b[0m       \u001b[0;32mif\u001b[0m \u001b[0missubclass\u001b[0m\u001b[0;34m(\u001b[0m\u001b[0mx\u001b[0m\u001b[0;34m.\u001b[0m\u001b[0mdtype\u001b[0m\u001b[0;34m.\u001b[0m\u001b[0mtype\u001b[0m\u001b[0;34m,\u001b[0m \u001b[0mnp\u001b[0m\u001b[0;34m.\u001b[0m\u001b[0mfloating\u001b[0m\u001b[0;34m)\u001b[0m\u001b[0;34m:\u001b[0m\u001b[0;34m\u001b[0m\u001b[0;34m\u001b[0m\u001b[0m\n\u001b[1;32m   1015\u001b[0m         \u001b[0mdtype\u001b[0m \u001b[0;34m=\u001b[0m \u001b[0mbackend\u001b[0m\u001b[0;34m.\u001b[0m\u001b[0mfloatx\u001b[0m\u001b[0;34m(\u001b[0m\u001b[0;34m)\u001b[0m\u001b[0;34m\u001b[0m\u001b[0;34m\u001b[0m\u001b[0m\n\u001b[0;32m-> 1016\u001b[0;31m       \u001b[0;32mreturn\u001b[0m \u001b[0mops\u001b[0m\u001b[0;34m.\u001b[0m\u001b[0mconvert_to_tensor\u001b[0m\u001b[0;34m(\u001b[0m\u001b[0mx\u001b[0m\u001b[0;34m,\u001b[0m \u001b[0mdtype\u001b[0m\u001b[0;34m=\u001b[0m\u001b[0mdtype\u001b[0m\u001b[0;34m)\u001b[0m\u001b[0;34m\u001b[0m\u001b[0;34m\u001b[0m\u001b[0m\n\u001b[0m\u001b[1;32m   1017\u001b[0m     \u001b[0;32melif\u001b[0m \u001b[0mscipy_sparse\u001b[0m \u001b[0;32mand\u001b[0m \u001b[0mscipy_sparse\u001b[0m\u001b[0;34m.\u001b[0m\u001b[0missparse\u001b[0m\u001b[0;34m(\u001b[0m\u001b[0mx\u001b[0m\u001b[0;34m)\u001b[0m\u001b[0;34m:\u001b[0m\u001b[0;34m\u001b[0m\u001b[0;34m\u001b[0m\u001b[0m\n\u001b[1;32m   1018\u001b[0m       \u001b[0;32mreturn\u001b[0m \u001b[0m_scipy_sparse_to_sparse_tensor\u001b[0m\u001b[0;34m(\u001b[0m\u001b[0mx\u001b[0m\u001b[0;34m)\u001b[0m\u001b[0;34m\u001b[0m\u001b[0;34m\u001b[0m\u001b[0m\n",
            "\u001b[0;32m/usr/local/lib/python3.6/dist-packages/tensorflow/python/framework/ops.py\u001b[0m in \u001b[0;36mconvert_to_tensor\u001b[0;34m(value, dtype, name, as_ref, preferred_dtype, dtype_hint, ctx, accepted_result_types)\u001b[0m\n\u001b[1;32m   1497\u001b[0m \u001b[0;34m\u001b[0m\u001b[0m\n\u001b[1;32m   1498\u001b[0m     \u001b[0;32mif\u001b[0m \u001b[0mret\u001b[0m \u001b[0;32mis\u001b[0m \u001b[0;32mNone\u001b[0m\u001b[0;34m:\u001b[0m\u001b[0;34m\u001b[0m\u001b[0;34m\u001b[0m\u001b[0m\n\u001b[0;32m-> 1499\u001b[0;31m       \u001b[0mret\u001b[0m \u001b[0;34m=\u001b[0m \u001b[0mconversion_func\u001b[0m\u001b[0;34m(\u001b[0m\u001b[0mvalue\u001b[0m\u001b[0;34m,\u001b[0m \u001b[0mdtype\u001b[0m\u001b[0;34m=\u001b[0m\u001b[0mdtype\u001b[0m\u001b[0;34m,\u001b[0m \u001b[0mname\u001b[0m\u001b[0;34m=\u001b[0m\u001b[0mname\u001b[0m\u001b[0;34m,\u001b[0m \u001b[0mas_ref\u001b[0m\u001b[0;34m=\u001b[0m\u001b[0mas_ref\u001b[0m\u001b[0;34m)\u001b[0m\u001b[0;34m\u001b[0m\u001b[0;34m\u001b[0m\u001b[0m\n\u001b[0m\u001b[1;32m   1500\u001b[0m \u001b[0;34m\u001b[0m\u001b[0m\n\u001b[1;32m   1501\u001b[0m     \u001b[0;32mif\u001b[0m \u001b[0mret\u001b[0m \u001b[0;32mis\u001b[0m \u001b[0mNotImplemented\u001b[0m\u001b[0;34m:\u001b[0m\u001b[0;34m\u001b[0m\u001b[0;34m\u001b[0m\u001b[0m\n",
            "\u001b[0;32m/usr/local/lib/python3.6/dist-packages/tensorflow/python/framework/tensor_conversion_registry.py\u001b[0m in \u001b[0;36m_default_conversion_function\u001b[0;34m(***failed resolving arguments***)\u001b[0m\n\u001b[1;32m     50\u001b[0m \u001b[0;32mdef\u001b[0m \u001b[0m_default_conversion_function\u001b[0m\u001b[0;34m(\u001b[0m\u001b[0mvalue\u001b[0m\u001b[0;34m,\u001b[0m \u001b[0mdtype\u001b[0m\u001b[0;34m,\u001b[0m \u001b[0mname\u001b[0m\u001b[0;34m,\u001b[0m \u001b[0mas_ref\u001b[0m\u001b[0;34m)\u001b[0m\u001b[0;34m:\u001b[0m\u001b[0;34m\u001b[0m\u001b[0;34m\u001b[0m\u001b[0m\n\u001b[1;32m     51\u001b[0m   \u001b[0;32mdel\u001b[0m \u001b[0mas_ref\u001b[0m  \u001b[0;31m# Unused.\u001b[0m\u001b[0;34m\u001b[0m\u001b[0;34m\u001b[0m\u001b[0m\n\u001b[0;32m---> 52\u001b[0;31m   \u001b[0;32mreturn\u001b[0m \u001b[0mconstant_op\u001b[0m\u001b[0;34m.\u001b[0m\u001b[0mconstant\u001b[0m\u001b[0;34m(\u001b[0m\u001b[0mvalue\u001b[0m\u001b[0;34m,\u001b[0m \u001b[0mdtype\u001b[0m\u001b[0;34m,\u001b[0m \u001b[0mname\u001b[0m\u001b[0;34m=\u001b[0m\u001b[0mname\u001b[0m\u001b[0;34m)\u001b[0m\u001b[0;34m\u001b[0m\u001b[0;34m\u001b[0m\u001b[0m\n\u001b[0m\u001b[1;32m     53\u001b[0m \u001b[0;34m\u001b[0m\u001b[0m\n\u001b[1;32m     54\u001b[0m \u001b[0;34m\u001b[0m\u001b[0m\n",
            "\u001b[0;32m/usr/local/lib/python3.6/dist-packages/tensorflow/python/framework/constant_op.py\u001b[0m in \u001b[0;36mconstant\u001b[0;34m(value, dtype, shape, name)\u001b[0m\n\u001b[1;32m    262\u001b[0m   \"\"\"\n\u001b[1;32m    263\u001b[0m   return _constant_impl(value, dtype, shape, name, verify_shape=False,\n\u001b[0;32m--> 264\u001b[0;31m                         allow_broadcast=True)\n\u001b[0m\u001b[1;32m    265\u001b[0m \u001b[0;34m\u001b[0m\u001b[0m\n\u001b[1;32m    266\u001b[0m \u001b[0;34m\u001b[0m\u001b[0m\n",
            "\u001b[0;32m/usr/local/lib/python3.6/dist-packages/tensorflow/python/framework/constant_op.py\u001b[0m in \u001b[0;36m_constant_impl\u001b[0;34m(value, dtype, shape, name, verify_shape, allow_broadcast)\u001b[0m\n\u001b[1;32m    273\u001b[0m       \u001b[0;32mwith\u001b[0m \u001b[0mtrace\u001b[0m\u001b[0;34m.\u001b[0m\u001b[0mTrace\u001b[0m\u001b[0;34m(\u001b[0m\u001b[0;34m\"tf.constant\"\u001b[0m\u001b[0;34m)\u001b[0m\u001b[0;34m:\u001b[0m\u001b[0;34m\u001b[0m\u001b[0;34m\u001b[0m\u001b[0m\n\u001b[1;32m    274\u001b[0m         \u001b[0;32mreturn\u001b[0m \u001b[0m_constant_eager_impl\u001b[0m\u001b[0;34m(\u001b[0m\u001b[0mctx\u001b[0m\u001b[0;34m,\u001b[0m \u001b[0mvalue\u001b[0m\u001b[0;34m,\u001b[0m \u001b[0mdtype\u001b[0m\u001b[0;34m,\u001b[0m \u001b[0mshape\u001b[0m\u001b[0;34m,\u001b[0m \u001b[0mverify_shape\u001b[0m\u001b[0;34m)\u001b[0m\u001b[0;34m\u001b[0m\u001b[0;34m\u001b[0m\u001b[0m\n\u001b[0;32m--> 275\u001b[0;31m     \u001b[0;32mreturn\u001b[0m \u001b[0m_constant_eager_impl\u001b[0m\u001b[0;34m(\u001b[0m\u001b[0mctx\u001b[0m\u001b[0;34m,\u001b[0m \u001b[0mvalue\u001b[0m\u001b[0;34m,\u001b[0m \u001b[0mdtype\u001b[0m\u001b[0;34m,\u001b[0m \u001b[0mshape\u001b[0m\u001b[0;34m,\u001b[0m \u001b[0mverify_shape\u001b[0m\u001b[0;34m)\u001b[0m\u001b[0;34m\u001b[0m\u001b[0;34m\u001b[0m\u001b[0m\n\u001b[0m\u001b[1;32m    276\u001b[0m \u001b[0;34m\u001b[0m\u001b[0m\n\u001b[1;32m    277\u001b[0m   \u001b[0mg\u001b[0m \u001b[0;34m=\u001b[0m \u001b[0mops\u001b[0m\u001b[0;34m.\u001b[0m\u001b[0mget_default_graph\u001b[0m\u001b[0;34m(\u001b[0m\u001b[0;34m)\u001b[0m\u001b[0;34m\u001b[0m\u001b[0;34m\u001b[0m\u001b[0m\n",
            "\u001b[0;32m/usr/local/lib/python3.6/dist-packages/tensorflow/python/framework/constant_op.py\u001b[0m in \u001b[0;36m_constant_eager_impl\u001b[0;34m(ctx, value, dtype, shape, verify_shape)\u001b[0m\n\u001b[1;32m    298\u001b[0m \u001b[0;32mdef\u001b[0m \u001b[0m_constant_eager_impl\u001b[0m\u001b[0;34m(\u001b[0m\u001b[0mctx\u001b[0m\u001b[0;34m,\u001b[0m \u001b[0mvalue\u001b[0m\u001b[0;34m,\u001b[0m \u001b[0mdtype\u001b[0m\u001b[0;34m,\u001b[0m \u001b[0mshape\u001b[0m\u001b[0;34m,\u001b[0m \u001b[0mverify_shape\u001b[0m\u001b[0;34m)\u001b[0m\u001b[0;34m:\u001b[0m\u001b[0;34m\u001b[0m\u001b[0;34m\u001b[0m\u001b[0m\n\u001b[1;32m    299\u001b[0m   \u001b[0;34m\"\"\"Implementation of eager constant.\"\"\"\u001b[0m\u001b[0;34m\u001b[0m\u001b[0;34m\u001b[0m\u001b[0m\n\u001b[0;32m--> 300\u001b[0;31m   \u001b[0mt\u001b[0m \u001b[0;34m=\u001b[0m \u001b[0mconvert_to_eager_tensor\u001b[0m\u001b[0;34m(\u001b[0m\u001b[0mvalue\u001b[0m\u001b[0;34m,\u001b[0m \u001b[0mctx\u001b[0m\u001b[0;34m,\u001b[0m \u001b[0mdtype\u001b[0m\u001b[0;34m)\u001b[0m\u001b[0;34m\u001b[0m\u001b[0;34m\u001b[0m\u001b[0m\n\u001b[0m\u001b[1;32m    301\u001b[0m   \u001b[0;32mif\u001b[0m \u001b[0mshape\u001b[0m \u001b[0;32mis\u001b[0m \u001b[0;32mNone\u001b[0m\u001b[0;34m:\u001b[0m\u001b[0;34m\u001b[0m\u001b[0;34m\u001b[0m\u001b[0m\n\u001b[1;32m    302\u001b[0m     \u001b[0;32mreturn\u001b[0m \u001b[0mt\u001b[0m\u001b[0;34m\u001b[0m\u001b[0;34m\u001b[0m\u001b[0m\n",
            "\u001b[0;32m/usr/local/lib/python3.6/dist-packages/tensorflow/python/framework/constant_op.py\u001b[0m in \u001b[0;36mconvert_to_eager_tensor\u001b[0;34m(value, ctx, dtype)\u001b[0m\n\u001b[1;32m     96\u001b[0m       \u001b[0mdtype\u001b[0m \u001b[0;34m=\u001b[0m \u001b[0mdtypes\u001b[0m\u001b[0;34m.\u001b[0m\u001b[0mas_dtype\u001b[0m\u001b[0;34m(\u001b[0m\u001b[0mdtype\u001b[0m\u001b[0;34m)\u001b[0m\u001b[0;34m.\u001b[0m\u001b[0mas_datatype_enum\u001b[0m\u001b[0;34m\u001b[0m\u001b[0;34m\u001b[0m\u001b[0m\n\u001b[1;32m     97\u001b[0m   \u001b[0mctx\u001b[0m\u001b[0;34m.\u001b[0m\u001b[0mensure_initialized\u001b[0m\u001b[0;34m(\u001b[0m\u001b[0;34m)\u001b[0m\u001b[0;34m\u001b[0m\u001b[0;34m\u001b[0m\u001b[0m\n\u001b[0;32m---> 98\u001b[0;31m   \u001b[0;32mreturn\u001b[0m \u001b[0mops\u001b[0m\u001b[0;34m.\u001b[0m\u001b[0mEagerTensor\u001b[0m\u001b[0;34m(\u001b[0m\u001b[0mvalue\u001b[0m\u001b[0;34m,\u001b[0m \u001b[0mctx\u001b[0m\u001b[0;34m.\u001b[0m\u001b[0mdevice_name\u001b[0m\u001b[0;34m,\u001b[0m \u001b[0mdtype\u001b[0m\u001b[0;34m)\u001b[0m\u001b[0;34m\u001b[0m\u001b[0;34m\u001b[0m\u001b[0m\n\u001b[0m\u001b[1;32m     99\u001b[0m \u001b[0;34m\u001b[0m\u001b[0m\n\u001b[1;32m    100\u001b[0m \u001b[0;34m\u001b[0m\u001b[0m\n",
            "\u001b[0;31mKeyboardInterrupt\u001b[0m: "
          ]
        }
      ]
    }
  ]
}