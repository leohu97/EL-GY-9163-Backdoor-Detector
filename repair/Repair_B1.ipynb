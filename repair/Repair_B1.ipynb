{
  "nbformat": 4,
  "nbformat_minor": 0,
  "metadata": {
    "colab": {
      "name": "Repair-B1.ipynb",
      "provenance": [],
      "collapsed_sections": [],
      "machine_shape": "hm"
    },
    "kernelspec": {
      "name": "python3",
      "display_name": "Python 3"
    },
    "accelerator": "GPU",
    "widgets": {
      "application/vnd.jupyter.widget-state+json": {
        "50a2f77f445245bfa74dabbb8648a67d": {
          "model_module": "@jupyter-widgets/controls",
          "model_name": "HBoxModel",
          "state": {
            "_view_name": "HBoxView",
            "_dom_classes": [],
            "_model_name": "HBoxModel",
            "_view_module": "@jupyter-widgets/controls",
            "_model_module_version": "1.5.0",
            "_view_count": null,
            "_view_module_version": "1.5.0",
            "box_style": "",
            "layout": "IPY_MODEL_c55ca4e9927340c58f77867a79edd7e2",
            "_model_module": "@jupyter-widgets/controls",
            "children": [
              "IPY_MODEL_96379ca882fb4f1ca29e2bde5b914e8b",
              "IPY_MODEL_15a6bf5ad322401dbb2e1b07020ccdbb"
            ]
          }
        },
        "c55ca4e9927340c58f77867a79edd7e2": {
          "model_module": "@jupyter-widgets/base",
          "model_name": "LayoutModel",
          "state": {
            "_view_name": "LayoutView",
            "grid_template_rows": null,
            "right": null,
            "justify_content": null,
            "_view_module": "@jupyter-widgets/base",
            "overflow": null,
            "_model_module_version": "1.2.0",
            "_view_count": null,
            "flex_flow": null,
            "width": null,
            "min_width": null,
            "border": null,
            "align_items": null,
            "bottom": null,
            "_model_module": "@jupyter-widgets/base",
            "top": null,
            "grid_column": null,
            "overflow_y": null,
            "overflow_x": null,
            "grid_auto_flow": null,
            "grid_area": null,
            "grid_template_columns": null,
            "flex": null,
            "_model_name": "LayoutModel",
            "justify_items": null,
            "grid_row": null,
            "max_height": null,
            "align_content": null,
            "visibility": null,
            "align_self": null,
            "height": null,
            "min_height": null,
            "padding": null,
            "grid_auto_rows": null,
            "grid_gap": null,
            "max_width": null,
            "order": null,
            "_view_module_version": "1.2.0",
            "grid_template_areas": null,
            "object_position": null,
            "object_fit": null,
            "grid_auto_columns": null,
            "margin": null,
            "display": null,
            "left": null
          }
        },
        "96379ca882fb4f1ca29e2bde5b914e8b": {
          "model_module": "@jupyter-widgets/controls",
          "model_name": "FloatProgressModel",
          "state": {
            "_view_name": "ProgressView",
            "style": "IPY_MODEL_6f8710c3147048ab9c5b0f1a7e51d81d",
            "_dom_classes": [],
            "description": "100%",
            "_model_name": "FloatProgressModel",
            "bar_style": "success",
            "max": 11547,
            "_view_module": "@jupyter-widgets/controls",
            "_model_module_version": "1.5.0",
            "value": 11547,
            "_view_count": null,
            "_view_module_version": "1.5.0",
            "orientation": "horizontal",
            "min": 0,
            "description_tooltip": null,
            "_model_module": "@jupyter-widgets/controls",
            "layout": "IPY_MODEL_62bbd0790fc9471dbd1d85123acb2c8c"
          }
        },
        "15a6bf5ad322401dbb2e1b07020ccdbb": {
          "model_module": "@jupyter-widgets/controls",
          "model_name": "HTMLModel",
          "state": {
            "_view_name": "HTMLView",
            "style": "IPY_MODEL_5fc34fd51adf484c876a1755a6440aa9",
            "_dom_classes": [],
            "description": "",
            "_model_name": "HTMLModel",
            "placeholder": "​",
            "_view_module": "@jupyter-widgets/controls",
            "_model_module_version": "1.5.0",
            "value": " 11547/11547 [05:01&lt;00:00, 38.30it/s]",
            "_view_count": null,
            "_view_module_version": "1.5.0",
            "description_tooltip": null,
            "_model_module": "@jupyter-widgets/controls",
            "layout": "IPY_MODEL_10fc83cb962a4c25a1a241c64af6cf05"
          }
        },
        "6f8710c3147048ab9c5b0f1a7e51d81d": {
          "model_module": "@jupyter-widgets/controls",
          "model_name": "ProgressStyleModel",
          "state": {
            "_view_name": "StyleView",
            "_model_name": "ProgressStyleModel",
            "description_width": "initial",
            "_view_module": "@jupyter-widgets/base",
            "_model_module_version": "1.5.0",
            "_view_count": null,
            "_view_module_version": "1.2.0",
            "bar_color": null,
            "_model_module": "@jupyter-widgets/controls"
          }
        },
        "62bbd0790fc9471dbd1d85123acb2c8c": {
          "model_module": "@jupyter-widgets/base",
          "model_name": "LayoutModel",
          "state": {
            "_view_name": "LayoutView",
            "grid_template_rows": null,
            "right": null,
            "justify_content": null,
            "_view_module": "@jupyter-widgets/base",
            "overflow": null,
            "_model_module_version": "1.2.0",
            "_view_count": null,
            "flex_flow": null,
            "width": null,
            "min_width": null,
            "border": null,
            "align_items": null,
            "bottom": null,
            "_model_module": "@jupyter-widgets/base",
            "top": null,
            "grid_column": null,
            "overflow_y": null,
            "overflow_x": null,
            "grid_auto_flow": null,
            "grid_area": null,
            "grid_template_columns": null,
            "flex": null,
            "_model_name": "LayoutModel",
            "justify_items": null,
            "grid_row": null,
            "max_height": null,
            "align_content": null,
            "visibility": null,
            "align_self": null,
            "height": null,
            "min_height": null,
            "padding": null,
            "grid_auto_rows": null,
            "grid_gap": null,
            "max_width": null,
            "order": null,
            "_view_module_version": "1.2.0",
            "grid_template_areas": null,
            "object_position": null,
            "object_fit": null,
            "grid_auto_columns": null,
            "margin": null,
            "display": null,
            "left": null
          }
        },
        "5fc34fd51adf484c876a1755a6440aa9": {
          "model_module": "@jupyter-widgets/controls",
          "model_name": "DescriptionStyleModel",
          "state": {
            "_view_name": "StyleView",
            "_model_name": "DescriptionStyleModel",
            "description_width": "",
            "_view_module": "@jupyter-widgets/base",
            "_model_module_version": "1.5.0",
            "_view_count": null,
            "_view_module_version": "1.2.0",
            "_model_module": "@jupyter-widgets/controls"
          }
        },
        "10fc83cb962a4c25a1a241c64af6cf05": {
          "model_module": "@jupyter-widgets/base",
          "model_name": "LayoutModel",
          "state": {
            "_view_name": "LayoutView",
            "grid_template_rows": null,
            "right": null,
            "justify_content": null,
            "_view_module": "@jupyter-widgets/base",
            "overflow": null,
            "_model_module_version": "1.2.0",
            "_view_count": null,
            "flex_flow": null,
            "width": null,
            "min_width": null,
            "border": null,
            "align_items": null,
            "bottom": null,
            "_model_module": "@jupyter-widgets/base",
            "top": null,
            "grid_column": null,
            "overflow_y": null,
            "overflow_x": null,
            "grid_auto_flow": null,
            "grid_area": null,
            "grid_template_columns": null,
            "flex": null,
            "_model_name": "LayoutModel",
            "justify_items": null,
            "grid_row": null,
            "max_height": null,
            "align_content": null,
            "visibility": null,
            "align_self": null,
            "height": null,
            "min_height": null,
            "padding": null,
            "grid_auto_rows": null,
            "grid_gap": null,
            "max_width": null,
            "order": null,
            "_view_module_version": "1.2.0",
            "grid_template_areas": null,
            "object_position": null,
            "object_fit": null,
            "grid_auto_columns": null,
            "margin": null,
            "display": null,
            "left": null
          }
        }
      }
    }
  },
  "cells": [
    {
      "cell_type": "code",
      "metadata": {
        "colab": {
          "base_uri": "https://localhost:8080/",
          "height": 1000
        },
        "id": "99sewc0OW36p",
        "outputId": "6a81cb02-2fa1-440a-ee88-09831ed7104a"
      },
      "source": [
        "!pip install tensorflow==2.3.0\r\n",
        "!pip install keract==4.3.2\r\n",
        "!pip install kerassurgeon"
      ],
      "execution_count": 1,
      "outputs": [
        {
          "output_type": "stream",
          "text": [
            "Collecting tensorflow==2.3.0\n",
            "\u001b[?25l  Downloading https://files.pythonhosted.org/packages/97/ae/0b08f53498417914f2274cc3b5576d2b83179b0cbb209457d0fde0152174/tensorflow-2.3.0-cp36-cp36m-manylinux2010_x86_64.whl (320.4MB)\n",
            "\u001b[K     |████████████████████████████████| 320.4MB 49kB/s \n",
            "\u001b[?25hCollecting numpy<1.19.0,>=1.16.0\n",
            "\u001b[?25l  Downloading https://files.pythonhosted.org/packages/b3/a9/b1bc4c935ed063766bce7d3e8c7b20bd52e515ff1c732b02caacf7918e5a/numpy-1.18.5-cp36-cp36m-manylinux1_x86_64.whl (20.1MB)\n",
            "\u001b[K     |████████████████████████████████| 20.1MB 1.3MB/s \n",
            "\u001b[?25hRequirement already satisfied: keras-preprocessing<1.2,>=1.1.1 in /usr/local/lib/python3.6/dist-packages (from tensorflow==2.3.0) (1.1.2)\n",
            "Requirement already satisfied: google-pasta>=0.1.8 in /usr/local/lib/python3.6/dist-packages (from tensorflow==2.3.0) (0.2.0)\n",
            "Requirement already satisfied: absl-py>=0.7.0 in /usr/local/lib/python3.6/dist-packages (from tensorflow==2.3.0) (0.10.0)\n",
            "Collecting tensorflow-estimator<2.4.0,>=2.3.0\n",
            "\u001b[?25l  Downloading https://files.pythonhosted.org/packages/e9/ed/5853ec0ae380cba4588eab1524e18ece1583b65f7ae0e97321f5ff9dfd60/tensorflow_estimator-2.3.0-py2.py3-none-any.whl (459kB)\n",
            "\u001b[K     |████████████████████████████████| 460kB 54.8MB/s \n",
            "\u001b[?25hRequirement already satisfied: wheel>=0.26 in /usr/local/lib/python3.6/dist-packages (from tensorflow==2.3.0) (0.36.2)\n",
            "Requirement already satisfied: grpcio>=1.8.6 in /usr/local/lib/python3.6/dist-packages (from tensorflow==2.3.0) (1.32.0)\n",
            "Requirement already satisfied: opt-einsum>=2.3.2 in /usr/local/lib/python3.6/dist-packages (from tensorflow==2.3.0) (3.3.0)\n",
            "Requirement already satisfied: wrapt>=1.11.1 in /usr/local/lib/python3.6/dist-packages (from tensorflow==2.3.0) (1.12.1)\n",
            "Requirement already satisfied: six>=1.12.0 in /usr/local/lib/python3.6/dist-packages (from tensorflow==2.3.0) (1.15.0)\n",
            "Requirement already satisfied: astunparse==1.6.3 in /usr/local/lib/python3.6/dist-packages (from tensorflow==2.3.0) (1.6.3)\n",
            "Requirement already satisfied: gast==0.3.3 in /usr/local/lib/python3.6/dist-packages (from tensorflow==2.3.0) (0.3.3)\n",
            "Requirement already satisfied: tensorboard<3,>=2.3.0 in /usr/local/lib/python3.6/dist-packages (from tensorflow==2.3.0) (2.4.0)\n",
            "Requirement already satisfied: scipy==1.4.1 in /usr/local/lib/python3.6/dist-packages (from tensorflow==2.3.0) (1.4.1)\n",
            "Requirement already satisfied: termcolor>=1.1.0 in /usr/local/lib/python3.6/dist-packages (from tensorflow==2.3.0) (1.1.0)\n",
            "Requirement already satisfied: protobuf>=3.9.2 in /usr/local/lib/python3.6/dist-packages (from tensorflow==2.3.0) (3.12.4)\n",
            "Requirement already satisfied: h5py<2.11.0,>=2.10.0 in /usr/local/lib/python3.6/dist-packages (from tensorflow==2.3.0) (2.10.0)\n",
            "Requirement already satisfied: requests<3,>=2.21.0 in /usr/local/lib/python3.6/dist-packages (from tensorboard<3,>=2.3.0->tensorflow==2.3.0) (2.23.0)\n",
            "Requirement already satisfied: setuptools>=41.0.0 in /usr/local/lib/python3.6/dist-packages (from tensorboard<3,>=2.3.0->tensorflow==2.3.0) (51.0.0)\n",
            "Requirement already satisfied: werkzeug>=0.11.15 in /usr/local/lib/python3.6/dist-packages (from tensorboard<3,>=2.3.0->tensorflow==2.3.0) (1.0.1)\n",
            "Requirement already satisfied: google-auth-oauthlib<0.5,>=0.4.1 in /usr/local/lib/python3.6/dist-packages (from tensorboard<3,>=2.3.0->tensorflow==2.3.0) (0.4.2)\n",
            "Requirement already satisfied: tensorboard-plugin-wit>=1.6.0 in /usr/local/lib/python3.6/dist-packages (from tensorboard<3,>=2.3.0->tensorflow==2.3.0) (1.7.0)\n",
            "Requirement already satisfied: markdown>=2.6.8 in /usr/local/lib/python3.6/dist-packages (from tensorboard<3,>=2.3.0->tensorflow==2.3.0) (3.3.3)\n",
            "Requirement already satisfied: google-auth<2,>=1.6.3 in /usr/local/lib/python3.6/dist-packages (from tensorboard<3,>=2.3.0->tensorflow==2.3.0) (1.17.2)\n",
            "Requirement already satisfied: chardet<4,>=3.0.2 in /usr/local/lib/python3.6/dist-packages (from requests<3,>=2.21.0->tensorboard<3,>=2.3.0->tensorflow==2.3.0) (3.0.4)\n",
            "Requirement already satisfied: certifi>=2017.4.17 in /usr/local/lib/python3.6/dist-packages (from requests<3,>=2.21.0->tensorboard<3,>=2.3.0->tensorflow==2.3.0) (2020.12.5)\n",
            "Requirement already satisfied: urllib3!=1.25.0,!=1.25.1,<1.26,>=1.21.1 in /usr/local/lib/python3.6/dist-packages (from requests<3,>=2.21.0->tensorboard<3,>=2.3.0->tensorflow==2.3.0) (1.24.3)\n",
            "Requirement already satisfied: idna<3,>=2.5 in /usr/local/lib/python3.6/dist-packages (from requests<3,>=2.21.0->tensorboard<3,>=2.3.0->tensorflow==2.3.0) (2.10)\n",
            "Requirement already satisfied: requests-oauthlib>=0.7.0 in /usr/local/lib/python3.6/dist-packages (from google-auth-oauthlib<0.5,>=0.4.1->tensorboard<3,>=2.3.0->tensorflow==2.3.0) (1.3.0)\n",
            "Requirement already satisfied: importlib-metadata; python_version < \"3.8\" in /usr/local/lib/python3.6/dist-packages (from markdown>=2.6.8->tensorboard<3,>=2.3.0->tensorflow==2.3.0) (3.3.0)\n",
            "Requirement already satisfied: rsa<5,>=3.1.4; python_version >= \"3\" in /usr/local/lib/python3.6/dist-packages (from google-auth<2,>=1.6.3->tensorboard<3,>=2.3.0->tensorflow==2.3.0) (4.6)\n",
            "Requirement already satisfied: pyasn1-modules>=0.2.1 in /usr/local/lib/python3.6/dist-packages (from google-auth<2,>=1.6.3->tensorboard<3,>=2.3.0->tensorflow==2.3.0) (0.2.8)\n",
            "Requirement already satisfied: cachetools<5.0,>=2.0.0 in /usr/local/lib/python3.6/dist-packages (from google-auth<2,>=1.6.3->tensorboard<3,>=2.3.0->tensorflow==2.3.0) (4.2.0)\n",
            "Requirement already satisfied: oauthlib>=3.0.0 in /usr/local/lib/python3.6/dist-packages (from requests-oauthlib>=0.7.0->google-auth-oauthlib<0.5,>=0.4.1->tensorboard<3,>=2.3.0->tensorflow==2.3.0) (3.1.0)\n",
            "Requirement already satisfied: typing-extensions>=3.6.4; python_version < \"3.8\" in /usr/local/lib/python3.6/dist-packages (from importlib-metadata; python_version < \"3.8\"->markdown>=2.6.8->tensorboard<3,>=2.3.0->tensorflow==2.3.0) (3.7.4.3)\n",
            "Requirement already satisfied: zipp>=0.5 in /usr/local/lib/python3.6/dist-packages (from importlib-metadata; python_version < \"3.8\"->markdown>=2.6.8->tensorboard<3,>=2.3.0->tensorflow==2.3.0) (3.4.0)\n",
            "Requirement already satisfied: pyasn1>=0.1.3 in /usr/local/lib/python3.6/dist-packages (from rsa<5,>=3.1.4; python_version >= \"3\"->google-auth<2,>=1.6.3->tensorboard<3,>=2.3.0->tensorflow==2.3.0) (0.4.8)\n",
            "\u001b[31mERROR: datascience 0.10.6 has requirement folium==0.2.1, but you'll have folium 0.8.3 which is incompatible.\u001b[0m\n",
            "\u001b[31mERROR: albumentations 0.1.12 has requirement imgaug<0.2.7,>=0.2.5, but you'll have imgaug 0.2.9 which is incompatible.\u001b[0m\n",
            "Installing collected packages: numpy, tensorflow-estimator, tensorflow\n",
            "  Found existing installation: numpy 1.19.4\n",
            "    Uninstalling numpy-1.19.4:\n",
            "      Successfully uninstalled numpy-1.19.4\n",
            "  Found existing installation: tensorflow-estimator 2.4.0\n",
            "    Uninstalling tensorflow-estimator-2.4.0:\n",
            "      Successfully uninstalled tensorflow-estimator-2.4.0\n",
            "  Found existing installation: tensorflow 2.4.0\n",
            "    Uninstalling tensorflow-2.4.0:\n",
            "      Successfully uninstalled tensorflow-2.4.0\n",
            "Successfully installed numpy-1.18.5 tensorflow-2.3.0 tensorflow-estimator-2.3.0\n"
          ],
          "name": "stdout"
        },
        {
          "output_type": "display_data",
          "data": {
            "application/vnd.colab-display-data+json": {
              "pip_warning": {
                "packages": [
                  "numpy"
                ]
              }
            }
          },
          "metadata": {
            "tags": []
          }
        },
        {
          "output_type": "stream",
          "text": [
            "Collecting keract==4.3.2\n",
            "  Downloading https://files.pythonhosted.org/packages/8c/a7/4ed085a7e5c2d32d9cea7edb31626d2fb36a03caea93bef68f6c34277f30/keract-4.3.2-py3-none-any.whl\n",
            "Requirement already satisfied: numpy>=1.18.5 in /usr/local/lib/python3.6/dist-packages (from keract==4.3.2) (1.18.5)\n",
            "Installing collected packages: keract\n",
            "Successfully installed keract-4.3.2\n",
            "Collecting kerassurgeon\n",
            "  Downloading https://files.pythonhosted.org/packages/0c/7d/77839f5b038971d0d8f0ce195a6edff6b0d25f0fa088d6a5ecbc4acceda1/kerassurgeon-0.2.0-py3-none-any.whl\n",
            "Requirement already satisfied: pandas[examples]<2.0.0,>=1.1.2 in /usr/local/lib/python3.6/dist-packages (from kerassurgeon) (1.1.5)\n",
            "\u001b[33m  WARNING: pandas 1.1.5 does not provide the extra 'examples'\u001b[0m\n",
            "Collecting pytest[test]<7.0.0,>=6.0.2\n",
            "\u001b[?25l  Downloading https://files.pythonhosted.org/packages/d7/15/5ef931cbd22585865aad0ea025162545b53af9319cf38542e0b7981d5b34/pytest-6.2.1-py3-none-any.whl (279kB)\n",
            "\u001b[K     |████████████████████████████████| 286kB 21.5MB/s \n",
            "\u001b[33m  WARNING: pytest 6.2.1 does not provide the extra 'test'\u001b[0m\n",
            "\u001b[?25hRequirement already satisfied: keras[standalone-keras]<3.0.0,>=2.4.3 in /usr/local/lib/python3.6/dist-packages (from kerassurgeon) (2.4.3)\n",
            "\u001b[33m  WARNING: Keras 2.4.3 does not provide the extra 'standalone-keras'\u001b[0m\n",
            "Requirement already satisfied: tensorflow<3.0,>=2.0 in /usr/local/lib/python3.6/dist-packages (from kerassurgeon) (2.3.0)\n",
            "Collecting pillow[examples]<8.0.0,>=7.2.0\n",
            "\u001b[?25l  Downloading https://files.pythonhosted.org/packages/30/bf/92385b4262178ca22b34f82e0e09c2922eb351fe39f3cc7b8ba9ea555b41/Pillow-7.2.0-cp36-cp36m-manylinux1_x86_64.whl (2.2MB)\n",
            "\u001b[K     |████████████████████████████████| 2.2MB 52.0MB/s \n",
            "\u001b[33m  WARNING: Pillow 7.2.0 does not provide the extra 'examples'\u001b[0m\n",
            "\u001b[?25hCollecting importlib-metadata<2.0.0,>=1.7.0\n",
            "  Downloading https://files.pythonhosted.org/packages/8e/58/cdea07eb51fc2b906db0968a94700866fc46249bdc75cac23f9d13168929/importlib_metadata-1.7.0-py2.py3-none-any.whl\n",
            "Requirement already satisfied: python-dateutil>=2.7.3 in /usr/local/lib/python3.6/dist-packages (from pandas[examples]<2.0.0,>=1.1.2->kerassurgeon) (2.8.1)\n",
            "Requirement already satisfied: pytz>=2017.2 in /usr/local/lib/python3.6/dist-packages (from pandas[examples]<2.0.0,>=1.1.2->kerassurgeon) (2018.9)\n",
            "Requirement already satisfied: numpy>=1.15.4 in /usr/local/lib/python3.6/dist-packages (from pandas[examples]<2.0.0,>=1.1.2->kerassurgeon) (1.18.5)\n",
            "Collecting pluggy<1.0.0a1,>=0.12\n",
            "  Downloading https://files.pythonhosted.org/packages/a0/28/85c7aa31b80d150b772fbe4a229487bc6644da9ccb7e427dd8cc60cb8a62/pluggy-0.13.1-py2.py3-none-any.whl\n",
            "Requirement already satisfied: attrs>=19.2.0 in /usr/local/lib/python3.6/dist-packages (from pytest[test]<7.0.0,>=6.0.2->kerassurgeon) (20.3.0)\n",
            "Requirement already satisfied: packaging in /usr/local/lib/python3.6/dist-packages (from pytest[test]<7.0.0,>=6.0.2->kerassurgeon) (20.8)\n",
            "Requirement already satisfied: toml in /usr/local/lib/python3.6/dist-packages (from pytest[test]<7.0.0,>=6.0.2->kerassurgeon) (0.10.2)\n",
            "Requirement already satisfied: iniconfig in /usr/local/lib/python3.6/dist-packages (from pytest[test]<7.0.0,>=6.0.2->kerassurgeon) (1.1.1)\n",
            "Requirement already satisfied: py>=1.8.2 in /usr/local/lib/python3.6/dist-packages (from pytest[test]<7.0.0,>=6.0.2->kerassurgeon) (1.10.0)\n",
            "Requirement already satisfied: scipy>=0.14 in /usr/local/lib/python3.6/dist-packages (from keras[standalone-keras]<3.0.0,>=2.4.3->kerassurgeon) (1.4.1)\n",
            "Requirement already satisfied: pyyaml in /usr/local/lib/python3.6/dist-packages (from keras[standalone-keras]<3.0.0,>=2.4.3->kerassurgeon) (3.13)\n",
            "Requirement already satisfied: h5py in /usr/local/lib/python3.6/dist-packages (from keras[standalone-keras]<3.0.0,>=2.4.3->kerassurgeon) (2.10.0)\n",
            "Requirement already satisfied: grpcio>=1.8.6 in /usr/local/lib/python3.6/dist-packages (from tensorflow<3.0,>=2.0->kerassurgeon) (1.32.0)\n",
            "Requirement already satisfied: gast==0.3.3 in /usr/local/lib/python3.6/dist-packages (from tensorflow<3.0,>=2.0->kerassurgeon) (0.3.3)\n",
            "Requirement already satisfied: six>=1.12.0 in /usr/local/lib/python3.6/dist-packages (from tensorflow<3.0,>=2.0->kerassurgeon) (1.15.0)\n",
            "Requirement already satisfied: astunparse==1.6.3 in /usr/local/lib/python3.6/dist-packages (from tensorflow<3.0,>=2.0->kerassurgeon) (1.6.3)\n",
            "Requirement already satisfied: wheel>=0.26 in /usr/local/lib/python3.6/dist-packages (from tensorflow<3.0,>=2.0->kerassurgeon) (0.36.2)\n",
            "Requirement already satisfied: opt-einsum>=2.3.2 in /usr/local/lib/python3.6/dist-packages (from tensorflow<3.0,>=2.0->kerassurgeon) (3.3.0)\n",
            "Requirement already satisfied: wrapt>=1.11.1 in /usr/local/lib/python3.6/dist-packages (from tensorflow<3.0,>=2.0->kerassurgeon) (1.12.1)\n",
            "Requirement already satisfied: protobuf>=3.9.2 in /usr/local/lib/python3.6/dist-packages (from tensorflow<3.0,>=2.0->kerassurgeon) (3.12.4)\n",
            "Requirement already satisfied: keras-preprocessing<1.2,>=1.1.1 in /usr/local/lib/python3.6/dist-packages (from tensorflow<3.0,>=2.0->kerassurgeon) (1.1.2)\n",
            "Requirement already satisfied: tensorboard<3,>=2.3.0 in /usr/local/lib/python3.6/dist-packages (from tensorflow<3.0,>=2.0->kerassurgeon) (2.4.0)\n",
            "Requirement already satisfied: termcolor>=1.1.0 in /usr/local/lib/python3.6/dist-packages (from tensorflow<3.0,>=2.0->kerassurgeon) (1.1.0)\n",
            "Requirement already satisfied: google-pasta>=0.1.8 in /usr/local/lib/python3.6/dist-packages (from tensorflow<3.0,>=2.0->kerassurgeon) (0.2.0)\n",
            "Requirement already satisfied: absl-py>=0.7.0 in /usr/local/lib/python3.6/dist-packages (from tensorflow<3.0,>=2.0->kerassurgeon) (0.10.0)\n",
            "Requirement already satisfied: tensorflow-estimator<2.4.0,>=2.3.0 in /usr/local/lib/python3.6/dist-packages (from tensorflow<3.0,>=2.0->kerassurgeon) (2.3.0)\n",
            "Requirement already satisfied: zipp>=0.5 in /usr/local/lib/python3.6/dist-packages (from importlib-metadata<2.0.0,>=1.7.0->kerassurgeon) (3.4.0)\n",
            "Requirement already satisfied: pyparsing>=2.0.2 in /usr/local/lib/python3.6/dist-packages (from packaging->pytest[test]<7.0.0,>=6.0.2->kerassurgeon) (2.4.7)\n",
            "Requirement already satisfied: setuptools in /usr/local/lib/python3.6/dist-packages (from protobuf>=3.9.2->tensorflow<3.0,>=2.0->kerassurgeon) (51.0.0)\n",
            "Requirement already satisfied: werkzeug>=0.11.15 in /usr/local/lib/python3.6/dist-packages (from tensorboard<3,>=2.3.0->tensorflow<3.0,>=2.0->kerassurgeon) (1.0.1)\n",
            "Requirement already satisfied: google-auth<2,>=1.6.3 in /usr/local/lib/python3.6/dist-packages (from tensorboard<3,>=2.3.0->tensorflow<3.0,>=2.0->kerassurgeon) (1.17.2)\n",
            "Requirement already satisfied: requests<3,>=2.21.0 in /usr/local/lib/python3.6/dist-packages (from tensorboard<3,>=2.3.0->tensorflow<3.0,>=2.0->kerassurgeon) (2.23.0)\n",
            "Requirement already satisfied: markdown>=2.6.8 in /usr/local/lib/python3.6/dist-packages (from tensorboard<3,>=2.3.0->tensorflow<3.0,>=2.0->kerassurgeon) (3.3.3)\n",
            "Requirement already satisfied: tensorboard-plugin-wit>=1.6.0 in /usr/local/lib/python3.6/dist-packages (from tensorboard<3,>=2.3.0->tensorflow<3.0,>=2.0->kerassurgeon) (1.7.0)\n",
            "Requirement already satisfied: google-auth-oauthlib<0.5,>=0.4.1 in /usr/local/lib/python3.6/dist-packages (from tensorboard<3,>=2.3.0->tensorflow<3.0,>=2.0->kerassurgeon) (0.4.2)\n",
            "Requirement already satisfied: cachetools<5.0,>=2.0.0 in /usr/local/lib/python3.6/dist-packages (from google-auth<2,>=1.6.3->tensorboard<3,>=2.3.0->tensorflow<3.0,>=2.0->kerassurgeon) (4.2.0)\n",
            "Requirement already satisfied: rsa<5,>=3.1.4; python_version >= \"3\" in /usr/local/lib/python3.6/dist-packages (from google-auth<2,>=1.6.3->tensorboard<3,>=2.3.0->tensorflow<3.0,>=2.0->kerassurgeon) (4.6)\n",
            "Requirement already satisfied: pyasn1-modules>=0.2.1 in /usr/local/lib/python3.6/dist-packages (from google-auth<2,>=1.6.3->tensorboard<3,>=2.3.0->tensorflow<3.0,>=2.0->kerassurgeon) (0.2.8)\n",
            "Requirement already satisfied: certifi>=2017.4.17 in /usr/local/lib/python3.6/dist-packages (from requests<3,>=2.21.0->tensorboard<3,>=2.3.0->tensorflow<3.0,>=2.0->kerassurgeon) (2020.12.5)\n",
            "Requirement already satisfied: urllib3!=1.25.0,!=1.25.1,<1.26,>=1.21.1 in /usr/local/lib/python3.6/dist-packages (from requests<3,>=2.21.0->tensorboard<3,>=2.3.0->tensorflow<3.0,>=2.0->kerassurgeon) (1.24.3)\n",
            "Requirement already satisfied: idna<3,>=2.5 in /usr/local/lib/python3.6/dist-packages (from requests<3,>=2.21.0->tensorboard<3,>=2.3.0->tensorflow<3.0,>=2.0->kerassurgeon) (2.10)\n",
            "Requirement already satisfied: chardet<4,>=3.0.2 in /usr/local/lib/python3.6/dist-packages (from requests<3,>=2.21.0->tensorboard<3,>=2.3.0->tensorflow<3.0,>=2.0->kerassurgeon) (3.0.4)\n",
            "Requirement already satisfied: requests-oauthlib>=0.7.0 in /usr/local/lib/python3.6/dist-packages (from google-auth-oauthlib<0.5,>=0.4.1->tensorboard<3,>=2.3.0->tensorflow<3.0,>=2.0->kerassurgeon) (1.3.0)\n",
            "Requirement already satisfied: pyasn1>=0.1.3 in /usr/local/lib/python3.6/dist-packages (from rsa<5,>=3.1.4; python_version >= \"3\"->google-auth<2,>=1.6.3->tensorboard<3,>=2.3.0->tensorflow<3.0,>=2.0->kerassurgeon) (0.4.8)\n",
            "Requirement already satisfied: oauthlib>=3.0.0 in /usr/local/lib/python3.6/dist-packages (from requests-oauthlib>=0.7.0->google-auth-oauthlib<0.5,>=0.4.1->tensorboard<3,>=2.3.0->tensorflow<3.0,>=2.0->kerassurgeon) (3.1.0)\n",
            "\u001b[31mERROR: datascience 0.10.6 has requirement folium==0.2.1, but you'll have folium 0.8.3 which is incompatible.\u001b[0m\n",
            "\u001b[31mERROR: albumentations 0.1.12 has requirement imgaug<0.2.7,>=0.2.5, but you'll have imgaug 0.2.9 which is incompatible.\u001b[0m\n",
            "Installing collected packages: importlib-metadata, pluggy, pytest, pillow, kerassurgeon\n",
            "  Found existing installation: importlib-metadata 3.3.0\n",
            "    Uninstalling importlib-metadata-3.3.0:\n",
            "      Successfully uninstalled importlib-metadata-3.3.0\n",
            "  Found existing installation: pluggy 0.7.1\n",
            "    Uninstalling pluggy-0.7.1:\n",
            "      Successfully uninstalled pluggy-0.7.1\n",
            "  Found existing installation: pytest 3.6.4\n",
            "    Uninstalling pytest-3.6.4:\n",
            "      Successfully uninstalled pytest-3.6.4\n",
            "  Found existing installation: Pillow 7.0.0\n",
            "    Uninstalling Pillow-7.0.0:\n",
            "      Successfully uninstalled Pillow-7.0.0\n",
            "Successfully installed importlib-metadata-1.7.0 kerassurgeon-0.2.0 pillow-7.2.0 pluggy-0.13.1 pytest-6.2.1\n"
          ],
          "name": "stdout"
        },
        {
          "output_type": "display_data",
          "data": {
            "application/vnd.colab-display-data+json": {
              "pip_warning": {
                "packages": [
                  "PIL"
                ]
              }
            }
          },
          "metadata": {
            "tags": []
          }
        }
      ]
    },
    {
      "cell_type": "code",
      "metadata": {
        "id": "PH3cc26jXg0o"
      },
      "source": [
        "import numpy as np \r\n",
        "import matplotlib.pyplot as plt\r\n",
        "import tensorflow as tf\r\n",
        "import keras\r\n",
        "import keras.backend as K\r\n",
        "import h5py\r\n",
        "from keras import initializers\r\n",
        "import sys\r\n",
        "import os\r\n",
        "from tqdm.auto import tqdm\r\n",
        "import keract\r\n",
        "from kerassurgeon.operations import delete_channels\r\n",
        "from kerassurgeon.identify import get_apoz\r\n",
        "from kerassurgeon.identify import high_apoz"
      ],
      "execution_count": 1,
      "outputs": []
    },
    {
      "cell_type": "code",
      "metadata": {
        "id": "3lEGWEMoZ86M"
      },
      "source": [
        "TARGET_LAYER = 7\r\n",
        "PRUNE_NUM = 100\r\n",
        "CLASS_NUM = 1282\r\n",
        "TRAIL_NUM = 3\r\n",
        "EPOCH_NUM = 30\r\n",
        "\r\n",
        "THRES_CONF = 0.99\r\n",
        "THRES_DETECT = 0.90"
      ],
      "execution_count": 14,
      "outputs": []
    },
    {
      "cell_type": "code",
      "metadata": {
        "id": "xpHI5kBBXyI0"
      },
      "source": [
        "def data_loader(filepath):\r\n",
        "    data = h5py.File(filepath, 'r')\r\n",
        "    x_data = np.array(data['data'])\r\n",
        "    y_data = np.array(data['label'])\r\n",
        "    x_data = x_data.transpose((0,2,3,1))\r\n",
        "\r\n",
        "    return x_data, y_data\r\n",
        "\r\n",
        "def data_preprocess(x_data):\r\n",
        "    return x_data/255\r\n",
        "\r\n",
        "def calc_success(y_pred, y_test):\r\n",
        "    return(np.sum(np.equal(y_pred, y_test))/y_test.shape[0]*100)\r\n",
        "\r\n",
        "def model_package(pruned_model, bd_model, x_test):\r\n",
        "    y_pred_badnet = np.argmax(bd_model.predict(x_test), axis=1)\r\n",
        "    y_pred_pruned =  np.argmax(pruned_model.predict(x_test), axis=1)  \r\n",
        "    res = np.zeros((x_test.shape[0]))\r\n",
        "    for i in range(0, x_test.shape[0]):\r\n",
        "        if y_pred_badnet[i] == 0: # backdoor input\r\n",
        "            if y_pred_pruned[i] == 0: # attack success\r\n",
        "                res[i] = 0\r\n",
        "            else:\r\n",
        "                res[i] = CLASS_NUM + 1\r\n",
        "        else:\r\n",
        "            res[i] = y_pred_pruned[i]\r\n",
        "    return res\r\n",
        "\r\n",
        "def model_package2(pruned_model, bd_model, x_test, thres_conf, thres_detect):\r\n",
        "    # probs of each class\r\n",
        "    y_pred_prob_badnet = bd_model.predict(x_test) \r\n",
        "    y_pred_prob_pruned = pruned_model.predict(x_test)\r\n",
        "    \r\n",
        "    # class having max prob\r\n",
        "    y_pred_badnet = np.argmax(y_pred_prob_badnet, axis=1)\r\n",
        "    y_pred_pruned =  np.argmax(y_pred_prob_pruned, axis=1)  \r\n",
        "\r\n",
        "    res = np.zeros((x_test.shape[0]))\r\n",
        "    for i in range(0, x_test.shape[0]):\r\n",
        "        # max prob\r\n",
        "        y_pred_prob_max_badnet = np.max(y_pred_prob_badnet[i])\r\n",
        "        y_pred_prob_max_pruend = np.max(y_pred_prob_pruned[i])\r\n",
        "\r\n",
        "        res[i] = y_pred_badnet[i]\r\n",
        "        # high confident clean or backdoor input\r\n",
        "        if y_pred_prob_max_badnet >= thres_conf:\r\n",
        "            # clean or success attack\r\n",
        "            if y_pred_prob_max_pruend >= thres_conf: \r\n",
        "                if np.equal(y_pred_badnet[i], y_pred_pruned[i]): # both models equal\r\n",
        "                    res[i] = y_pred_pruned[i] # clean input\r\n",
        "                else:\r\n",
        "                    # res[i] = y_pred_pruned[i] # maybe wrong but not backdoored\r\n",
        "                    res[i] = (CLASS_NUM + 1) # uncertained   \r\n",
        "            elif y_pred_prob_max_pruend < thres_conf and y_pred_prob_max_pruend >= thres_detect:\r\n",
        "                # res[i] = (CLASS_NUM + 1) # uncertained   \r\n",
        "                res[i] = y_pred_pruned[i]\r\n",
        "            else:\r\n",
        "                res[i] = (CLASS_NUM + 1)  # backdoor detected\r\n",
        "                # res[i] = y_pred_pruned[i]\r\n",
        "        elif y_pred_prob_max_badnet < thres_conf and y_pred_prob_max_badnet >= thres_detect:\r\n",
        "            if y_pred_prob_max_badnet >= y_pred_prob_max_pruend:\r\n",
        "                res[i] = y_pred_badnet[i]\r\n",
        "            else:\r\n",
        "                res[i] = y_pred_pruned[i]\r\n",
        "        \r\n",
        "        else: \r\n",
        "            if y_pred_prob_max_pruend >= thres_conf:\r\n",
        "                res[i] = y_pred_pruned[i]\r\n",
        "            elif y_pred_prob_max_pruend < thres_conf and y_pred_prob_max_pruend >= thres_detect:\r\n",
        "                res[i] = (CLASS_NUM + 1) # uncertained   \r\n",
        "                # res[i] = y_pred_pruned[i]\r\n",
        "            else:\r\n",
        "                res[i] = (CLASS_NUM + 1)  # backdoor detected\r\n",
        "                # res[i] = y_pred_pruned[i]\r\n",
        "    return res"
      ],
      "execution_count": 9,
      "outputs": []
    },
    {
      "cell_type": "code",
      "metadata": {
        "id": "8Ilyst3m1q20"
      },
      "source": [
        "def defense_success_rate(y_pred, y_clean, y_bd, isClean):\r\n",
        "    atk_succ = 0\r\n",
        "    def_succ = 0\r\n",
        "    mid_succ = 0\r\n",
        "    mid_fail = 0\r\n",
        "    clean_succ = 0\r\n",
        "    total_num = y_pred.shape[0]\r\n",
        "    for i in range(total_num):\r\n",
        "        if isClean == True:\r\n",
        "            if y_pred[i] == y_clean[i]:\r\n",
        "                clean_succ += 1\r\n",
        "            elif y_pred[i] == 0 and y_clean[i] != 0:\r\n",
        "                atk_succ += 1 # atk triggered\r\n",
        "            elif y_pred[i] == CLASS_NUM + 1:\r\n",
        "                def_succ += 1 # def triggered\r\n",
        "            else:\r\n",
        "                mid_fail += 1\r\n",
        "        else:\r\n",
        "            if y_pred[i] == 0:\r\n",
        "                atk_succ += 1\r\n",
        "            elif y_pred[i] == CLASS_NUM + 1:\r\n",
        "                def_succ += 1\r\n",
        "            else:\r\n",
        "                if y_pred[i] == y_clean[i]:\r\n",
        "                    mid_succ += 1\r\n",
        "                else:\r\n",
        "                    mid_fail += 1\r\n",
        "                \r\n",
        "    return atk_succ, def_succ, mid_succ, mid_fail, clean_succ, total_num"
      ],
      "execution_count": 15,
      "outputs": []
    },
    {
      "cell_type": "code",
      "metadata": {
        "colab": {
          "base_uri": "https://localhost:8080/"
        },
        "id": "8a9DzIF5N2sr",
        "outputId": "3b900e82-cc13-4d9a-a6ec-b005a12ac70a"
      },
      "source": [
        "NN = 386\r\n",
        "out_c = pruned_model.predict(np.expand_dims(x_test_clean[NN], axis=0))\r\n",
        "kkkk = np.sort(out_c, axis=1)\r\n",
        "out_c_pred = np.argmax(out_c, axis=1)\r\n",
        "print(out_c_pred, out_c[0,out_c_pred])\r\n",
        "print(kkkk)\r\n",
        "\r\n",
        "out_c = bd_model.predict(np.expand_dims(x_test_clean[NN], axis=0))\r\n",
        "kkkk = np.sort(out_c, axis=1)\r\n",
        "out_c_pred = np.argmax(out_c, axis=1)\r\n",
        "print(out_c_pred, out_c[0,out_c_pred])\r\n",
        "print(kkkk)\r\n",
        "\r\n",
        "out_p = pruned_model.predict(np.expand_dims(x_test_sung[NN], axis=0))\r\n",
        "kkkk = np.sort(out_p, axis=1)\r\n",
        "out_p_pred = np.argmax(out_p, axis=1)\r\n",
        "print(out_p_pred, out_p[0,out_p_pred])\r\n",
        "print(kkkk)\r\n",
        "\r\n",
        "out_c = bd_model.predict(np.expand_dims(x_test_sung[NN], axis=0))\r\n",
        "kkkk = np.sort(out_c, axis=1)\r\n",
        "out_c_pred = np.argmax(out_c, axis=1)\r\n",
        "print(out_c_pred, out_c[0,out_c_pred])\r\n",
        "print(kkkk)\r\n",
        "\r\n",
        "print(y_test_clean[NN])"
      ],
      "execution_count": null,
      "outputs": [
        {
          "output_type": "stream",
          "text": [
            "[871] [1.]\n",
            "[[0.0000000e+00 0.0000000e+00 0.0000000e+00 ... 6.8664567e-13\n",
            "  4.9056355e-09 1.0000000e+00]]\n",
            "[871] [1.]\n",
            "[[0.000000e+00 0.000000e+00 0.000000e+00 ... 7.353188e-12 6.373329e-10\n",
            "  1.000000e+00]]\n",
            "[497] [0.9037719]\n",
            "[[0.         0.         0.         ... 0.00161008 0.09174436 0.9037719 ]]\n",
            "[0] [0.71434474]\n",
            "[[0.         0.         0.         ... 0.00397997 0.28065422 0.71434474]]\n",
            "871\n"
          ],
          "name": "stdout"
        }
      ]
    },
    {
      "cell_type": "code",
      "metadata": {
        "id": "oSBKsNAuXipS"
      },
      "source": [
        "clean_validation_path = \"/content/drive/MyDrive/GY9163/Final/data/clean_validation_data.h5\"\r\n",
        "clean_test_path = \"/content/drive/MyDrive/GY9163/Final/data/clean_test_data.h5\"\r\n",
        "poisoned_sunglasses_path = \"/content/drive/MyDrive/GY9163/Final/data/sunglasses_poisoned_data.h5\"\r\n",
        "\r\n",
        "sunglasses_model_path = \"/content/drive/MyDrive/GY9163/Final/models/sunglasses_bd_net.h5\""
      ],
      "execution_count": 42,
      "outputs": []
    },
    {
      "cell_type": "code",
      "metadata": {
        "id": "wgxF0y5riBW7"
      },
      "source": [
        "clean_validation_path = \"/content/drive/MyDrive/GY9163/Final/data/clean_validation_data.h5\"\r\n",
        "clean_test_path = \"/content/drive/MyDrive/GY9163/Final/data/clean_test_data.h5\"\r\n",
        "poisoned_sunglasses_path = \"/content/drive/MyDrive/GY9163/Final/data/anonymous_1_poisoned_data.h5\"\r\n",
        "\r\n",
        "sunglasses_model_path = \"/content/drive/MyDrive/GY9163/Final/models/anonymous_1_bd_net.h5\""
      ],
      "execution_count": 23,
      "outputs": []
    },
    {
      "cell_type": "code",
      "metadata": {
        "id": "PH6AIbOVX9_W"
      },
      "source": [
        "x_val, y_val = data_loader(clean_validation_path)\r\n",
        "x_val = data_preprocess(x_val)\r\n",
        "x_test_clean, y_test_clean = data_loader(clean_test_path)\r\n",
        "x_test_clean = data_preprocess(x_test_clean)\r\n",
        "x_test_sung, y_test_sung = data_loader(poisoned_sunglasses_path)\r\n",
        "x_test_sung = data_preprocess(x_test_sung)"
      ],
      "execution_count": 28,
      "outputs": []
    },
    {
      "cell_type": "code",
      "metadata": {
        "id": "8kWV_8aewk3R"
      },
      "source": [
        "bd_model = keras.models.load_model(sunglasses_model_path)"
      ],
      "execution_count": 43,
      "outputs": []
    },
    {
      "cell_type": "code",
      "metadata": {
        "colab": {
          "base_uri": "https://localhost:8080/"
        },
        "id": "svAtWzGvubyS",
        "outputId": "d03bf0eb-21d6-4717-fbde-e7b2af0356e1"
      },
      "source": [
        "y_pred_bad_clean = np.argmax(bd_model.predict(x_test_clean), axis=1)\r\n",
        "y_pred_bad_sung =  np.argmax(bd_model.predict(x_test_sung), axis=1)  \r\n",
        "print(calc_success(y_pred_bad_clean, y_test_clean),calc_success(y_pred_bad_sung, y_test_sung))\r\n",
        "\r\n",
        "atk_succ, def_succ, mid_succ, mid_fail, clean_succ, total_num = defense_success_rate(y_pred_bad_sung, y_test_clean, y_test_sung, False)\r\n",
        "print(atk_succ, def_succ, mid_succ, mid_fail, clean_succ, total_num)\r\n",
        "print(atk_succ/total_num*100, def_succ/total_num*100, mid_succ/total_num*100, mid_fail/total_num*100, clean_succ/total_num*100)\r\n",
        "atk_succ, def_succ, mid_succ, mid_fail, clean_succ, total_num = defense_success_rate(y_pred_bad_clean, y_test_clean, y_test_sung, True)\r\n",
        "print(atk_succ, def_succ, mid_succ, mid_fail, clean_succ, total_num)\r\n",
        "print(atk_succ/total_num*100, def_succ/total_num*100, mid_succ/total_num*100, mid_fail/total_num*100, clean_succ/total_num*100)"
      ],
      "execution_count": 30,
      "outputs": [
        {
          "output_type": "stream",
          "text": [
            "97.77864380358535 99.99220576773187\n",
            "12829 0 1 0 0 12830\n",
            "99.99220576773187 0.0 0.00779423226812159 0.0 0.0\n",
            "1 0 0 284 12545 12830\n",
            "0.00779423226812159 0.0 0.0 2.213561964146532 97.77864380358535\n"
          ],
          "name": "stdout"
        }
      ]
    },
    {
      "cell_type": "code",
      "metadata": {
        "id": "CcigT_TQBlQR"
      },
      "source": [
        "act1 = keract.get_activations(bd_model, x_test_clean[0:1], layer_names='conv_4', nodes_to_evaluate=None, output_format='simple', nested=False, auto_compile=True)\r\n",
        "act2 = keract.get_activations(bd_model, x_test_sung[0:1], layer_names='conv_4', nodes_to_evaluate=None, output_format='simple', nested=False, auto_compile=True)\r\n"
      ],
      "execution_count": null,
      "outputs": []
    },
    {
      "cell_type": "code",
      "metadata": {
        "colab": {
          "base_uri": "https://localhost:8080/",
          "height": 417
        },
        "id": "Be4QjET5DU2o",
        "outputId": "62cd494f-9b65-4cfb-a9cb-f5821c128dc4"
      },
      "source": [
        "keract.display_activations(act1, cmap=None, save=False, directory='.', data_format='channels_last', fig_size=(6, 6), reshape_1d_layers=False)"
      ],
      "execution_count": null,
      "outputs": [
        {
          "output_type": "stream",
          "text": [
            "conv_4 (1, 4, 3, 80) \n"
          ],
          "name": "stdout"
        },
        {
          "output_type": "display_data",
          "data": {
            "image/png": "[encoded data removed]",
            "text/plain": [
              "<Figure size 432x432 with 82 Axes>"
            ]
          },
          "metadata": {
            "tags": [],
            "needs_background": "light"
          }
        }
      ]
    },
    {
      "cell_type": "code",
      "metadata": {
        "colab": {
          "base_uri": "https://localhost:8080/",
          "height": 417
        },
        "id": "QIz9Sh5hDcFf",
        "outputId": "7d882bc1-9f62-405b-af55-357d652da61e"
      },
      "source": [
        "keract.display_activations(act2, cmap=None, save=False, directory='.', data_format='channels_last', fig_size=(6, 6), reshape_1d_layers=False)"
      ],
      "execution_count": null,
      "outputs": [
        {
          "output_type": "stream",
          "text": [
            "conv_4 (1, 4, 3, 80) \n"
          ],
          "name": "stdout"
        },
        {
          "output_type": "display_data",
          "data": {
            "image/png": "[encoded data removed]",
            "text/plain": [
              "<Figure size 432x432 with 82 Axes>"
            ]
          },
          "metadata": {
            "tags": [],
            "needs_background": "light"
          }
        }
      ]
    },
    {
      "cell_type": "code",
      "metadata": {
        "colab": {
          "base_uri": "https://localhost:8080/"
        },
        "id": "Ovr845bQfLp_",
        "outputId": "5d15a3c4-a1fe-432d-9cf8-393946ff082d"
      },
      "source": [
        "i = 37\r\n",
        "ASR_lst = []\r\n",
        "CSR_lst = []\r\n",
        "while i< 43:\r\n",
        "    print(i)\r\n",
        "    k = 0\r\n",
        "    attack_success_rate_sum = 0\r\n",
        "    clean_classification_rate_sum = 0\r\n",
        "    while k < 3:\r\n",
        "        target_layer = bd_model.layers[5]\r\n",
        "        lst_high_apoz = get_apoz(bd_model, target_layer, x_val, node_indices=None)\r\n",
        "        lst_high_apoz = np.argsort(-lst_high_apoz)\r\n",
        "        prune_num_total = high_apoz(get_apoz(bd_model, target_layer, x_val, node_indices=None),method='absolute', cutoff_absolute=0.5)\r\n",
        "\r\n",
        "        valid_prune_list = []\r\n",
        "\r\n",
        "        for n in lst_high_apoz:\r\n",
        "            if n in prune_num_total:\r\n",
        "                valid_prune_list = np.append(valid_prune_list, n)\r\n",
        "        valid_prune_list = valid_prune_list.astype(int)\r\n",
        "        pruned_model = delete_channels(bd_model, target_layer, valid_prune_list[0:i],copy=True)\r\n",
        "\r\n",
        "        target_layer = pruned_model.layers[7]\r\n",
        "        lst_high_apoz = get_apoz(pruned_model, target_layer, x_val, node_indices=None)\r\n",
        "        lst_high_apoz = np.argsort(-lst_high_apoz)\r\n",
        "        prune_num_total = high_apoz(get_apoz(pruned_model, target_layer, x_val, node_indices=None),method='absolute', cutoff_absolute=0.5)\r\n",
        "\r\n",
        "        valid_prune_list = []\r\n",
        "\r\n",
        "        for n in lst_high_apoz:\r\n",
        "            if n in prune_num_total:\r\n",
        "                valid_prune_list = np.append(valid_prune_list, n)\r\n",
        "        valid_prune_list = valid_prune_list.astype(int)\r\n",
        "        pruned_model = delete_channels(pruned_model, target_layer, valid_prune_list[0:i],copy=True)\r\n",
        "\r\n",
        "        optimizer = keras.optimizers.Adadelta(lr=1)\r\n",
        "        pruned_model.compile(loss ='sparse_categorical_crossentropy', optimizer=optimizer, metrics=['accuracy'])\r\n",
        "        pruned_model.fit(x_val, y_val, epochs = 20, verbose=0)\r\n",
        "\r\n",
        "        y_pred_sung = model_package2(pruned_model, bd_model, x_test_sung, 0.99, 0.91)\r\n",
        "        y_pred_clean = model_package2(pruned_model, bd_model, x_test_clean, 0.99, 0.91)\r\n",
        "        attack_success_rate = calc_success(y_pred_sung, y_test_sung)\r\n",
        "        clean_classification_rate = calc_success(y_pred_clean, y_test_clean)\r\n",
        "        attack_success_rate_sum += attack_success_rate\r\n",
        "        clean_classification_rate_sum += clean_classification_rate\r\n",
        "        print(attack_success_rate)\r\n",
        "        print(clean_classification_rate)\r\n",
        "        atk_succ, def_succ, mid_succ, mid_fail, clean_succ, total_num = defense_success_rate(y_pred_sung, y_test_clean, y_test_sung, False)\r\n",
        "        print(atk_succ, def_succ, mid_succ, mid_fail, clean_succ, total_num)\r\n",
        "        print(atk_succ/total_num*100, def_succ/total_num*100, mid_succ/total_num*100, mid_fail/total_num*100, clean_succ/total_num*100)\r\n",
        "        atk_succ, def_succ, mid_succ, mid_fail, clean_succ, total_num = defense_success_rate(y_pred_clean, y_test_clean, y_test_sung, True)\r\n",
        "        print(atk_succ, def_succ, mid_succ, mid_fail, clean_succ, total_num)\r\n",
        "        print(atk_succ/total_num*100, def_succ/total_num*100, mid_succ/total_num*100, mid_fail/total_num*100, clean_succ/total_num*100)\r\n",
        "\r\n",
        "        k += 1\r\n",
        "    ASR_lst = np.append(ASR_lst, attack_success_rate_sum)\r\n",
        "    CSR_lst = np.append(CSR_lst, clean_classification_rate_sum)\r\n",
        "    \r\n",
        "    i += 1"
      ],
      "execution_count": 54,
      "outputs": [
        {
          "output_type": "stream",
          "text": [
            "37\n",
            "Deleting 37/60 channels from layer: conv_3\n",
            "Deleting 37/80 channels from layer: conv_4\n",
            "0.8339828526890102\n",
            "89.97661730319564\n",
            "107 9879 361 2483 0 12830\n",
            "0.8339828526890102 76.99922057677318 2.813717848791894 19.35307872174591 0.0\n",
            "1 1042 0 243 11544 12830\n",
            "0.00779423226812159 8.121590023382696 0.0 1.8939984411535464 89.97661730319564\n",
            "Deleting 37/60 channels from layer: conv_3\n",
            "Deleting 37/80 channels from layer: conv_4\n",
            "3.9360872954014035\n",
            "90.01558846453625\n",
            "505 9755 370 2200 0 12830\n",
            "3.9360872954014035 76.0327357755261 2.8838659392049886 17.1473109898675 0.0\n",
            "2 1052 0 227 11549 12830\n",
            "0.01558846453624318 8.199532346063913 0.0 1.769290724863601 90.01558846453625\n",
            "Deleting 37/60 channels from layer: conv_3\n",
            "Deleting 37/80 channels from layer: conv_4\n",
            "0.8807482462977396\n",
            "89.71161340607951\n",
            "113 9986 308 2423 0 12830\n",
            "0.8807482462977396 77.83320342946219 2.4006235385814496 18.885424785658614 0.0\n",
            "0 1076 0 244 11510 12830\n",
            "0.0 8.38659392049883 0.0 1.9017926734216677 89.71161340607951\n",
            "38\n",
            "Deleting 38/60 channels from layer: conv_3\n",
            "Deleting 38/80 channels from layer: conv_4\n",
            "1.2626656274356975\n",
            "89.4933749025721\n",
            "162 10292 300 2076 0 12830\n",
            "1.2626656274356975 80.2182385035074 2.338269680436477 16.18082618862042 0.0\n",
            "1 1092 0 255 11482 12830\n",
            "0.00779423226812159 8.511301636788776 0.0 1.9875292283710055 89.4933749025721\n",
            "Deleting 38/60 channels from layer: conv_3\n",
            "Deleting 38/80 channels from layer: conv_4\n",
            "1.2626656274356975\n",
            "90.45985970381918\n",
            "162 10002 315 2351 0 12830\n",
            "1.2626656274356975 77.95791114575215 2.4551831644583006 18.32424006235386 0.0\n",
            "0 1021 0 203 11606 12830\n",
            "0.0 7.957911145752143 0.0 1.5822291504286827 90.45985970381918\n",
            "Deleting 38/60 channels from layer: conv_3\n",
            "Deleting 38/80 channels from layer: conv_4\n",
            "0.8028059236165237\n",
            "89.29072486360093\n",
            "103 9882 354 2491 0 12830\n",
            "0.8028059236165237 77.02260327357754 2.7591582229150426 19.415432579890883 0.0\n",
            "0 1112 0 262 11456 12830\n",
            "0.0 8.667186282151208 0.0 2.0420888542478566 89.29072486360093\n",
            "39\n",
            "Deleting 39/60 channels from layer: conv_3\n",
            "Deleting 39/80 channels from layer: conv_4\n",
            "1.8784099766173032\n",
            "87.56040530007793\n",
            "241 9811 353 2425 0 12830\n",
            "1.8784099766173032 76.46921278254092 2.7513639906469214 18.901013250194858 0.0\n",
            "0 1342 0 254 11234 12830\n",
            "0.0 10.459859703819173 0.0 1.9797349961028838 87.56040530007793\n",
            "Deleting 39/60 channels from layer: conv_3\n",
            "Deleting 39/80 channels from layer: conv_4\n",
            "1.3561964146531567\n",
            "88.96336710833982\n",
            "174 9793 289 2574 0 12830\n",
            "1.3561964146531567 76.32891660171474 2.2525331254871395 20.062353858144974 0.0\n",
            "0 1163 0 253 11414 12830\n",
            "0.0 9.06469212782541 0.0 1.9719407638347624 88.96336710833982\n",
            "Deleting 39/60 channels from layer: conv_3\n",
            "Deleting 39/80 channels from layer: conv_4\n",
            "1.254871395167576\n",
            "89.54793452844895\n",
            "161 9902 371 2396 0 12830\n",
            "1.254871395167576 77.17848791894 2.89166017147311 18.674980514419328 0.0\n",
            "0 1088 0 253 11489 12830\n",
            "0.0 8.48012470771629 0.0 1.9719407638347624 89.54793452844895\n",
            "40\n",
            "Deleting 40/60 channels from layer: conv_3\n",
            "Deleting 40/80 channels from layer: conv_4\n",
            "1.558846453624318\n",
            "89.68823070927515\n",
            "200 9867 345 2418 0 12830\n",
            "1.558846453624318 76.90568978955574 2.6890101325019486 18.846453624318006 0.0\n",
            "0 1094 0 229 11507 12830\n",
            "0.0 8.52689010132502 0.0 1.7848791893998441 89.68823070927515\n",
            "Deleting 40/60 channels from layer: conv_3\n",
            "Deleting 40/80 channels from layer: conv_4\n",
            "1.1301636788776306\n",
            "90.19485580670305\n",
            "145 9934 368 2383 0 12830\n",
            "1.1301636788776306 77.42790335151987 2.868277474668745 18.57365549493375 0.0\n",
            "0 1034 0 224 11572 12830\n",
            "0.0 8.059236165237724 0.0 1.745908028059236 90.19485580670305\n",
            "Deleting 40/60 channels from layer: conv_3\n",
            "Deleting 40/80 channels from layer: conv_4\n",
            "1.5198752922837102\n",
            "88.48012470771629\n",
            "195 10232 327 2076 0 12830\n",
            "1.5198752922837102 79.75058456742012 2.54871395167576 16.18082618862042 0.0\n",
            "0 1230 0 248 11352 12830\n",
            "0.0 9.586905689789555 0.0 1.9329696024941543 88.48012470771629\n",
            "41\n",
            "Deleting 41/60 channels from layer: conv_3\n",
            "Deleting 41/80 channels from layer: conv_4\n",
            "1.215900233826968\n",
            "89.29072486360093\n",
            "156 9950 325 2399 0 12830\n",
            "1.215900233826968 77.55261106780982 2.533125487139517 18.698363211223697 0.0\n",
            "0 1132 0 242 11456 12830\n",
            "0.0 8.82307092751364 0.0 1.886204208885425 89.29072486360093\n",
            "Deleting 41/60 channels from layer: conv_3\n",
            "Deleting 41/80 channels from layer: conv_4\n",
            "1.293842556508184\n",
            "89.22057677318784\n",
            "166 10075 317 2272 0 12830\n",
            "1.293842556508184 78.52689010132502 2.470771628994544 17.708495713172255 0.0\n",
            "1 1143 0 239 11447 12830\n",
            "0.00779423226812159 8.908807482462977 0.0 1.86282151208106 89.22057677318784\n",
            "Deleting 41/60 channels from layer: conv_3\n",
            "Deleting 41/80 channels from layer: conv_4\n",
            "1.4029618082618862\n",
            "88.29306313328136\n",
            "180 10043 306 2301 0 12830\n",
            "1.4029618082618862 78.27747466874513 2.3850350740452066 17.934528448947777 0.0\n",
            "0 1248 0 254 11328 12830\n",
            "0.0 9.727201870615744 0.0 1.9797349961028838 88.29306313328136\n",
            "42\n",
            "Deleting 42/60 channels from layer: conv_3\n",
            "Deleting 42/80 channels from layer: conv_4\n",
            "0.29618082618862046\n",
            "89.21278254091972\n",
            "38 10083 355 2354 0 12830\n",
            "0.29618082618862046 78.58924395947 2.7669524551831643 18.34762275915822 0.0\n",
            "0 1118 0 266 11446 12830\n",
            "0.0 8.713951675759937 0.0 2.073265783320343 89.21278254091972\n",
            "Deleting 42/60 channels from layer: conv_3\n",
            "Deleting 42/80 channels from layer: conv_4\n",
            "1.2392829306313329\n",
            "90.1091192517537\n",
            "159 10101 315 2255 0 12830\n",
            "1.2392829306313329 78.72954014029618 2.4551831644583006 17.575993764614186 0.0\n",
            "0 1031 0 238 11561 12830\n",
            "0.0 8.03585346843336 0.0 1.8550272798129386 90.1091192517537\n",
            "Deleting 42/60 channels from layer: conv_3\n",
            "Deleting 42/80 channels from layer: conv_4\n",
            "1.4731098986749804\n",
            "89.14263445050663\n",
            "189 10056 328 2257 0 12830\n",
            "1.4731098986749804 78.3787996882307 2.556508183943882 17.59158222915043 0.0\n",
            "0 1129 0 264 11437 12830\n",
            "0.0 8.799688230709275 0.0 2.0576773187841 89.14263445050663\n"
          ],
          "name": "stdout"
        }
      ]
    },
    {
      "cell_type": "code",
      "metadata": {
        "colab": {
          "base_uri": "https://localhost:8080/"
        },
        "id": "kq0MrTVTflF9",
        "outputId": "179b4e28-7b5f-4758-811e-acca2b4d52e0"
      },
      "source": [
        "ASR_lst/3\r\n"
      ],
      "execution_count": 57,
      "outputs": [
        {
          "output_type": "execute_result",
          "data": {
            "text/plain": [
              "array([1.88360613, 1.10937906, 1.4964926 , 1.40296181, 1.30423487,\n",
              "       1.00285789])"
            ]
          },
          "metadata": {
            "tags": []
          },
          "execution_count": 57
        }
      ]
    },
    {
      "cell_type": "code",
      "metadata": {
        "colab": {
          "base_uri": "https://localhost:8080/"
        },
        "id": "4pwNatFOfoxs",
        "outputId": "c59486ea-2518-4fe3-9266-3d58b3276328"
      },
      "source": [
        "CSR_lst/3"
      ],
      "execution_count": 58,
      "outputs": [
        {
          "output_type": "execute_result",
          "data": {
            "text/plain": [
              "array([89.90127306, 89.74798649, 88.69056898, 89.45440374, 88.93478826,\n",
              "       89.48817875])"
            ]
          },
          "metadata": {
            "tags": []
          },
          "execution_count": 58
        }
      ]
    },
    {
      "cell_type": "code",
      "metadata": {
        "colab": {
          "base_uri": "https://localhost:8080/"
        },
        "id": "T5HQER9Q0QBL",
        "outputId": "ba2a8d1e-3761-4ae5-d31e-845e13ff6cbf"
      },
      "source": [
        "# Final Model Generator\r\n",
        "i = 40\r\n",
        "target_layer = bd_model.layers[5]\r\n",
        "lst_high_apoz = get_apoz(bd_model, target_layer, x_val, node_indices=None)\r\n",
        "lst_high_apoz = np.argsort(-lst_high_apoz)\r\n",
        "prune_num_total = high_apoz(get_apoz(bd_model, target_layer, x_val, node_indices=None),method='absolute', cutoff_absolute=0.5)\r\n",
        "\r\n",
        "valid_prune_list = []\r\n",
        "\r\n",
        "for n in lst_high_apoz:\r\n",
        "    if n in prune_num_total:\r\n",
        "        valid_prune_list = np.append(valid_prune_list, n)\r\n",
        "valid_prune_list = valid_prune_list.astype(int)\r\n",
        "pruned_model = delete_channels(bd_model, target_layer, valid_prune_list[0:i],copy=True)\r\n",
        "\r\n",
        "target_layer = pruned_model.layers[7]\r\n",
        "lst_high_apoz = get_apoz(pruned_model, target_layer, x_val, node_indices=None)\r\n",
        "lst_high_apoz = np.argsort(-lst_high_apoz)\r\n",
        "prune_num_total = high_apoz(get_apoz(pruned_model, target_layer, x_val, node_indices=None),method='absolute', cutoff_absolute=0.5)\r\n",
        "\r\n",
        "valid_prune_list = []\r\n",
        "\r\n",
        "for n in lst_high_apoz:\r\n",
        "    if n in prune_num_total:\r\n",
        "        valid_prune_list = np.append(valid_prune_list, n)\r\n",
        "valid_prune_list = valid_prune_list.astype(int)\r\n",
        "pruned_model = delete_channels(pruned_model, target_layer, valid_prune_list[0:i],copy=True)\r\n",
        "\r\n",
        "optimizer = keras.optimizers.Adadelta(lr=1)\r\n",
        "pruned_model.compile(loss ='sparse_categorical_crossentropy', optimizer=optimizer, metrics=['accuracy'])\r\n",
        "pruned_model.fit(x_val, y_val, epochs = 30, verbose=0)"
      ],
      "execution_count": 49,
      "outputs": [
        {
          "output_type": "stream",
          "text": [
            "Deleting 40/60 channels from layer: conv_3\n",
            "Deleting 40/80 channels from layer: conv_4\n"
          ],
          "name": "stdout"
        },
        {
          "output_type": "execute_result",
          "data": {
            "text/plain": [
              "<tensorflow.python.keras.callbacks.History at 0x7fd7b50a33c8>"
            ]
          },
          "metadata": {
            "tags": []
          },
          "execution_count": 49
        }
      ]
    },
    {
      "cell_type": "code",
      "metadata": {
        "colab": {
          "base_uri": "https://localhost:8080/"
        },
        "id": "zS3lU05x0kXY",
        "outputId": "00966a90-c474-4da6-ae7e-270165f90df4"
      },
      "source": [
        "y_pred_sung = model_package2(pruned_model, bd_model, x_test_sung, 0.99, 0.91)\r\n",
        "y_pred_clean = model_package2(pruned_model, bd_model, x_test_clean, 0.99, 0.91)\r\n",
        "attack_success_rate = calc_success(y_pred_sung, y_test_sung)\r\n",
        "clean_classification_rate = calc_success(y_pred_clean, y_test_clean)\r\n",
        "print(attack_success_rate)\r\n",
        "print(clean_classification_rate)\r\n",
        "atk_succ, def_succ, mid_succ, mid_fail, clean_succ, total_num = defense_success_rate(y_pred_sung, y_test_clean, y_test_sung, False)\r\n",
        "print(atk_succ, def_succ, mid_succ, mid_fail, clean_succ, total_num)\r\n",
        "print(atk_succ/total_num*100, def_succ/total_num*100, mid_succ/total_num*100, mid_fail/total_num*100, clean_succ/total_num*100)\r\n",
        "atk_succ, def_succ, mid_succ, mid_fail, clean_succ, total_num = defense_success_rate(y_pred_clean, y_test_clean, y_test_sung, True)\r\n",
        "print(atk_succ, def_succ, mid_succ, mid_fail, clean_succ, total_num)\r\n",
        "print(atk_succ/total_num*100, def_succ/total_num*100, mid_succ/total_num*100, mid_fail/total_num*100, clean_succ/total_num*100)\r\n",
        "\r\n"
      ],
      "execution_count": 59,
      "outputs": [
        {
          "output_type": "stream",
          "text": [
            "1.4731098986749804\n",
            "89.14263445050663\n",
            "189 10056 328 2257 0 12830\n",
            "1.4731098986749804 78.3787996882307 2.556508183943882 17.59158222915043 0.0\n",
            "0 1129 0 264 11437 12830\n",
            "0.0 8.799688230709275 0.0 2.0576773187841 89.14263445050663\n"
          ],
          "name": "stdout"
        }
      ]
    },
    {
      "cell_type": "code",
      "metadata": {
        "id": "nhA-KL9_00wB"
      },
      "source": [
        "!mkdir -p saved_model\r\n",
        "pruned_model.save('saved_model/G1_07_90.h5') "
      ],
      "execution_count": 52,
      "outputs": []
    },
    {
      "cell_type": "code",
      "metadata": {
        "colab": {
          "base_uri": "https://localhost:8080/"
        },
        "id": "YfsOrp914mSk",
        "outputId": "9881161d-d66b-4872-9ccc-1d806bb47730"
      },
      "source": [
        "cutoff_stds = [3, 2.5, 2, 1.5, 1.2, 1, 0.8, 0.6, 0.4, 0]\r\n",
        "for cutoff_std in cutoff_stds:\r\n",
        "    lst_high_apoz = high_apoz(get_apoz(bd_model, target_layer, x_val, node_indices=None),method='std',cutoff_std=cutoff_std)\r\n",
        "    prune_num = len(lst_high_apoz) if (PRUNE_NUM>len(lst_high_apoz) or PRUNE_NUM==0) else PRUNE_NUM\r\n",
        "    print(prune_num)"
      ],
      "execution_count": null,
      "outputs": [
        {
          "output_type": "stream",
          "text": [
            "0\n",
            "2\n",
            "4\n",
            "6\n",
            "9\n",
            "12\n",
            "19\n",
            "20\n",
            "26\n",
            "33\n",
            "4\n"
          ],
          "name": "stdout"
        }
      ]
    },
    {
      "cell_type": "code",
      "metadata": {
        "id": "6t1Q9SFeAWqM"
      },
      "source": [
        "target_layer = bd_model.layers[TARGET_LAYER]\r\n",
        "t1 = (get_apoz(bd_model, target_layer, x_val, node_indices=None))\r\n",
        "t2 = high_apoz(t1,method='std',cutoff_std=2)"
      ],
      "execution_count": null,
      "outputs": []
    },
    {
      "cell_type": "code",
      "metadata": {
        "colab": {
          "base_uri": "https://localhost:8080/",
          "height": 66,
          "referenced_widgets": [
            "50a2f77f445245bfa74dabbb8648a67d",
            "c55ca4e9927340c58f77867a79edd7e2",
            "96379ca882fb4f1ca29e2bde5b914e8b",
            "15a6bf5ad322401dbb2e1b07020ccdbb",
            "6f8710c3147048ab9c5b0f1a7e51d81d",
            "62bbd0790fc9471dbd1d85123acb2c8c",
            "5fc34fd51adf484c876a1755a6440aa9",
            "10fc83cb962a4c25a1a241c64af6cf05"
          ]
        },
        "id": "xG7So0TYBqU6",
        "outputId": "4610d18c-8481-4680-89f1-4eefc966a36d"
      },
      "source": [
        "cumul_activations = np.zeros((y_val.shape[0],4,3,80))\r\n",
        "for i in tqdm(range(0, ((y_val).shape[0]))):\r\n",
        "    keract_inputs = x_val[i:i+1]\r\n",
        "    activations = keract.get_activations(bd_model, keract_inputs, layer_names=None, nodes_to_evaluate=None, output_format='simple', nested=False, auto_compile=True)\r\n",
        "    cumul_activations[i] = cumul_activations[i] + activations['conv_4']"
      ],
      "execution_count": null,
      "outputs": [
        {
          "output_type": "display_data",
          "data": {
            "application/vnd.jupyter.widget-view+json": {
              "model_id": "50a2f77f445245bfa74dabbb8648a67d",
              "version_minor": 0,
              "version_major": 2
            },
            "text/plain": [
              "HBox(children=(FloatProgress(value=0.0, max=11547.0), HTML(value='')))"
            ]
          },
          "metadata": {
            "tags": []
          }
        },
        {
          "output_type": "stream",
          "text": [
            "\n"
          ],
          "name": "stdout"
        }
      ]
    },
    {
      "cell_type": "code",
      "metadata": {
        "colab": {
          "base_uri": "https://localhost:8080/"
        },
        "id": "y19i_tT3CBys",
        "outputId": "c0723dfa-8460-4064-b87a-0fb0eea923bd"
      },
      "source": [
        "avg_activations = np.mean(cumul_activations, axis=0)\r\n",
        "avg_activations_channels = np.zeros((1,80))\r\n",
        "clean = avg_activations\r\n",
        "for i in range(0, 80):\r\n",
        "    avg_activations_channels[0][i] = np.mean(clean[:,:,i])\r\n",
        "id_sort = np.argsort(avg_activations_channels, axis=-1)\r\n",
        "print(id_sort[0])"
      ],
      "execution_count": null,
      "outputs": [
        {
          "output_type": "stream",
          "text": [
            "[20 68  5 36 33 22  9 23 70 27 62 32 50 52 24  1 35 44 12 14 21 67 59  4\n",
            "  7  2 73 18 45 61 16 65 71 66 43 76 51 39 49 34 75 38 17 29  8 78 26 58\n",
            " 60 54  3 46 28 64 10 55 47 69 25 57 19 77 48 31 79 13 42 37 30 74 41 72\n",
            " 15 63 11 53  6  0 56 40]\n"
          ],
          "name": "stdout"
        }
      ]
    },
    {
      "cell_type": "code",
      "metadata": {
        "colab": {
          "base_uri": "https://localhost:8080/"
        },
        "id": "u_IQVZjkBH9U",
        "outputId": "0107c23b-13d9-49d0-db07-c70dc3596311"
      },
      "source": [
        "print(t1)\r\n",
        "print(np.sort(t1))\r\n",
        "print(t1[20])\r\n",
        "print(np.argsort(t1))\r\n",
        "print(t2)"
      ],
      "execution_count": null,
      "outputs": [
        {
          "output_type": "stream",
          "text": [
            "[0.82752555 0.67708387 0.72443275 0.73336906 0.48966506 0.61453624\n",
            " 0.4677427  0.51168269 0.6164848  0.47772365 0.73650732 0.69855698\n",
            " 0.89773318 0.72058327 0.78654196 0.67362951 0.44754698 0.5731034\n",
            " 0.40232203 0.52802135 0.53857604 0.71537737 0.50287412 0.71320581\n",
            " 0.57532909 0.51314844 0.72692149 0.52745194 0.61582446 0.62445332\n",
            " 0.45640534 0.81486642 0.99986035 0.53613926 0.82555209 0.42796614\n",
            " 0.86928315 0.83346215 0.44980298 0.46311488 0.54274487 0.61053196\n",
            " 0.80799558 0.69253269 0.97286525 0.56191976 0.6173833  0.71023318\n",
            " 0.70384732 0.99942842 0.6932017  0.64580627 0.52754612 0.52145038\n",
            " 0.38285269 0.65166277 0.44857539 0.80631874 0.77755802 0.74635836]\n",
            "[0.38285269 0.40232203 0.42796614 0.44754698 0.44857539 0.44980298\n",
            " 0.45640534 0.46311488 0.4677427  0.47772365 0.48966506 0.50287412\n",
            " 0.51168269 0.51314844 0.52145038 0.52745194 0.52754612 0.52802135\n",
            " 0.53613926 0.53857604 0.54274487 0.56191976 0.5731034  0.57532909\n",
            " 0.61053196 0.61453624 0.61582446 0.6164848  0.6173833  0.62445332\n",
            " 0.64580627 0.65166277 0.67362951 0.67708387 0.69253269 0.6932017\n",
            " 0.69855698 0.70384732 0.71023318 0.71320581 0.71537737 0.72058327\n",
            " 0.72443275 0.72692149 0.73336906 0.73650732 0.74635836 0.77755802\n",
            " 0.78654196 0.80631874 0.80799558 0.81486642 0.82555209 0.82752555\n",
            " 0.83346215 0.86928315 0.89773318 0.97286525 0.99942842 0.99986035]\n",
            "0.5385760370659045\n",
            "[54 18 35 16 56 38 30 39  6  9  4 22  7 25 53 27 52 19 33 20 40 45 17 24\n",
            " 41  5 28  8 46 29 51 55 15  1 43 50 11 48 47 23 21 13  2 26  3 10 59 58\n",
            " 14 57 42 31 34  0 37 36 12 44 49 32]\n",
            "[32 44 49]\n"
          ],
          "name": "stdout"
        }
      ]
    },
    {
      "cell_type": "code",
      "metadata": {
        "colab": {
          "base_uri": "https://localhost:8080/"
        },
        "id": "SEMbJDzjDtla",
        "outputId": "1a03bb1f-3568-4002-8bcb-3dd91df8d1ba"
      },
      "source": [
        "t3 = get_apoz(bd_model, target_layer, x_val, node_indices=None)\r\n",
        "lst_high_apoz = high_apoz(t3,method='absolute', cutoff_absolute=0.5)\r\n",
        "print(np.argsort(-t3))"
      ],
      "execution_count": null,
      "outputs": [
        {
          "output_type": "stream",
          "text": [
            "[20 68  5 33 36 27 52 62 22 71 24 50 23 32  9 35 14 12 70 59  1 43 21  7\n",
            " 17 16 34 58 67 51  4 49 73 19 44 26 10 54  2 29 18 46 45 75 77 64 69 47\n",
            " 25 65  0 61  3 38 55 13 48  8 78 60 57 37 74 72 28 31 39 76 11 53 66 79\n",
            " 42 63 56 30 41  6 40 15]\n"
          ],
          "name": "stdout"
        }
      ]
    },
    {
      "cell_type": "code",
      "metadata": {
        "colab": {
          "base_uri": "https://localhost:8080/"
        },
        "id": "0OPi8GOxFGor",
        "outputId": "65e0e71e-4552-44b8-a563-99d335aa5b59"
      },
      "source": [
        "lst_high_apoz = get_apoz(bd_model, target_layer, x_val, node_indices=None)\r\n",
        "lst_high_apoz = np.argsort(-lst_high_apoz)\r\n",
        "num_t = \r\n",
        "print(lst_high_apoz[0:50])"
      ],
      "execution_count": null,
      "outputs": [
        {
          "output_type": "stream",
          "text": [
            "[20 68  5 33 36 27 52 62 22 71 24 50 23 32  9 35 14 12 70 59  1 43 21  7\n",
            " 17 16 34 58 67 51  4 49 73 19 44 26 10 54  2 29 18 46 45 75 77 64 69 47\n",
            " 25 65]\n"
          ],
          "name": "stdout"
        }
      ]
    },
    {
      "cell_type": "code",
      "metadata": {
        "id": "p32652a8YWAS"
      },
      "source": [
        "target_layer = bd_model.layers[TARGET_LAYER]\r\n",
        "\r\n",
        "cutoff_stds = [3, 2.5, 2, 1.5, 1.2, 1, 0.8, 0.6, 0.4]\r\n",
        "pruned_neurons_count_list = []\r\n",
        "attack_success_rate_list = []\r\n",
        "clean_classification_rate_list = []\r\n",
        "\r\n",
        "attack_success_rate_sum = 0\r\n",
        "clean_classification_rate_sum = 0\r\n",
        "\r\n",
        "for cutoff_std in cutoff_stds:\r\n",
        "    print(cutoff_std)\r\n",
        "    lst_high_apoz = high_apoz(get_apoz(bd_model, target_layer, x_val, node_indices=None),method='std',cutoff_std=cutoff_std)\r\n",
        "    # print(lst_high_apoz)\r\n",
        "\r\n",
        "    prune_num = len(lst_high_apoz) if (PRUNE_NUM>len(lst_high_apoz) or PRUNE_NUM==0) else PRUNE_NUM\r\n",
        "    pruned_neurons_count_list = np.append(pruned_neurons_count_list, prune_num)\r\n",
        "    pruned_model = delete_channels(bd_model, target_layer, lst_high_apoz[0:prune_num],copy=True)\r\n",
        "\r\n",
        "    optimizer = keras.optimizers.Adadelta(lr=1)\r\n",
        "    pruned_model.compile(loss ='sparse_categorical_crossentropy', optimizer=optimizer, metrics=['accuracy'])\r\n",
        "    pruned_model.fit(x_val, y_val, epochs = EPOCH_NUM, verbose=1)\r\n",
        "\r\n",
        "    # for i in range(0,TRAIL_NUM):\r\n",
        "    #     y_pred_sung = model_package(pruned_model, bd_model, x_test_sung)\r\n",
        "    #     y_pred_clean = model_package(pruned_model, bd_model, x_test_clean)\r\n",
        "    #     attack_success_rate = calc_success(y_pred_sung, y_test_sung)\r\n",
        "    #     clean_classification_rate = calc_success(y_pred_clean, y_test_clean)\r\n",
        "\r\n",
        "    #     attack_success_rate_sum += attack_success_rate\r\n",
        "    #     clean_classification_rate_sum += clean_classification_rate\r\n",
        "\r\n",
        "    #     print(\"attack_success_rate: \",attack_success_rate)\r\n",
        "    #     print(\"clean_classification_rate: \",clean_classification_rate)\r\n",
        "\r\n",
        "    # attack_success_rate_list = np.append(attack_success_rate_list, attack_success_rate_sum/TRAIL_NUM)\r\n",
        "    # clean_classification_rate_list = np.append(clean_classification_rate_list, clean_classification_rate_sum/TRAIL_NUM)\r\n",
        "\r\n",
        "    y_pred_sung = model_package(pruned_model, bd_model, x_test_sung)\r\n",
        "    y_pred_clean = model_package(pruned_model, bd_model, x_test_clean)\r\n",
        "    attack_success_rate = calc_success(y_pred_sung, y_test_sung)\r\n",
        "    clean_classification_rate = calc_success(y_pred_clean, y_test_clean)\r\n",
        "\r\n",
        "    attack_success_rate_list = np.append(attack_success_rate_list, attack_success_rate)\r\n",
        "    clean_classification_rate_list = np.append(clean_classification_rate_list, clean_classification_rate)\r\n",
        "\r\n",
        "    print(\"attack_success_rate: \",attack_success_rate)\r\n",
        "    print(\"clean_classification_rate: \",clean_classification_rate)"
      ],
      "execution_count": null,
      "outputs": []
    },
    {
      "cell_type": "code",
      "metadata": {
        "colab": {
          "base_uri": "https://localhost:8080/"
        },
        "id": "A7cEHvUhFo-V",
        "outputId": "46e65441-623c-4885-848b-28689a3bbb1e"
      },
      "source": [
        "\r\n",
        "\r\n"
      ],
      "execution_count": null,
      "outputs": [
        {
          "output_type": "execute_result",
          "data": {
            "text/plain": [
              "78"
            ]
          },
          "metadata": {
            "tags": []
          },
          "execution_count": 60
        }
      ]
    },
    {
      "cell_type": "code",
      "metadata": {
        "colab": {
          "base_uri": "https://localhost:8080/"
        },
        "id": "voNcDvaUgTq2",
        "outputId": "6bf7014a-5f5c-4081-d6fd-462f737be489"
      },
      "source": [
        "y_pred_sung = model_package2(pruned_model, bd_model, x_test_sung)\r\n",
        "y_pred_clean = model_package2(pruned_model, bd_model, x_test_clean)\r\n",
        "attack_success_rate = calc_success(y_pred_sung, y_test_sung)\r\n",
        "clean_classification_rate = calc_success(y_pred_clean, y_test_clean)\r\n",
        "\r\n",
        "print(\"attack_success_rate: \",attack_success_rate)\r\n",
        "print(\"clean_classification_rate: \",clean_classification_rate)"
      ],
      "execution_count": null,
      "outputs": [
        {
          "output_type": "stream",
          "text": [
            "attack_success_rate:  2.1434138737334374\n",
            "clean_classification_rate:  87.91114575214341\n"
          ],
          "name": "stdout"
        }
      ]
    },
    {
      "cell_type": "code",
      "metadata": {
        "colab": {
          "base_uri": "https://localhost:8080/"
        },
        "id": "w-p4rbCD2fg0",
        "outputId": "9c9c87b4-b4d4-4ff0-8d64-9729d2fdc1ef"
      },
      "source": [
        "atk_succ, def_succ, mid_succ, mid_fail, clean_succ, total_num = defense_success_rate(y_pred_sung, y_test_clean, y_test_sung, False)\r\n",
        "print(atk_succ, def_succ, mid_succ, mid_fail, clean_succ, total_num)\r\n",
        "atk_succ, def_succ, mid_succ, mid_fail, clean_succ, total_num = defense_success_rate(y_pred_clean, y_test_clean, y_test_sung, True)\r\n",
        "print(atk_succ, def_succ, mid_succ, mid_fail, clean_succ, total_num)"
      ],
      "execution_count": null,
      "outputs": [
        {
          "output_type": "stream",
          "text": [
            "275 9811 857 1887 0 12830\n",
            "0 1423 0 0 11279 12830\n"
          ],
          "name": "stdout"
        }
      ]
    },
    {
      "cell_type": "code",
      "metadata": {
        "colab": {
          "base_uri": "https://localhost:8080/"
        },
        "id": "dsvTrlz8ef8w",
        "outputId": "2c70664f-c5d8-4468-87a8-bbad974ab19f"
      },
      "source": [
        "print(pruned_neurons_count_list)\r\n",
        "print(attack_success_rate_list)\r\n",
        "print(clean_classification_rate_list)"
      ],
      "execution_count": null,
      "outputs": [
        {
          "output_type": "stream",
          "text": [
            "[ 0.  8. 16. 24. 32. 40. 48. 56. 64.]\n",
            "[8.15536503 8.68017667 2.75136399 4.86619901 3.09690829 3.62171993\n",
            " 2.90984671 2.50974279 2.41101585]\n",
            "[88.77630553 89.06469213 88.92439595 88.98155365 88.33982853 87.76565342\n",
            " 87.97090153 87.77084957 87.13172253]\n"
          ],
          "name": "stdout"
        }
      ]
    },
    {
      "cell_type": "code",
      "metadata": {
        "colab": {
          "base_uri": "https://localhost:8080/",
          "height": 265
        },
        "id": "XBr9aajh9vAd",
        "outputId": "24e49edf-e56d-4ba0-c596-f7a43c4a5f71"
      },
      "source": [
        "plt.figure()\r\n",
        "plt.plot(pruned_neurons_count_list, attack_success_rate_list, pruned_neurons_count_list, clean_classification_rate_list)\r\n",
        "plt.show()"
      ],
      "execution_count": null,
      "outputs": [
        {
          "output_type": "display_data",
          "data": {
            "image/png": "[encoded data removed]",
            "text/plain": [
              "<Figure size 432x288 with 1 Axes>"
            ]
          },
          "metadata": {
            "tags": [],
            "needs_background": "light"
          }
        }
      ]
    }
  ]
}