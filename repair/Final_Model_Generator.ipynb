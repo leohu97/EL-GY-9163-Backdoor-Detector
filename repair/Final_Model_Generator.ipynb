{
  "nbformat": 4,
  "nbformat_minor": 0,
  "metadata": {
    "colab": {
      "name": "Final_Model_Generator.ipynb",
      "provenance": [],
      "machine_shape": "hm"
    },
    "kernelspec": {
      "name": "python3",
      "display_name": "Python 3"
    },
    "accelerator": "GPU"
  },
  "cells": [
    {
      "cell_type": "code",
      "metadata": {
        "colab": {
          "base_uri": "https://localhost:8080/"
        },
        "id": "8_KjSBsi2oUw",
        "outputId": "5077e962-a83e-4403-8016-d09cbe3a3308"
      },
      "source": [
        "!pip install tensorflow==2.3.0\r\n",
        "!pip install keract==4.3.2\r\n",
        "!pip install kerassurgeon"
      ],
      "execution_count": 1,
      "outputs": [
        {
          "output_type": "stream",
          "text": [
            "Requirement already satisfied: tensorflow==2.3.0 in /usr/local/lib/python3.6/dist-packages (2.3.0)\n",
            "Requirement already satisfied: astunparse==1.6.3 in /usr/local/lib/python3.6/dist-packages (from tensorflow==2.3.0) (1.6.3)\n",
            "Requirement already satisfied: tensorboard<3,>=2.3.0 in /usr/local/lib/python3.6/dist-packages (from tensorflow==2.3.0) (2.4.0)\n",
            "Requirement already satisfied: keras-preprocessing<1.2,>=1.1.1 in /usr/local/lib/python3.6/dist-packages (from tensorflow==2.3.0) (1.1.2)\n",
            "Requirement already satisfied: wrapt>=1.11.1 in /usr/local/lib/python3.6/dist-packages (from tensorflow==2.3.0) (1.12.1)\n",
            "Requirement already satisfied: absl-py>=0.7.0 in /usr/local/lib/python3.6/dist-packages (from tensorflow==2.3.0) (0.10.0)\n",
            "Requirement already satisfied: tensorflow-estimator<2.4.0,>=2.3.0 in /usr/local/lib/python3.6/dist-packages (from tensorflow==2.3.0) (2.3.0)\n",
            "Requirement already satisfied: wheel>=0.26 in /usr/local/lib/python3.6/dist-packages (from tensorflow==2.3.0) (0.36.2)\n",
            "Requirement already satisfied: protobuf>=3.9.2 in /usr/local/lib/python3.6/dist-packages (from tensorflow==2.3.0) (3.12.4)\n",
            "Requirement already satisfied: scipy==1.4.1 in /usr/local/lib/python3.6/dist-packages (from tensorflow==2.3.0) (1.4.1)\n",
            "Requirement already satisfied: h5py<2.11.0,>=2.10.0 in /usr/local/lib/python3.6/dist-packages (from tensorflow==2.3.0) (2.10.0)\n",
            "Requirement already satisfied: google-pasta>=0.1.8 in /usr/local/lib/python3.6/dist-packages (from tensorflow==2.3.0) (0.2.0)\n",
            "Requirement already satisfied: termcolor>=1.1.0 in /usr/local/lib/python3.6/dist-packages (from tensorflow==2.3.0) (1.1.0)\n",
            "Requirement already satisfied: six>=1.12.0 in /usr/local/lib/python3.6/dist-packages (from tensorflow==2.3.0) (1.15.0)\n",
            "Requirement already satisfied: opt-einsum>=2.3.2 in /usr/local/lib/python3.6/dist-packages (from tensorflow==2.3.0) (3.3.0)\n",
            "Requirement already satisfied: numpy<1.19.0,>=1.16.0 in /usr/local/lib/python3.6/dist-packages (from tensorflow==2.3.0) (1.18.5)\n",
            "Requirement already satisfied: gast==0.3.3 in /usr/local/lib/python3.6/dist-packages (from tensorflow==2.3.0) (0.3.3)\n",
            "Requirement already satisfied: grpcio>=1.8.6 in /usr/local/lib/python3.6/dist-packages (from tensorflow==2.3.0) (1.32.0)\n",
            "Requirement already satisfied: werkzeug>=0.11.15 in /usr/local/lib/python3.6/dist-packages (from tensorboard<3,>=2.3.0->tensorflow==2.3.0) (1.0.1)\n",
            "Requirement already satisfied: markdown>=2.6.8 in /usr/local/lib/python3.6/dist-packages (from tensorboard<3,>=2.3.0->tensorflow==2.3.0) (3.3.3)\n",
            "Requirement already satisfied: google-auth<2,>=1.6.3 in /usr/local/lib/python3.6/dist-packages (from tensorboard<3,>=2.3.0->tensorflow==2.3.0) (1.17.2)\n",
            "Requirement already satisfied: tensorboard-plugin-wit>=1.6.0 in /usr/local/lib/python3.6/dist-packages (from tensorboard<3,>=2.3.0->tensorflow==2.3.0) (1.7.0)\n",
            "Requirement already satisfied: requests<3,>=2.21.0 in /usr/local/lib/python3.6/dist-packages (from tensorboard<3,>=2.3.0->tensorflow==2.3.0) (2.23.0)\n",
            "Requirement already satisfied: setuptools>=41.0.0 in /usr/local/lib/python3.6/dist-packages (from tensorboard<3,>=2.3.0->tensorflow==2.3.0) (51.0.0)\n",
            "Requirement already satisfied: google-auth-oauthlib<0.5,>=0.4.1 in /usr/local/lib/python3.6/dist-packages (from tensorboard<3,>=2.3.0->tensorflow==2.3.0) (0.4.2)\n",
            "Requirement already satisfied: importlib-metadata; python_version < \"3.8\" in /usr/local/lib/python3.6/dist-packages (from markdown>=2.6.8->tensorboard<3,>=2.3.0->tensorflow==2.3.0) (1.7.0)\n",
            "Requirement already satisfied: rsa<5,>=3.1.4; python_version >= \"3\" in /usr/local/lib/python3.6/dist-packages (from google-auth<2,>=1.6.3->tensorboard<3,>=2.3.0->tensorflow==2.3.0) (4.6)\n",
            "Requirement already satisfied: pyasn1-modules>=0.2.1 in /usr/local/lib/python3.6/dist-packages (from google-auth<2,>=1.6.3->tensorboard<3,>=2.3.0->tensorflow==2.3.0) (0.2.8)\n",
            "Requirement already satisfied: cachetools<5.0,>=2.0.0 in /usr/local/lib/python3.6/dist-packages (from google-auth<2,>=1.6.3->tensorboard<3,>=2.3.0->tensorflow==2.3.0) (4.2.0)\n",
            "Requirement already satisfied: chardet<4,>=3.0.2 in /usr/local/lib/python3.6/dist-packages (from requests<3,>=2.21.0->tensorboard<3,>=2.3.0->tensorflow==2.3.0) (3.0.4)\n",
            "Requirement already satisfied: urllib3!=1.25.0,!=1.25.1,<1.26,>=1.21.1 in /usr/local/lib/python3.6/dist-packages (from requests<3,>=2.21.0->tensorboard<3,>=2.3.0->tensorflow==2.3.0) (1.24.3)\n",
            "Requirement already satisfied: certifi>=2017.4.17 in /usr/local/lib/python3.6/dist-packages (from requests<3,>=2.21.0->tensorboard<3,>=2.3.0->tensorflow==2.3.0) (2020.12.5)\n",
            "Requirement already satisfied: idna<3,>=2.5 in /usr/local/lib/python3.6/dist-packages (from requests<3,>=2.21.0->tensorboard<3,>=2.3.0->tensorflow==2.3.0) (2.10)\n",
            "Requirement already satisfied: requests-oauthlib>=0.7.0 in /usr/local/lib/python3.6/dist-packages (from google-auth-oauthlib<0.5,>=0.4.1->tensorboard<3,>=2.3.0->tensorflow==2.3.0) (1.3.0)\n",
            "Requirement already satisfied: zipp>=0.5 in /usr/local/lib/python3.6/dist-packages (from importlib-metadata; python_version < \"3.8\"->markdown>=2.6.8->tensorboard<3,>=2.3.0->tensorflow==2.3.0) (3.4.0)\n",
            "Requirement already satisfied: pyasn1>=0.1.3 in /usr/local/lib/python3.6/dist-packages (from rsa<5,>=3.1.4; python_version >= \"3\"->google-auth<2,>=1.6.3->tensorboard<3,>=2.3.0->tensorflow==2.3.0) (0.4.8)\n",
            "Requirement already satisfied: oauthlib>=3.0.0 in /usr/local/lib/python3.6/dist-packages (from requests-oauthlib>=0.7.0->google-auth-oauthlib<0.5,>=0.4.1->tensorboard<3,>=2.3.0->tensorflow==2.3.0) (3.1.0)\n",
            "Requirement already satisfied: keract==4.3.2 in /usr/local/lib/python3.6/dist-packages (4.3.2)\n",
            "Requirement already satisfied: numpy>=1.18.5 in /usr/local/lib/python3.6/dist-packages (from keract==4.3.2) (1.18.5)\n",
            "Requirement already satisfied: kerassurgeon in /usr/local/lib/python3.6/dist-packages (0.2.0)\n",
            "Requirement already satisfied: pandas[examples]<2.0.0,>=1.1.2 in /usr/local/lib/python3.6/dist-packages (from kerassurgeon) (1.1.5)\n",
            "\u001b[33m  WARNING: pandas 1.1.5 does not provide the extra 'examples'\u001b[0m\n",
            "Requirement already satisfied: pytest[test]<7.0.0,>=6.0.2 in /usr/local/lib/python3.6/dist-packages (from kerassurgeon) (6.2.1)\n",
            "\u001b[33m  WARNING: pytest 6.2.1 does not provide the extra 'test'\u001b[0m\n",
            "Requirement already satisfied: importlib-metadata<2.0.0,>=1.7.0 in /usr/local/lib/python3.6/dist-packages (from kerassurgeon) (1.7.0)\n",
            "Requirement already satisfied: keras[standalone-keras]<3.0.0,>=2.4.3 in /usr/local/lib/python3.6/dist-packages (from kerassurgeon) (2.4.3)\n",
            "\u001b[33m  WARNING: Keras 2.4.3 does not provide the extra 'standalone-keras'\u001b[0m\n",
            "Requirement already satisfied: pillow[examples]<8.0.0,>=7.2.0 in /usr/local/lib/python3.6/dist-packages (from kerassurgeon) (7.2.0)\n",
            "\u001b[33m  WARNING: Pillow 7.2.0 does not provide the extra 'examples'\u001b[0m\n",
            "Requirement already satisfied: tensorflow<3.0,>=2.0 in /usr/local/lib/python3.6/dist-packages (from kerassurgeon) (2.3.0)\n",
            "Requirement already satisfied: python-dateutil>=2.7.3 in /usr/local/lib/python3.6/dist-packages (from pandas[examples]<2.0.0,>=1.1.2->kerassurgeon) (2.8.1)\n",
            "Requirement already satisfied: numpy>=1.15.4 in /usr/local/lib/python3.6/dist-packages (from pandas[examples]<2.0.0,>=1.1.2->kerassurgeon) (1.18.5)\n",
            "Requirement already satisfied: pytz>=2017.2 in /usr/local/lib/python3.6/dist-packages (from pandas[examples]<2.0.0,>=1.1.2->kerassurgeon) (2018.9)\n",
            "Requirement already satisfied: toml in /usr/local/lib/python3.6/dist-packages (from pytest[test]<7.0.0,>=6.0.2->kerassurgeon) (0.10.2)\n",
            "Requirement already satisfied: iniconfig in /usr/local/lib/python3.6/dist-packages (from pytest[test]<7.0.0,>=6.0.2->kerassurgeon) (1.1.1)\n",
            "Requirement already satisfied: pluggy<1.0.0a1,>=0.12 in /usr/local/lib/python3.6/dist-packages (from pytest[test]<7.0.0,>=6.0.2->kerassurgeon) (0.13.1)\n",
            "Requirement already satisfied: py>=1.8.2 in /usr/local/lib/python3.6/dist-packages (from pytest[test]<7.0.0,>=6.0.2->kerassurgeon) (1.10.0)\n",
            "Requirement already satisfied: attrs>=19.2.0 in /usr/local/lib/python3.6/dist-packages (from pytest[test]<7.0.0,>=6.0.2->kerassurgeon) (20.3.0)\n",
            "Requirement already satisfied: packaging in /usr/local/lib/python3.6/dist-packages (from pytest[test]<7.0.0,>=6.0.2->kerassurgeon) (20.8)\n",
            "Requirement already satisfied: zipp>=0.5 in /usr/local/lib/python3.6/dist-packages (from importlib-metadata<2.0.0,>=1.7.0->kerassurgeon) (3.4.0)\n",
            "Requirement already satisfied: scipy>=0.14 in /usr/local/lib/python3.6/dist-packages (from keras[standalone-keras]<3.0.0,>=2.4.3->kerassurgeon) (1.4.1)\n",
            "Requirement already satisfied: h5py in /usr/local/lib/python3.6/dist-packages (from keras[standalone-keras]<3.0.0,>=2.4.3->kerassurgeon) (2.10.0)\n",
            "Requirement already satisfied: pyyaml in /usr/local/lib/python3.6/dist-packages (from keras[standalone-keras]<3.0.0,>=2.4.3->kerassurgeon) (3.13)\n",
            "Requirement already satisfied: gast==0.3.3 in /usr/local/lib/python3.6/dist-packages (from tensorflow<3.0,>=2.0->kerassurgeon) (0.3.3)\n",
            "Requirement already satisfied: google-pasta>=0.1.8 in /usr/local/lib/python3.6/dist-packages (from tensorflow<3.0,>=2.0->kerassurgeon) (0.2.0)\n",
            "Requirement already satisfied: opt-einsum>=2.3.2 in /usr/local/lib/python3.6/dist-packages (from tensorflow<3.0,>=2.0->kerassurgeon) (3.3.0)\n",
            "Requirement already satisfied: protobuf>=3.9.2 in /usr/local/lib/python3.6/dist-packages (from tensorflow<3.0,>=2.0->kerassurgeon) (3.12.4)\n",
            "Requirement already satisfied: wrapt>=1.11.1 in /usr/local/lib/python3.6/dist-packages (from tensorflow<3.0,>=2.0->kerassurgeon) (1.12.1)\n",
            "Requirement already satisfied: grpcio>=1.8.6 in /usr/local/lib/python3.6/dist-packages (from tensorflow<3.0,>=2.0->kerassurgeon) (1.32.0)\n",
            "Requirement already satisfied: astunparse==1.6.3 in /usr/local/lib/python3.6/dist-packages (from tensorflow<3.0,>=2.0->kerassurgeon) (1.6.3)\n",
            "Requirement already satisfied: absl-py>=0.7.0 in /usr/local/lib/python3.6/dist-packages (from tensorflow<3.0,>=2.0->kerassurgeon) (0.10.0)\n",
            "Requirement already satisfied: six>=1.12.0 in /usr/local/lib/python3.6/dist-packages (from tensorflow<3.0,>=2.0->kerassurgeon) (1.15.0)\n",
            "Requirement already satisfied: tensorflow-estimator<2.4.0,>=2.3.0 in /usr/local/lib/python3.6/dist-packages (from tensorflow<3.0,>=2.0->kerassurgeon) (2.3.0)\n",
            "Requirement already satisfied: tensorboard<3,>=2.3.0 in /usr/local/lib/python3.6/dist-packages (from tensorflow<3.0,>=2.0->kerassurgeon) (2.4.0)\n",
            "Requirement already satisfied: wheel>=0.26 in /usr/local/lib/python3.6/dist-packages (from tensorflow<3.0,>=2.0->kerassurgeon) (0.36.2)\n",
            "Requirement already satisfied: keras-preprocessing<1.2,>=1.1.1 in /usr/local/lib/python3.6/dist-packages (from tensorflow<3.0,>=2.0->kerassurgeon) (1.1.2)\n",
            "Requirement already satisfied: termcolor>=1.1.0 in /usr/local/lib/python3.6/dist-packages (from tensorflow<3.0,>=2.0->kerassurgeon) (1.1.0)\n",
            "Requirement already satisfied: pyparsing>=2.0.2 in /usr/local/lib/python3.6/dist-packages (from packaging->pytest[test]<7.0.0,>=6.0.2->kerassurgeon) (2.4.7)\n",
            "Requirement already satisfied: setuptools in /usr/local/lib/python3.6/dist-packages (from protobuf>=3.9.2->tensorflow<3.0,>=2.0->kerassurgeon) (51.0.0)\n",
            "Requirement already satisfied: tensorboard-plugin-wit>=1.6.0 in /usr/local/lib/python3.6/dist-packages (from tensorboard<3,>=2.3.0->tensorflow<3.0,>=2.0->kerassurgeon) (1.7.0)\n",
            "Requirement already satisfied: requests<3,>=2.21.0 in /usr/local/lib/python3.6/dist-packages (from tensorboard<3,>=2.3.0->tensorflow<3.0,>=2.0->kerassurgeon) (2.23.0)\n",
            "Requirement already satisfied: google-auth<2,>=1.6.3 in /usr/local/lib/python3.6/dist-packages (from tensorboard<3,>=2.3.0->tensorflow<3.0,>=2.0->kerassurgeon) (1.17.2)\n",
            "Requirement already satisfied: google-auth-oauthlib<0.5,>=0.4.1 in /usr/local/lib/python3.6/dist-packages (from tensorboard<3,>=2.3.0->tensorflow<3.0,>=2.0->kerassurgeon) (0.4.2)\n",
            "Requirement already satisfied: markdown>=2.6.8 in /usr/local/lib/python3.6/dist-packages (from tensorboard<3,>=2.3.0->tensorflow<3.0,>=2.0->kerassurgeon) (3.3.3)\n",
            "Requirement already satisfied: werkzeug>=0.11.15 in /usr/local/lib/python3.6/dist-packages (from tensorboard<3,>=2.3.0->tensorflow<3.0,>=2.0->kerassurgeon) (1.0.1)\n",
            "Requirement already satisfied: urllib3!=1.25.0,!=1.25.1,<1.26,>=1.21.1 in /usr/local/lib/python3.6/dist-packages (from requests<3,>=2.21.0->tensorboard<3,>=2.3.0->tensorflow<3.0,>=2.0->kerassurgeon) (1.24.3)\n",
            "Requirement already satisfied: idna<3,>=2.5 in /usr/local/lib/python3.6/dist-packages (from requests<3,>=2.21.0->tensorboard<3,>=2.3.0->tensorflow<3.0,>=2.0->kerassurgeon) (2.10)\n",
            "Requirement already satisfied: chardet<4,>=3.0.2 in /usr/local/lib/python3.6/dist-packages (from requests<3,>=2.21.0->tensorboard<3,>=2.3.0->tensorflow<3.0,>=2.0->kerassurgeon) (3.0.4)\n",
            "Requirement already satisfied: certifi>=2017.4.17 in /usr/local/lib/python3.6/dist-packages (from requests<3,>=2.21.0->tensorboard<3,>=2.3.0->tensorflow<3.0,>=2.0->kerassurgeon) (2020.12.5)\n",
            "Requirement already satisfied: rsa<5,>=3.1.4; python_version >= \"3\" in /usr/local/lib/python3.6/dist-packages (from google-auth<2,>=1.6.3->tensorboard<3,>=2.3.0->tensorflow<3.0,>=2.0->kerassurgeon) (4.6)\n",
            "Requirement already satisfied: cachetools<5.0,>=2.0.0 in /usr/local/lib/python3.6/dist-packages (from google-auth<2,>=1.6.3->tensorboard<3,>=2.3.0->tensorflow<3.0,>=2.0->kerassurgeon) (4.2.0)\n",
            "Requirement already satisfied: pyasn1-modules>=0.2.1 in /usr/local/lib/python3.6/dist-packages (from google-auth<2,>=1.6.3->tensorboard<3,>=2.3.0->tensorflow<3.0,>=2.0->kerassurgeon) (0.2.8)\n",
            "Requirement already satisfied: requests-oauthlib>=0.7.0 in /usr/local/lib/python3.6/dist-packages (from google-auth-oauthlib<0.5,>=0.4.1->tensorboard<3,>=2.3.0->tensorflow<3.0,>=2.0->kerassurgeon) (1.3.0)\n",
            "Requirement already satisfied: pyasn1>=0.1.3 in /usr/local/lib/python3.6/dist-packages (from rsa<5,>=3.1.4; python_version >= \"3\"->google-auth<2,>=1.6.3->tensorboard<3,>=2.3.0->tensorflow<3.0,>=2.0->kerassurgeon) (0.4.8)\n",
            "Requirement already satisfied: oauthlib>=3.0.0 in /usr/local/lib/python3.6/dist-packages (from requests-oauthlib>=0.7.0->google-auth-oauthlib<0.5,>=0.4.1->tensorboard<3,>=2.3.0->tensorflow<3.0,>=2.0->kerassurgeon) (3.1.0)\n"
          ],
          "name": "stdout"
        }
      ]
    },
    {
      "cell_type": "code",
      "metadata": {
        "id": "GyRsxaeN25Jq"
      },
      "source": [
        "import numpy as np \r\n",
        "import matplotlib.pyplot as plt\r\n",
        "import tensorflow as tf\r\n",
        "import keras\r\n",
        "import keras.backend as K\r\n",
        "import h5py\r\n",
        "from keras import initializers\r\n",
        "import sys\r\n",
        "import os\r\n",
        "from tqdm.auto import tqdm\r\n",
        "import keract\r\n",
        "from kerassurgeon.operations import delete_channels\r\n",
        "from kerassurgeon.identify import get_apoz\r\n",
        "from kerassurgeon.identify import high_apoz"
      ],
      "execution_count": 2,
      "outputs": []
    },
    {
      "cell_type": "code",
      "metadata": {
        "id": "rWX0E9is3ASl"
      },
      "source": [
        "TARGET_LAYER = 7\r\n",
        "PRUNE_NUM = 100\r\n",
        "CLASS_NUM = 1282\r\n",
        "TRAIL_NUM = 1\r\n",
        "EPOCH_NUM = 10\r\n",
        "\r\n",
        "THRES_CONF = 0.99\r\n",
        "THRES_DETECT = 0.91"
      ],
      "execution_count": 3,
      "outputs": []
    },
    {
      "cell_type": "code",
      "metadata": {
        "id": "ONHLdYZx3HN5"
      },
      "source": [
        "def data_loader(filepath):\r\n",
        "    data = h5py.File(filepath, 'r')\r\n",
        "    x_data = np.array(data['data'])\r\n",
        "    y_data = np.array(data['label'])\r\n",
        "    x_data = x_data.transpose((0,2,3,1))\r\n",
        "\r\n",
        "    return x_data, y_data\r\n",
        "\r\n",
        "def data_preprocess(x_data):\r\n",
        "    return x_data/255\r\n",
        "\r\n",
        "def calc_success(y_pred, y_test):\r\n",
        "    return(np.sum(np.equal(y_pred, y_test))/y_test.shape[0]*100)\r\n",
        "\r\n",
        "def model_package(pruned_model, bd_model, x_test):\r\n",
        "    y_pred_badnet = np.argmax(bd_model.predict(x_test), axis=1)\r\n",
        "    y_pred_pruned =  np.argmax(pruned_model.predict(x_test), axis=1)  \r\n",
        "    res = np.zeros((x_test.shape[0]))\r\n",
        "    for i in range(0, x_test.shape[0]):\r\n",
        "        if y_pred_badnet[i] == 0: # backdoor input\r\n",
        "            if y_pred_pruned[i] == 0: # attack success\r\n",
        "                res[i] = 0\r\n",
        "            else:\r\n",
        "                res[i] = CLASS_NUM + 1\r\n",
        "        else:\r\n",
        "            res[i] = y_pred_pruned[i]\r\n",
        "    return res\r\n",
        "\r\n",
        "def model_package2(pruned_model, bd_model, x_test, thres_conf, thres_detect):\r\n",
        "    # probs of each class\r\n",
        "    y_pred_prob_badnet = bd_model.predict(x_test) \r\n",
        "    y_pred_prob_pruned = pruned_model.predict(x_test)\r\n",
        "    \r\n",
        "    # class having max prob\r\n",
        "    y_pred_badnet = np.argmax(y_pred_prob_badnet, axis=1)\r\n",
        "    y_pred_pruned =  np.argmax(y_pred_prob_pruned, axis=1)  \r\n",
        "\r\n",
        "    res = np.zeros((x_test.shape[0]))\r\n",
        "    for i in range(0, x_test.shape[0]):\r\n",
        "        # max prob\r\n",
        "        y_pred_prob_max_badnet = np.max(y_pred_prob_badnet[i])\r\n",
        "        y_pred_prob_max_pruend = np.max(y_pred_prob_pruned[i])\r\n",
        "\r\n",
        "        res[i] = y_pred_badnet[i]\r\n",
        "        # high confident clean or backdoor input\r\n",
        "        if y_pred_prob_max_badnet >= thres_conf:\r\n",
        "            # clean or success attack\r\n",
        "            if y_pred_prob_max_pruend >= thres_conf: \r\n",
        "                if np.equal(y_pred_badnet[i], y_pred_pruned[i]): # both models equal\r\n",
        "                    res[i] = y_pred_pruned[i] # clean input\r\n",
        "                else:\r\n",
        "                    # res[i] = y_pred_pruned[i] # maybe wrong but not backdoored\r\n",
        "                    res[i] = (CLASS_NUM + 1) # uncertained   \r\n",
        "            elif y_pred_prob_max_pruend < thres_conf and y_pred_prob_max_pruend >= thres_detect:\r\n",
        "                # res[i] = (CLASS_NUM + 1) # uncertained   \r\n",
        "                res[i] = y_pred_pruned[i]\r\n",
        "            else:\r\n",
        "                res[i] = (CLASS_NUM + 1)  # backdoor detected\r\n",
        "                # res[i] = y_pred_pruned[i]\r\n",
        "        elif y_pred_prob_max_badnet < thres_conf and y_pred_prob_max_badnet >= thres_detect:\r\n",
        "            if y_pred_prob_max_badnet >= y_pred_prob_max_pruend:\r\n",
        "                res[i] = y_pred_badnet[i]\r\n",
        "            else:\r\n",
        "                res[i] = y_pred_pruned[i]\r\n",
        "        \r\n",
        "        else: \r\n",
        "            if y_pred_prob_max_pruend >= thres_conf:\r\n",
        "                res[i] = y_pred_pruned[i]\r\n",
        "            elif y_pred_prob_max_pruend < thres_conf and y_pred_prob_max_pruend >= thres_detect:\r\n",
        "                res[i] = (CLASS_NUM + 1) # uncertained   \r\n",
        "                # res[i] = y_pred_pruned[i]\r\n",
        "            else:\r\n",
        "                res[i] = (CLASS_NUM + 1)  # backdoor detected\r\n",
        "                # res[i] = y_pred_pruned[i]\r\n",
        "    return res"
      ],
      "execution_count": 4,
      "outputs": []
    },
    {
      "cell_type": "code",
      "metadata": {
        "id": "SExQFU-j3RUU"
      },
      "source": [
        "def defense_success_rate(y_pred, y_clean, y_bd, isClean):\r\n",
        "    atk_succ = 0\r\n",
        "    def_succ = 0\r\n",
        "    mid_succ = 0\r\n",
        "    mid_fail = 0\r\n",
        "    clean_succ = 0\r\n",
        "    total_num = y_pred.shape[0]\r\n",
        "    for i in range(total_num):\r\n",
        "        if isClean == True:\r\n",
        "            if y_pred[i] == y_clean[i]:\r\n",
        "                clean_succ += 1\r\n",
        "            elif y_pred[i] == 0 and y_clean[i] != 0:\r\n",
        "                atk_succ += 1 # atk triggered\r\n",
        "            elif y_pred[i] == 1283:\r\n",
        "                def_succ += 1 # def triggered\r\n",
        "            else:\r\n",
        "                mid_fail += 1\r\n",
        "        else:\r\n",
        "            if y_pred[i] == 0:\r\n",
        "                atk_succ += 1\r\n",
        "            elif y_pred[i] == 1283:\r\n",
        "                def_succ += 1\r\n",
        "            else:\r\n",
        "                if y_pred[i] == y_clean[i]:\r\n",
        "                    mid_succ += 1\r\n",
        "                else:\r\n",
        "                    mid_fail += 1\r\n",
        "                \r\n",
        "    return atk_succ, def_succ, mid_succ, mid_fail, clean_succ, total_num"
      ],
      "execution_count": 26,
      "outputs": []
    },
    {
      "cell_type": "code",
      "metadata": {
        "id": "Lff1Dcdp3Tiw"
      },
      "source": [
        "clean_validation_path = \"/content/drive/MyDrive/GY9163/Final/data/clean_validation_data.h5\"\r\n",
        "clean_test_path = \"/content/drive/MyDrive/GY9163/Final/data/clean_test_data.h5\"\r\n",
        "# poisoned_test_path = \"/content/drive/MyDrive/GY9163/Final/data/Multi-trigger Multi-target/eyebrows_poisoned_data.h5\"\r\n",
        "poisoned_test_path = \"/content/drive/MyDrive/GY9163/Final/data/anonymous_1_poisoned_data.h5\"\r\n",
        "# poisoned_model_path = \"/content/drive/MyDrive/GY9163/Final/models/sunglasses_bd_net.h5\"\r\n",
        "poisoned_model_path = \"/content/drive/MyDrive/GY9163/Final/models/anonymous_1_bd_net.h5\""
      ],
      "execution_count": 21,
      "outputs": []
    },
    {
      "cell_type": "code",
      "metadata": {
        "id": "nrNGkvDA4FKM"
      },
      "source": [
        "x_val, y_val = data_loader(clean_validation_path)\r\n",
        "x_val = data_preprocess(x_val)\r\n",
        "x_test_clean, y_test_clean = data_loader(clean_test_path)\r\n",
        "x_test_clean = data_preprocess(x_test_clean)\r\n",
        "x_test_sung, y_test_sung = data_loader(poisoned_test_path)\r\n",
        "x_test_sung = data_preprocess(x_test_sung)"
      ],
      "execution_count": 22,
      "outputs": []
    },
    {
      "cell_type": "code",
      "metadata": {
        "id": "2iQJcG8i4Gm-"
      },
      "source": [
        "bd_model = keras.models.load_model(poisoned_model_path)"
      ],
      "execution_count": 19,
      "outputs": []
    },
    {
      "cell_type": "code",
      "metadata": {
        "colab": {
          "base_uri": "https://localhost:8080/"
        },
        "id": "lzWbIfNP4JD3",
        "outputId": "6742f91e-0670-4d11-baae-9099bfdc9f34"
      },
      "source": [
        "y_pred_bad_clean = np.argmax(bd_model.predict(x_test_clean), axis=1)\r\n",
        "y_pred_bad_sung =  np.argmax(bd_model.predict(x_test_sung), axis=1)  \r\n",
        "print(calc_success(y_pred_bad_clean, y_test_clean),calc_success(y_pred_bad_sung, y_test_sung))\r\n",
        "\r\n",
        "atk_succ, def_succ, mid_succ, mid_fail, clean_succ, total_num = defense_success_rate(y_pred_bad_sung, y_test_clean, y_test_sung, False)\r\n",
        "print(atk_succ, def_succ, mid_succ, mid_fail, clean_succ, total_num)\r\n",
        "print(atk_succ/total_num*100, def_succ/total_num*100, mid_succ/total_num*100, mid_fail/total_num*100, clean_succ/total_num*100)\r\n",
        "atk_succ, def_succ, mid_succ, mid_fail, clean_succ, total_num = defense_success_rate(y_pred_bad_clean, y_test_clean, y_test_sung, True)\r\n",
        "print(atk_succ, def_succ, mid_succ, mid_fail, clean_succ, total_num)\r\n",
        "print(atk_succ/total_num*100, def_succ/total_num*100, mid_succ/total_num*100, mid_fail/total_num*100, clean_succ/total_num*100)"
      ],
      "execution_count": 12,
      "outputs": [
        {
          "output_type": "stream",
          "text": [
            "95.96258768511302 0.009742790335151987\n",
            "0 0 7 10257 0 10264\n",
            "0.0 0.0 0.06819953234606392 99.93180046765393 0.0\n",
            "0 0 0 518 12312 12830\n",
            "0.0 0.0 0.0 4.037412314886984 95.96258768511302\n"
          ],
          "name": "stdout"
        }
      ]
    },
    {
      "cell_type": "code",
      "metadata": {
        "colab": {
          "base_uri": "https://localhost:8080/"
        },
        "id": "I8yduGDO4UnC",
        "outputId": "e5ece2ef-b491-4555-b4cc-e264c30974d3"
      },
      "source": [
        "# Final Model Generator\r\n",
        "i = 40\r\n",
        "target_layer = bd_model.layers[5]\r\n",
        "lst_high_apoz = get_apoz(bd_model, target_layer, x_val, node_indices=None)\r\n",
        "lst_high_apoz = np.argsort(-lst_high_apoz)\r\n",
        "prune_num_total = high_apoz(get_apoz(bd_model, target_layer, x_val, node_indices=None),method='absolute', cutoff_absolute=0.5)\r\n",
        "\r\n",
        "valid_prune_list = []\r\n",
        "\r\n",
        "for n in lst_high_apoz:\r\n",
        "    if n in prune_num_total:\r\n",
        "        valid_prune_list = np.append(valid_prune_list, n)\r\n",
        "valid_prune_list = valid_prune_list.astype(int)\r\n",
        "pruned_model = delete_channels(bd_model, target_layer, valid_prune_list[0:i],copy=True)\r\n",
        "\r\n",
        "target_layer = pruned_model.layers[7]\r\n",
        "lst_high_apoz = get_apoz(pruned_model, target_layer, x_val, node_indices=None)\r\n",
        "lst_high_apoz = np.argsort(-lst_high_apoz)\r\n",
        "prune_num_total = high_apoz(get_apoz(pruned_model, target_layer, x_val, node_indices=None),method='absolute', cutoff_absolute=0.5)\r\n",
        "\r\n",
        "valid_prune_list = []\r\n",
        "\r\n",
        "for n in lst_high_apoz:\r\n",
        "    if n in prune_num_total:\r\n",
        "        valid_prune_list = np.append(valid_prune_list, n)\r\n",
        "valid_prune_list = valid_prune_list.astype(int)\r\n",
        "pruned_model = delete_channels(pruned_model, target_layer, valid_prune_list[0:i],copy=True)\r\n",
        "\r\n",
        "optimizer = keras.optimizers.Adadelta(lr=1)\r\n",
        "pruned_model.compile(loss ='sparse_categorical_crossentropy', optimizer=optimizer, metrics=['accuracy'])\r\n",
        "pruned_model.fit(x_val, y_val, epochs = 30, verbose=1)"
      ],
      "execution_count": 20,
      "outputs": [
        {
          "output_type": "stream",
          "text": [
            "Deleting 40/60 channels from layer: conv_3\n",
            "Deleting 40/80 channels from layer: conv_4\n",
            "Epoch 1/30\n",
            "361/361 [==============================] - 1s 4ms/step - loss: 0.5440 - accuracy: 0.8829\n",
            "Epoch 2/30\n",
            "361/361 [==============================] - 1s 3ms/step - loss: 0.1846 - accuracy: 0.9625\n",
            "Epoch 3/30\n",
            "361/361 [==============================] - 1s 3ms/step - loss: 0.0976 - accuracy: 0.9824\n",
            "Epoch 4/30\n",
            "361/361 [==============================] - 1s 3ms/step - loss: 0.0607 - accuracy: 0.9875\n",
            "Epoch 5/30\n",
            "361/361 [==============================] - 1s 3ms/step - loss: 0.0401 - accuracy: 0.9907\n",
            "Epoch 6/30\n",
            "361/361 [==============================] - 1s 3ms/step - loss: 0.0274 - accuracy: 0.9934\n",
            "Epoch 7/30\n",
            "361/361 [==============================] - 1s 3ms/step - loss: 0.0185 - accuracy: 0.9949\n",
            "Epoch 8/30\n",
            "361/361 [==============================] - 1s 3ms/step - loss: 0.0157 - accuracy: 0.9974\n",
            "Epoch 9/30\n",
            "361/361 [==============================] - 1s 3ms/step - loss: 0.0110 - accuracy: 0.9978\n",
            "Epoch 10/30\n",
            "361/361 [==============================] - 1s 4ms/step - loss: 0.0098 - accuracy: 0.9969\n",
            "Epoch 11/30\n",
            "361/361 [==============================] - 1s 4ms/step - loss: 0.0087 - accuracy: 0.9975\n",
            "Epoch 12/30\n",
            "361/361 [==============================] - 1s 4ms/step - loss: 0.0072 - accuracy: 0.9985\n",
            "Epoch 13/30\n",
            "361/361 [==============================] - 1s 4ms/step - loss: 0.0076 - accuracy: 0.9984\n",
            "Epoch 14/30\n",
            "361/361 [==============================] - 1s 4ms/step - loss: 0.0034 - accuracy: 0.9994\n",
            "Epoch 15/30\n",
            "361/361 [==============================] - 1s 4ms/step - loss: 0.0035 - accuracy: 0.9990\n",
            "Epoch 16/30\n",
            "361/361 [==============================] - 1s 4ms/step - loss: 0.0064 - accuracy: 0.9991\n",
            "Epoch 17/30\n",
            "361/361 [==============================] - 1s 4ms/step - loss: 0.0039 - accuracy: 0.9993\n",
            "Epoch 18/30\n",
            "361/361 [==============================] - 1s 3ms/step - loss: 0.0014 - accuracy: 0.9997\n",
            "Epoch 19/30\n",
            "361/361 [==============================] - 1s 3ms/step - loss: 0.0030 - accuracy: 0.9995\n",
            "Epoch 20/30\n",
            "361/361 [==============================] - 1s 3ms/step - loss: 0.0029 - accuracy: 0.9993\n",
            "Epoch 21/30\n",
            "361/361 [==============================] - 1s 3ms/step - loss: 0.0028 - accuracy: 0.9996\n",
            "Epoch 22/30\n",
            "361/361 [==============================] - 1s 3ms/step - loss: 5.5570e-04 - accuracy: 0.9999\n",
            "Epoch 23/30\n",
            "361/361 [==============================] - 1s 3ms/step - loss: 0.0016 - accuracy: 0.9996\n",
            "Epoch 24/30\n",
            "361/361 [==============================] - 1s 3ms/step - loss: 0.0036 - accuracy: 0.9993\n",
            "Epoch 25/30\n",
            "361/361 [==============================] - 1s 3ms/step - loss: 0.0030 - accuracy: 0.9997\n",
            "Epoch 26/30\n",
            "361/361 [==============================] - 1s 3ms/step - loss: 0.0020 - accuracy: 0.9995\n",
            "Epoch 27/30\n",
            "361/361 [==============================] - 1s 3ms/step - loss: 0.0010 - accuracy: 0.9998\n",
            "Epoch 28/30\n",
            "361/361 [==============================] - 1s 3ms/step - loss: 0.0024 - accuracy: 0.9996\n",
            "Epoch 29/30\n",
            "361/361 [==============================] - 1s 3ms/step - loss: 0.0022 - accuracy: 0.9997\n",
            "Epoch 30/30\n",
            "361/361 [==============================] - 1s 3ms/step - loss: 0.0023 - accuracy: 0.9997\n"
          ],
          "name": "stdout"
        },
        {
          "output_type": "execute_result",
          "data": {
            "text/plain": [
              "<tensorflow.python.keras.callbacks.History at 0x7f98cdc34e80>"
            ]
          },
          "metadata": {
            "tags": []
          },
          "execution_count": 20
        }
      ]
    },
    {
      "cell_type": "code",
      "metadata": {
        "colab": {
          "base_uri": "https://localhost:8080/"
        },
        "id": "q5kbDFV1_GjX",
        "outputId": "769df6ab-fdf1-453c-c052-ea4a98698433"
      },
      "source": [
        "y_pred_sung = model_package2(pruned_model, bd_model, x_test_sung, 0.99, 0.91)\r\n",
        "y_pred_clean = model_package2(pruned_model, bd_model, x_test_clean, 0.99, 0.91)\r\n",
        "attack_success_rate = calc_success(y_pred_sung, y_test_sung)\r\n",
        "clean_classification_rate = calc_success(y_pred_clean, y_test_clean)\r\n",
        "print(attack_success_rate)\r\n",
        "print(clean_classification_rate)\r\n",
        "atk_succ, def_succ, mid_succ, mid_fail, clean_succ, total_num = defense_success_rate(y_pred_sung, y_test_clean, y_test_sung, False)\r\n",
        "print(atk_succ, def_succ, mid_succ, mid_fail, clean_succ, total_num)\r\n",
        "print(atk_succ/total_num*100, def_succ/total_num*100, mid_succ/total_num*100, mid_fail/total_num*100, clean_succ/total_num*100)\r\n",
        "atk_succ, def_succ, mid_succ, mid_fail, clean_succ, total_num = defense_success_rate(y_pred_clean, y_test_clean, y_test_sung, True)\r\n",
        "print(atk_succ, def_succ, mid_succ, mid_fail, clean_succ, total_num)\r\n",
        "print(atk_succ/total_num*100, def_succ/total_num*100, mid_succ/total_num*100, mid_fail/total_num*100, clean_succ/total_num*100)"
      ],
      "execution_count": 27,
      "outputs": [
        {
          "output_type": "stream",
          "text": [
            "0.21434138737334374\n",
            "93.19563522992985\n",
            "22 7728 1 2513 0 10264\n",
            "0.21434138737334374 75.29228371005456 0.009742790335151987 24.483632112236943 0.0\n",
            "11 708 0 154 11957 12830\n",
            "0.08573655494933749 5.518316445830085 0.0 1.2003117692907248 93.19563522992985\n"
          ],
          "name": "stdout"
        }
      ]
    },
    {
      "cell_type": "code",
      "metadata": {
        "id": "sLMap1jD-bSI"
      },
      "source": [
        "!mkdir -p saved_model\r\n",
        "pruned_model.save('saved_model/G2_02_93.h5') "
      ],
      "execution_count": 25,
      "outputs": []
    }
  ]
}