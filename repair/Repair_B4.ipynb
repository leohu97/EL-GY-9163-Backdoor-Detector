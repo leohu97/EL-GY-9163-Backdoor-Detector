{
  "nbformat": 4,
  "nbformat_minor": 0,
  "metadata": {
    "colab": {
      "name": "Untitled",
      "provenance": [],
      "collapsed_sections": [],
      "machine_shape": "hm"
    },
    "kernelspec": {
      "name": "python3",
      "display_name": "Python 3"
    },
    "accelerator": "GPU"
  },
  "cells": [
    {
      "cell_type": "code",
      "metadata": {
        "colab": {
          "base_uri": "https://localhost:8080/",
          "height": 1000
        },
        "id": "fF9KaLMxMnCw",
        "outputId": "547d9a56-f6eb-4564-953e-aba3ead96565"
      },
      "source": [
        "!pip install tensorflow==2.3.0\r\n",
        "!pip install keract==4.3.2\r\n",
        "!pip install kerassurgeon"
      ],
      "execution_count": null,
      "outputs": [
        {
          "output_type": "stream",
          "text": [
            "Collecting tensorflow==2.3.0\n",
            "\u001b[?25l  Downloading https://files.pythonhosted.org/packages/97/ae/0b08f53498417914f2274cc3b5576d2b83179b0cbb209457d0fde0152174/tensorflow-2.3.0-cp36-cp36m-manylinux2010_x86_64.whl (320.4MB)\n",
            "\u001b[K     |████████████████████████████████| 320.4MB 27kB/s \n",
            "\u001b[?25hRequirement already satisfied: tensorboard<3,>=2.3.0 in /usr/local/lib/python3.6/dist-packages (from tensorflow==2.3.0) (2.4.0)\n",
            "Requirement already satisfied: termcolor>=1.1.0 in /usr/local/lib/python3.6/dist-packages (from tensorflow==2.3.0) (1.1.0)\n",
            "Requirement already satisfied: wheel>=0.26 in /usr/local/lib/python3.6/dist-packages (from tensorflow==2.3.0) (0.36.2)\n",
            "Collecting tensorflow-estimator<2.4.0,>=2.3.0\n",
            "\u001b[?25l  Downloading https://files.pythonhosted.org/packages/e9/ed/5853ec0ae380cba4588eab1524e18ece1583b65f7ae0e97321f5ff9dfd60/tensorflow_estimator-2.3.0-py2.py3-none-any.whl (459kB)\n",
            "\u001b[K     |████████████████████████████████| 460kB 59.5MB/s \n",
            "\u001b[?25hRequirement already satisfied: opt-einsum>=2.3.2 in /usr/local/lib/python3.6/dist-packages (from tensorflow==2.3.0) (3.3.0)\n",
            "Requirement already satisfied: google-pasta>=0.1.8 in /usr/local/lib/python3.6/dist-packages (from tensorflow==2.3.0) (0.2.0)\n",
            "Requirement already satisfied: protobuf>=3.9.2 in /usr/local/lib/python3.6/dist-packages (from tensorflow==2.3.0) (3.12.4)\n",
            "Requirement already satisfied: keras-preprocessing<1.2,>=1.1.1 in /usr/local/lib/python3.6/dist-packages (from tensorflow==2.3.0) (1.1.2)\n",
            "Requirement already satisfied: grpcio>=1.8.6 in /usr/local/lib/python3.6/dist-packages (from tensorflow==2.3.0) (1.32.0)\n",
            "Requirement already satisfied: six>=1.12.0 in /usr/local/lib/python3.6/dist-packages (from tensorflow==2.3.0) (1.15.0)\n",
            "Collecting numpy<1.19.0,>=1.16.0\n",
            "\u001b[?25l  Downloading https://files.pythonhosted.org/packages/b3/a9/b1bc4c935ed063766bce7d3e8c7b20bd52e515ff1c732b02caacf7918e5a/numpy-1.18.5-cp36-cp36m-manylinux1_x86_64.whl (20.1MB)\n",
            "\u001b[K     |████████████████████████████████| 20.1MB 1.3MB/s \n",
            "\u001b[?25hRequirement already satisfied: wrapt>=1.11.1 in /usr/local/lib/python3.6/dist-packages (from tensorflow==2.3.0) (1.12.1)\n",
            "Requirement already satisfied: astunparse==1.6.3 in /usr/local/lib/python3.6/dist-packages (from tensorflow==2.3.0) (1.6.3)\n",
            "Requirement already satisfied: gast==0.3.3 in /usr/local/lib/python3.6/dist-packages (from tensorflow==2.3.0) (0.3.3)\n",
            "Requirement already satisfied: h5py<2.11.0,>=2.10.0 in /usr/local/lib/python3.6/dist-packages (from tensorflow==2.3.0) (2.10.0)\n",
            "Requirement already satisfied: scipy==1.4.1 in /usr/local/lib/python3.6/dist-packages (from tensorflow==2.3.0) (1.4.1)\n",
            "Requirement already satisfied: absl-py>=0.7.0 in /usr/local/lib/python3.6/dist-packages (from tensorflow==2.3.0) (0.10.0)\n",
            "Requirement already satisfied: markdown>=2.6.8 in /usr/local/lib/python3.6/dist-packages (from tensorboard<3,>=2.3.0->tensorflow==2.3.0) (3.3.3)\n",
            "Requirement already satisfied: requests<3,>=2.21.0 in /usr/local/lib/python3.6/dist-packages (from tensorboard<3,>=2.3.0->tensorflow==2.3.0) (2.23.0)\n",
            "Requirement already satisfied: google-auth<2,>=1.6.3 in /usr/local/lib/python3.6/dist-packages (from tensorboard<3,>=2.3.0->tensorflow==2.3.0) (1.17.2)\n",
            "Requirement already satisfied: tensorboard-plugin-wit>=1.6.0 in /usr/local/lib/python3.6/dist-packages (from tensorboard<3,>=2.3.0->tensorflow==2.3.0) (1.7.0)\n",
            "Requirement already satisfied: setuptools>=41.0.0 in /usr/local/lib/python3.6/dist-packages (from tensorboard<3,>=2.3.0->tensorflow==2.3.0) (51.0.0)\n",
            "Requirement already satisfied: google-auth-oauthlib<0.5,>=0.4.1 in /usr/local/lib/python3.6/dist-packages (from tensorboard<3,>=2.3.0->tensorflow==2.3.0) (0.4.2)\n",
            "Requirement already satisfied: werkzeug>=0.11.15 in /usr/local/lib/python3.6/dist-packages (from tensorboard<3,>=2.3.0->tensorflow==2.3.0) (1.0.1)\n",
            "Requirement already satisfied: importlib-metadata; python_version < \"3.8\" in /usr/local/lib/python3.6/dist-packages (from markdown>=2.6.8->tensorboard<3,>=2.3.0->tensorflow==2.3.0) (3.3.0)\n",
            "Requirement already satisfied: idna<3,>=2.5 in /usr/local/lib/python3.6/dist-packages (from requests<3,>=2.21.0->tensorboard<3,>=2.3.0->tensorflow==2.3.0) (2.10)\n",
            "Requirement already satisfied: chardet<4,>=3.0.2 in /usr/local/lib/python3.6/dist-packages (from requests<3,>=2.21.0->tensorboard<3,>=2.3.0->tensorflow==2.3.0) (3.0.4)\n",
            "Requirement already satisfied: certifi>=2017.4.17 in /usr/local/lib/python3.6/dist-packages (from requests<3,>=2.21.0->tensorboard<3,>=2.3.0->tensorflow==2.3.0) (2020.12.5)\n",
            "Requirement already satisfied: urllib3!=1.25.0,!=1.25.1,<1.26,>=1.21.1 in /usr/local/lib/python3.6/dist-packages (from requests<3,>=2.21.0->tensorboard<3,>=2.3.0->tensorflow==2.3.0) (1.24.3)\n",
            "Requirement already satisfied: cachetools<5.0,>=2.0.0 in /usr/local/lib/python3.6/dist-packages (from google-auth<2,>=1.6.3->tensorboard<3,>=2.3.0->tensorflow==2.3.0) (4.2.0)\n",
            "Requirement already satisfied: rsa<5,>=3.1.4; python_version >= \"3\" in /usr/local/lib/python3.6/dist-packages (from google-auth<2,>=1.6.3->tensorboard<3,>=2.3.0->tensorflow==2.3.0) (4.6)\n",
            "Requirement already satisfied: pyasn1-modules>=0.2.1 in /usr/local/lib/python3.6/dist-packages (from google-auth<2,>=1.6.3->tensorboard<3,>=2.3.0->tensorflow==2.3.0) (0.2.8)\n",
            "Requirement already satisfied: requests-oauthlib>=0.7.0 in /usr/local/lib/python3.6/dist-packages (from google-auth-oauthlib<0.5,>=0.4.1->tensorboard<3,>=2.3.0->tensorflow==2.3.0) (1.3.0)\n",
            "Requirement already satisfied: zipp>=0.5 in /usr/local/lib/python3.6/dist-packages (from importlib-metadata; python_version < \"3.8\"->markdown>=2.6.8->tensorboard<3,>=2.3.0->tensorflow==2.3.0) (3.4.0)\n",
            "Requirement already satisfied: typing-extensions>=3.6.4; python_version < \"3.8\" in /usr/local/lib/python3.6/dist-packages (from importlib-metadata; python_version < \"3.8\"->markdown>=2.6.8->tensorboard<3,>=2.3.0->tensorflow==2.3.0) (3.7.4.3)\n",
            "Requirement already satisfied: pyasn1>=0.1.3 in /usr/local/lib/python3.6/dist-packages (from rsa<5,>=3.1.4; python_version >= \"3\"->google-auth<2,>=1.6.3->tensorboard<3,>=2.3.0->tensorflow==2.3.0) (0.4.8)\n",
            "Requirement already satisfied: oauthlib>=3.0.0 in /usr/local/lib/python3.6/dist-packages (from requests-oauthlib>=0.7.0->google-auth-oauthlib<0.5,>=0.4.1->tensorboard<3,>=2.3.0->tensorflow==2.3.0) (3.1.0)\n",
            "\u001b[31mERROR: datascience 0.10.6 has requirement folium==0.2.1, but you'll have folium 0.8.3 which is incompatible.\u001b[0m\n",
            "\u001b[31mERROR: albumentations 0.1.12 has requirement imgaug<0.2.7,>=0.2.5, but you'll have imgaug 0.2.9 which is incompatible.\u001b[0m\n",
            "Installing collected packages: tensorflow-estimator, numpy, tensorflow\n",
            "  Found existing installation: tensorflow-estimator 2.4.0\n",
            "    Uninstalling tensorflow-estimator-2.4.0:\n",
            "      Successfully uninstalled tensorflow-estimator-2.4.0\n",
            "  Found existing installation: numpy 1.19.4\n",
            "    Uninstalling numpy-1.19.4:\n",
            "      Successfully uninstalled numpy-1.19.4\n",
            "  Found existing installation: tensorflow 2.4.0\n",
            "    Uninstalling tensorflow-2.4.0:\n",
            "      Successfully uninstalled tensorflow-2.4.0\n",
            "Successfully installed numpy-1.18.5 tensorflow-2.3.0 tensorflow-estimator-2.3.0\n"
          ],
          "name": "stdout"
        },
        {
          "output_type": "display_data",
          "data": {
            "application/vnd.colab-display-data+json": {
              "pip_warning": {
                "packages": [
                  "numpy"
                ]
              }
            }
          },
          "metadata": {
            "tags": []
          }
        },
        {
          "output_type": "stream",
          "text": [
            "Collecting keract==4.3.2\n",
            "  Downloading https://files.pythonhosted.org/packages/8c/a7/4ed085a7e5c2d32d9cea7edb31626d2fb36a03caea93bef68f6c34277f30/keract-4.3.2-py3-none-any.whl\n",
            "Requirement already satisfied: numpy>=1.18.5 in /usr/local/lib/python3.6/dist-packages (from keract==4.3.2) (1.18.5)\n",
            "Installing collected packages: keract\n",
            "Successfully installed keract-4.3.2\n",
            "Collecting kerassurgeon\n",
            "  Downloading https://files.pythonhosted.org/packages/0c/7d/77839f5b038971d0d8f0ce195a6edff6b0d25f0fa088d6a5ecbc4acceda1/kerassurgeon-0.2.0-py3-none-any.whl\n",
            "Collecting importlib-metadata<2.0.0,>=1.7.0\n",
            "  Downloading https://files.pythonhosted.org/packages/8e/58/cdea07eb51fc2b906db0968a94700866fc46249bdc75cac23f9d13168929/importlib_metadata-1.7.0-py2.py3-none-any.whl\n",
            "Requirement already satisfied: pandas[examples]<2.0.0,>=1.1.2 in /usr/local/lib/python3.6/dist-packages (from kerassurgeon) (1.1.5)\n",
            "\u001b[33m  WARNING: pandas 1.1.5 does not provide the extra 'examples'\u001b[0m\n",
            "Collecting pillow[examples]<8.0.0,>=7.2.0\n",
            "\u001b[?25l  Downloading https://files.pythonhosted.org/packages/30/bf/92385b4262178ca22b34f82e0e09c2922eb351fe39f3cc7b8ba9ea555b41/Pillow-7.2.0-cp36-cp36m-manylinux1_x86_64.whl (2.2MB)\n",
            "\u001b[K     |████████████████████████████████| 2.2MB 25.4MB/s \n",
            "\u001b[33m  WARNING: Pillow 7.2.0 does not provide the extra 'examples'\u001b[0m\n",
            "\u001b[?25hRequirement already satisfied: tensorflow<3.0,>=2.0 in /usr/local/lib/python3.6/dist-packages (from kerassurgeon) (2.3.0)\n",
            "Collecting pytest[test]<7.0.0,>=6.0.2\n",
            "\u001b[?25l  Downloading https://files.pythonhosted.org/packages/d7/15/5ef931cbd22585865aad0ea025162545b53af9319cf38542e0b7981d5b34/pytest-6.2.1-py3-none-any.whl (279kB)\n",
            "\u001b[K     |████████████████████████████████| 286kB 61.6MB/s \n",
            "\u001b[33m  WARNING: pytest 6.2.1 does not provide the extra 'test'\u001b[0m\n",
            "\u001b[?25hRequirement already satisfied: keras[standalone-keras]<3.0.0,>=2.4.3 in /usr/local/lib/python3.6/dist-packages (from kerassurgeon) (2.4.3)\n",
            "\u001b[33m  WARNING: Keras 2.4.3 does not provide the extra 'standalone-keras'\u001b[0m\n",
            "Requirement already satisfied: zipp>=0.5 in /usr/local/lib/python3.6/dist-packages (from importlib-metadata<2.0.0,>=1.7.0->kerassurgeon) (3.4.0)\n",
            "Requirement already satisfied: numpy>=1.15.4 in /usr/local/lib/python3.6/dist-packages (from pandas[examples]<2.0.0,>=1.1.2->kerassurgeon) (1.18.5)\n",
            "Requirement already satisfied: pytz>=2017.2 in /usr/local/lib/python3.6/dist-packages (from pandas[examples]<2.0.0,>=1.1.2->kerassurgeon) (2018.9)\n",
            "Requirement already satisfied: python-dateutil>=2.7.3 in /usr/local/lib/python3.6/dist-packages (from pandas[examples]<2.0.0,>=1.1.2->kerassurgeon) (2.8.1)\n",
            "Requirement already satisfied: astunparse==1.6.3 in /usr/local/lib/python3.6/dist-packages (from tensorflow<3.0,>=2.0->kerassurgeon) (1.6.3)\n",
            "Requirement already satisfied: wrapt>=1.11.1 in /usr/local/lib/python3.6/dist-packages (from tensorflow<3.0,>=2.0->kerassurgeon) (1.12.1)\n",
            "Requirement already satisfied: wheel>=0.26 in /usr/local/lib/python3.6/dist-packages (from tensorflow<3.0,>=2.0->kerassurgeon) (0.36.2)\n",
            "Requirement already satisfied: tensorboard<3,>=2.3.0 in /usr/local/lib/python3.6/dist-packages (from tensorflow<3.0,>=2.0->kerassurgeon) (2.4.0)\n",
            "Requirement already satisfied: six>=1.12.0 in /usr/local/lib/python3.6/dist-packages (from tensorflow<3.0,>=2.0->kerassurgeon) (1.15.0)\n",
            "Requirement already satisfied: grpcio>=1.8.6 in /usr/local/lib/python3.6/dist-packages (from tensorflow<3.0,>=2.0->kerassurgeon) (1.32.0)\n",
            "Requirement already satisfied: opt-einsum>=2.3.2 in /usr/local/lib/python3.6/dist-packages (from tensorflow<3.0,>=2.0->kerassurgeon) (3.3.0)\n",
            "Requirement already satisfied: tensorflow-estimator<2.4.0,>=2.3.0 in /usr/local/lib/python3.6/dist-packages (from tensorflow<3.0,>=2.0->kerassurgeon) (2.3.0)\n",
            "Requirement already satisfied: termcolor>=1.1.0 in /usr/local/lib/python3.6/dist-packages (from tensorflow<3.0,>=2.0->kerassurgeon) (1.1.0)\n",
            "Requirement already satisfied: google-pasta>=0.1.8 in /usr/local/lib/python3.6/dist-packages (from tensorflow<3.0,>=2.0->kerassurgeon) (0.2.0)\n",
            "Requirement already satisfied: keras-preprocessing<1.2,>=1.1.1 in /usr/local/lib/python3.6/dist-packages (from tensorflow<3.0,>=2.0->kerassurgeon) (1.1.2)\n",
            "Requirement already satisfied: protobuf>=3.9.2 in /usr/local/lib/python3.6/dist-packages (from tensorflow<3.0,>=2.0->kerassurgeon) (3.12.4)\n",
            "Requirement already satisfied: gast==0.3.3 in /usr/local/lib/python3.6/dist-packages (from tensorflow<3.0,>=2.0->kerassurgeon) (0.3.3)\n",
            "Requirement already satisfied: absl-py>=0.7.0 in /usr/local/lib/python3.6/dist-packages (from tensorflow<3.0,>=2.0->kerassurgeon) (0.10.0)\n",
            "Requirement already satisfied: scipy==1.4.1 in /usr/local/lib/python3.6/dist-packages (from tensorflow<3.0,>=2.0->kerassurgeon) (1.4.1)\n",
            "Requirement already satisfied: h5py<2.11.0,>=2.10.0 in /usr/local/lib/python3.6/dist-packages (from tensorflow<3.0,>=2.0->kerassurgeon) (2.10.0)\n",
            "Requirement already satisfied: py>=1.8.2 in /usr/local/lib/python3.6/dist-packages (from pytest[test]<7.0.0,>=6.0.2->kerassurgeon) (1.10.0)\n",
            "Requirement already satisfied: attrs>=19.2.0 in /usr/local/lib/python3.6/dist-packages (from pytest[test]<7.0.0,>=6.0.2->kerassurgeon) (20.3.0)\n",
            "Requirement already satisfied: packaging in /usr/local/lib/python3.6/dist-packages (from pytest[test]<7.0.0,>=6.0.2->kerassurgeon) (20.8)\n",
            "Requirement already satisfied: toml in /usr/local/lib/python3.6/dist-packages (from pytest[test]<7.0.0,>=6.0.2->kerassurgeon) (0.10.2)\n",
            "Collecting pluggy<1.0.0a1,>=0.12\n",
            "  Downloading https://files.pythonhosted.org/packages/a0/28/85c7aa31b80d150b772fbe4a229487bc6644da9ccb7e427dd8cc60cb8a62/pluggy-0.13.1-py2.py3-none-any.whl\n",
            "Requirement already satisfied: iniconfig in /usr/local/lib/python3.6/dist-packages (from pytest[test]<7.0.0,>=6.0.2->kerassurgeon) (1.1.1)\n",
            "Requirement already satisfied: pyyaml in /usr/local/lib/python3.6/dist-packages (from keras[standalone-keras]<3.0.0,>=2.4.3->kerassurgeon) (3.13)\n",
            "Requirement already satisfied: setuptools>=41.0.0 in /usr/local/lib/python3.6/dist-packages (from tensorboard<3,>=2.3.0->tensorflow<3.0,>=2.0->kerassurgeon) (51.0.0)\n",
            "Requirement already satisfied: werkzeug>=0.11.15 in /usr/local/lib/python3.6/dist-packages (from tensorboard<3,>=2.3.0->tensorflow<3.0,>=2.0->kerassurgeon) (1.0.1)\n",
            "Requirement already satisfied: markdown>=2.6.8 in /usr/local/lib/python3.6/dist-packages (from tensorboard<3,>=2.3.0->tensorflow<3.0,>=2.0->kerassurgeon) (3.3.3)\n",
            "Requirement already satisfied: google-auth-oauthlib<0.5,>=0.4.1 in /usr/local/lib/python3.6/dist-packages (from tensorboard<3,>=2.3.0->tensorflow<3.0,>=2.0->kerassurgeon) (0.4.2)\n",
            "Requirement already satisfied: requests<3,>=2.21.0 in /usr/local/lib/python3.6/dist-packages (from tensorboard<3,>=2.3.0->tensorflow<3.0,>=2.0->kerassurgeon) (2.23.0)\n",
            "Requirement already satisfied: google-auth<2,>=1.6.3 in /usr/local/lib/python3.6/dist-packages (from tensorboard<3,>=2.3.0->tensorflow<3.0,>=2.0->kerassurgeon) (1.17.2)\n",
            "Requirement already satisfied: tensorboard-plugin-wit>=1.6.0 in /usr/local/lib/python3.6/dist-packages (from tensorboard<3,>=2.3.0->tensorflow<3.0,>=2.0->kerassurgeon) (1.7.0)\n",
            "Requirement already satisfied: pyparsing>=2.0.2 in /usr/local/lib/python3.6/dist-packages (from packaging->pytest[test]<7.0.0,>=6.0.2->kerassurgeon) (2.4.7)\n",
            "Requirement already satisfied: requests-oauthlib>=0.7.0 in /usr/local/lib/python3.6/dist-packages (from google-auth-oauthlib<0.5,>=0.4.1->tensorboard<3,>=2.3.0->tensorflow<3.0,>=2.0->kerassurgeon) (1.3.0)\n",
            "Requirement already satisfied: certifi>=2017.4.17 in /usr/local/lib/python3.6/dist-packages (from requests<3,>=2.21.0->tensorboard<3,>=2.3.0->tensorflow<3.0,>=2.0->kerassurgeon) (2020.12.5)\n",
            "Requirement already satisfied: urllib3!=1.25.0,!=1.25.1,<1.26,>=1.21.1 in /usr/local/lib/python3.6/dist-packages (from requests<3,>=2.21.0->tensorboard<3,>=2.3.0->tensorflow<3.0,>=2.0->kerassurgeon) (1.24.3)\n",
            "Requirement already satisfied: idna<3,>=2.5 in /usr/local/lib/python3.6/dist-packages (from requests<3,>=2.21.0->tensorboard<3,>=2.3.0->tensorflow<3.0,>=2.0->kerassurgeon) (2.10)\n",
            "Requirement already satisfied: chardet<4,>=3.0.2 in /usr/local/lib/python3.6/dist-packages (from requests<3,>=2.21.0->tensorboard<3,>=2.3.0->tensorflow<3.0,>=2.0->kerassurgeon) (3.0.4)\n",
            "Requirement already satisfied: cachetools<5.0,>=2.0.0 in /usr/local/lib/python3.6/dist-packages (from google-auth<2,>=1.6.3->tensorboard<3,>=2.3.0->tensorflow<3.0,>=2.0->kerassurgeon) (4.2.0)\n",
            "Requirement already satisfied: pyasn1-modules>=0.2.1 in /usr/local/lib/python3.6/dist-packages (from google-auth<2,>=1.6.3->tensorboard<3,>=2.3.0->tensorflow<3.0,>=2.0->kerassurgeon) (0.2.8)\n",
            "Requirement already satisfied: rsa<5,>=3.1.4; python_version >= \"3\" in /usr/local/lib/python3.6/dist-packages (from google-auth<2,>=1.6.3->tensorboard<3,>=2.3.0->tensorflow<3.0,>=2.0->kerassurgeon) (4.6)\n",
            "Requirement already satisfied: oauthlib>=3.0.0 in /usr/local/lib/python3.6/dist-packages (from requests-oauthlib>=0.7.0->google-auth-oauthlib<0.5,>=0.4.1->tensorboard<3,>=2.3.0->tensorflow<3.0,>=2.0->kerassurgeon) (3.1.0)\n",
            "Requirement already satisfied: pyasn1<0.5.0,>=0.4.6 in /usr/local/lib/python3.6/dist-packages (from pyasn1-modules>=0.2.1->google-auth<2,>=1.6.3->tensorboard<3,>=2.3.0->tensorflow<3.0,>=2.0->kerassurgeon) (0.4.8)\n",
            "\u001b[31mERROR: datascience 0.10.6 has requirement folium==0.2.1, but you'll have folium 0.8.3 which is incompatible.\u001b[0m\n",
            "\u001b[31mERROR: albumentations 0.1.12 has requirement imgaug<0.2.7,>=0.2.5, but you'll have imgaug 0.2.9 which is incompatible.\u001b[0m\n",
            "Installing collected packages: importlib-metadata, pillow, pluggy, pytest, kerassurgeon\n",
            "  Found existing installation: importlib-metadata 3.3.0\n",
            "    Uninstalling importlib-metadata-3.3.0:\n",
            "      Successfully uninstalled importlib-metadata-3.3.0\n",
            "  Found existing installation: Pillow 7.0.0\n",
            "    Uninstalling Pillow-7.0.0:\n",
            "      Successfully uninstalled Pillow-7.0.0\n",
            "  Found existing installation: pluggy 0.7.1\n",
            "    Uninstalling pluggy-0.7.1:\n",
            "      Successfully uninstalled pluggy-0.7.1\n",
            "  Found existing installation: pytest 3.6.4\n",
            "    Uninstalling pytest-3.6.4:\n",
            "      Successfully uninstalled pytest-3.6.4\n",
            "Successfully installed importlib-metadata-1.7.0 kerassurgeon-0.2.0 pillow-7.2.0 pluggy-0.13.1 pytest-6.2.1\n"
          ],
          "name": "stdout"
        },
        {
          "output_type": "display_data",
          "data": {
            "application/vnd.colab-display-data+json": {
              "pip_warning": {
                "packages": [
                  "PIL"
                ]
              }
            }
          },
          "metadata": {
            "tags": []
          }
        }
      ]
    },
    {
      "cell_type": "code",
      "metadata": {
        "id": "ZihDPnWdMz2T"
      },
      "source": [
        "import numpy as np \r\n",
        "import matplotlib.pyplot as plt\r\n",
        "import tensorflow as tf\r\n",
        "import keras\r\n",
        "import keras.backend as K\r\n",
        "import h5py\r\n",
        "from keras import initializers\r\n",
        "import sys\r\n",
        "import os\r\n",
        "from tqdm.auto import tqdm\r\n",
        "import keract\r\n",
        "from kerassurgeon.operations import delete_channels\r\n",
        "from kerassurgeon.identify import get_apoz\r\n",
        "from kerassurgeon.identify import high_apoz"
      ],
      "execution_count": null,
      "outputs": []
    },
    {
      "cell_type": "code",
      "metadata": {
        "id": "au-fGpf0M090"
      },
      "source": [
        "TARGET_LAYER = 7\r\n",
        "PRUNE_NUM = 100\r\n",
        "CLASS_NUM = 1282\r\n",
        "TRAIL_NUM = 1\r\n",
        "EPOCH_NUM = 10\r\n",
        "\r\n",
        "THRES_CONF = 0.99\r\n",
        "THRES_DETECT = 0.91"
      ],
      "execution_count": null,
      "outputs": []
    },
    {
      "cell_type": "code",
      "metadata": {
        "id": "8GhIibmbM3CB"
      },
      "source": [
        "def data_loader(filepath):\r\n",
        "    data = h5py.File(filepath, 'r')\r\n",
        "    x_data = np.array(data['data'])\r\n",
        "    y_data = np.array(data['label'])\r\n",
        "    x_data = x_data.transpose((0,2,3,1))\r\n",
        "\r\n",
        "    return x_data, y_data\r\n",
        "\r\n",
        "def data_preprocess(x_data):\r\n",
        "    return x_data/255\r\n",
        "\r\n",
        "def calc_success(y_pred, y_test):\r\n",
        "    return(np.sum(np.equal(y_pred, y_test))/y_test.shape[0]*100)\r\n",
        "\r\n",
        "def model_package(pruned_model, bd_model, x_test):\r\n",
        "    y_pred_badnet = np.argmax(bd_model.predict(x_test), axis=1)\r\n",
        "    y_pred_pruned =  np.argmax(pruned_model.predict(x_test), axis=1)  \r\n",
        "    res = np.zeros((x_test.shape[0]))\r\n",
        "    for i in range(0, x_test.shape[0]):\r\n",
        "        if y_pred_badnet[i] == 0: # backdoor input\r\n",
        "            if y_pred_pruned[i] == 0: # attack success\r\n",
        "                res[i] = 0\r\n",
        "            else:\r\n",
        "                res[i] = CLASS_NUM + 1\r\n",
        "        else:\r\n",
        "            res[i] = y_pred_pruned[i]\r\n",
        "    return res\r\n",
        "\r\n",
        "def model_package2(pruned_model, bd_model, x_test, thres_conf, thres_detect):\r\n",
        "    # probs of each class\r\n",
        "    y_pred_prob_badnet = bd_model.predict(x_test) \r\n",
        "    y_pred_prob_pruned = pruned_model.predict(x_test)\r\n",
        "    \r\n",
        "    # class having max prob\r\n",
        "    y_pred_badnet = np.argmax(y_pred_prob_badnet, axis=1)\r\n",
        "    y_pred_pruned =  np.argmax(y_pred_prob_pruned, axis=1)  \r\n",
        "\r\n",
        "    res = np.zeros((x_test.shape[0]))\r\n",
        "    for i in range(0, x_test.shape[0]):\r\n",
        "        # max prob\r\n",
        "        y_pred_prob_max_badnet = np.max(y_pred_prob_badnet[i])\r\n",
        "        y_pred_prob_max_pruend = np.max(y_pred_prob_pruned[i])\r\n",
        "\r\n",
        "        res[i] = y_pred_badnet[i]\r\n",
        "        # high confident clean or backdoor input\r\n",
        "        if y_pred_prob_max_badnet >= thres_conf:\r\n",
        "            # clean or success attack\r\n",
        "            if y_pred_prob_max_pruend >= thres_conf: \r\n",
        "                if np.equal(y_pred_badnet[i], y_pred_pruned[i]): # both models equal\r\n",
        "                    res[i] = y_pred_pruned[i] # clean input\r\n",
        "                else:\r\n",
        "                    # res[i] = y_pred_pruned[i] # maybe wrong but not backdoored\r\n",
        "                    res[i] = (CLASS_NUM + 1) # uncertained   \r\n",
        "            elif y_pred_prob_max_pruend < thres_conf and y_pred_prob_max_pruend >= thres_detect:\r\n",
        "                # res[i] = (CLASS_NUM + 1) # uncertained   \r\n",
        "                res[i] = y_pred_pruned[i]\r\n",
        "            else:\r\n",
        "                res[i] = (CLASS_NUM + 1)  # backdoor detected\r\n",
        "                # res[i] = y_pred_pruned[i]\r\n",
        "        elif y_pred_prob_max_badnet < thres_conf and y_pred_prob_max_badnet >= thres_detect:\r\n",
        "            if y_pred_prob_max_badnet >= y_pred_prob_max_pruend:\r\n",
        "                res[i] = y_pred_badnet[i]\r\n",
        "            else:\r\n",
        "                res[i] = y_pred_pruned[i]\r\n",
        "        \r\n",
        "        else: \r\n",
        "            if y_pred_prob_max_pruend >= thres_conf:\r\n",
        "                res[i] = y_pred_pruned[i]\r\n",
        "            elif y_pred_prob_max_pruend < thres_conf and y_pred_prob_max_pruend >= thres_detect:\r\n",
        "                res[i] = (CLASS_NUM + 1) # uncertained   \r\n",
        "                # res[i] = y_pred_pruned[i]\r\n",
        "            else:\r\n",
        "                res[i] = (CLASS_NUM + 1)  # backdoor detected\r\n",
        "                # res[i] = y_pred_pruned[i]\r\n",
        "    return res"
      ],
      "execution_count": null,
      "outputs": []
    },
    {
      "cell_type": "code",
      "metadata": {
        "id": "NUNWNTy6M5h7"
      },
      "source": [
        "def defense_success_rate(y_pred, y_clean, y_bd, isClean):\r\n",
        "    atk_succ = 0\r\n",
        "    def_succ = 0\r\n",
        "    mid_succ = 0\r\n",
        "    mid_fail = 0\r\n",
        "    clean_succ = 0\r\n",
        "    total_num = y_pred.shape[0]\r\n",
        "    for i in range(total_num):\r\n",
        "        if isClean == True:\r\n",
        "            if y_pred[i] == y_clean[i]:\r\n",
        "                clean_succ += 1\r\n",
        "            # elif y_pred[i] == y_bd and y_clean[i] != 0:\r\n",
        "            #     atk_succ += 1 # atk triggered\r\n",
        "            elif y_pred[i] == 1283:\r\n",
        "                def_succ += 1 # def triggered\r\n",
        "            else:\r\n",
        "                mid_fail += 1\r\n",
        "        else:\r\n",
        "            if y_pred[i] == y_bd:\r\n",
        "                atk_succ += 1\r\n",
        "            elif y_pred[i] == 1283:\r\n",
        "                def_succ += 1\r\n",
        "            else:\r\n",
        "                # if y_pred[i] == y_clean[i]:\r\n",
        "                #     mid_succ += 1\r\n",
        "                # else:\r\n",
        "                #     mid_fail += 1\r\n",
        "                mid_fail += 1\r\n",
        "                \r\n",
        "    return atk_succ, def_succ, mid_succ, mid_fail, clean_succ, total_num"
      ],
      "execution_count": null,
      "outputs": []
    },
    {
      "cell_type": "code",
      "metadata": {
        "id": "xSZ_P-f1M8bd"
      },
      "source": [
        "clean_validation_path = \"/content/drive/MyDrive/GY9163/Final/data/clean_validation_data.h5\"\r\n",
        "clean_test_path = \"/content/drive/MyDrive/GY9163/Final/data/clean_test_data.h5\"\r\n",
        "sung_test_path = \"/content/drive/MyDrive/GY9163/Final/data/Multi-trigger Multi-target/sunglasses_poisoned_data.h5\"\r\n",
        "eye_test_path = \"/content/drive/MyDrive/GY9163/Final/data/Multi-trigger Multi-target/eyebrows_poisoned_data.h5\"\r\n",
        "lip_test_path = \"/content/drive/MyDrive/GY9163/Final/data/Multi-trigger Multi-target/lipstick_poisoned_data.h5\"\r\n",
        "poisoned_model_path = \"/content/drive/MyDrive/GY9163/Final/models/multi_trigger_multi_target_bd_net.h5\""
      ],
      "execution_count": null,
      "outputs": []
    },
    {
      "cell_type": "code",
      "metadata": {
        "id": "OuIyu0fEN5qz"
      },
      "source": [
        "x_val, y_val = data_loader(clean_validation_path)\r\n",
        "x_val = data_preprocess(x_val)\r\n",
        "\r\n",
        "x_test_clean, y_test_clean = data_loader(clean_test_path)\r\n",
        "x_test_clean = data_preprocess(x_test_clean)\r\n",
        "\r\n",
        "x_test_sung, y_test_sung = data_loader(sung_test_path)\r\n",
        "x_test_sung = data_preprocess(x_test_sung)\r\n",
        "x_test_eye, y_test_eye = data_loader(eye_test_path)\r\n",
        "x_test_eye = data_preprocess(x_test_eye)\r\n",
        "x_test_lip, y_test_lip = data_loader(lip_test_path)\r\n",
        "x_test_lip = data_preprocess(x_test_lip)"
      ],
      "execution_count": null,
      "outputs": []
    },
    {
      "cell_type": "code",
      "metadata": {
        "colab": {
          "base_uri": "https://localhost:8080/"
        },
        "id": "-azN175hdSgs",
        "outputId": "42bdbf47-5ff9-4b43-e175-d38fc9f080ca"
      },
      "source": [
        "y_test_lip[1]"
      ],
      "execution_count": null,
      "outputs": [
        {
          "output_type": "execute_result",
          "data": {
            "text/plain": [
              "1.0"
            ]
          },
          "metadata": {
            "tags": []
          },
          "execution_count": 38
        }
      ]
    },
    {
      "cell_type": "code",
      "metadata": {
        "id": "-0ug9vCXOGi6"
      },
      "source": [
        "bd_model = keras.models.load_model(poisoned_model_path)"
      ],
      "execution_count": null,
      "outputs": []
    },
    {
      "cell_type": "code",
      "metadata": {
        "colab": {
          "base_uri": "https://localhost:8080/"
        },
        "id": "FPPaQ3owOLlX",
        "outputId": "c3e0278c-4bed-47b0-fbb3-2f963f43dc9b"
      },
      "source": [
        "y_pred_bad_clean = np.argmax(bd_model.predict(x_test_clean), axis=1)\r\n",
        "y_pred_bad_sung =  np.argmax(bd_model.predict(x_test_sung), axis=1)\r\n",
        "y_pred_bad_eye =  np.argmax(bd_model.predict(x_test_eye), axis=1)  \r\n",
        "y_pred_bad_lip =  np.argmax(bd_model.predict(x_test_lip), axis=1)  \r\n",
        "print(calc_success(y_pred_bad_clean, y_test_clean),calc_success(y_pred_bad_sung, y_test_sung),calc_success(y_pred_bad_eye, y_test_eye),calc_success(y_pred_bad_lip, y_test_lip))"
      ],
      "execution_count": null,
      "outputs": [
        {
          "output_type": "stream",
          "text": [
            "96.00935307872174 100.0 91.34840218238503 91.52377240841777\n"
          ],
          "name": "stdout"
        }
      ]
    },
    {
      "cell_type": "code",
      "metadata": {
        "colab": {
          "base_uri": "https://localhost:8080/"
        },
        "id": "ftI5wtECaCEi",
        "outputId": "e19b1eb4-d8c6-4ec5-85be-705105458202"
      },
      "source": [
        "i = 42\r\n",
        "ASR_lst = []\r\n",
        "CSR_lst = []\r\n",
        "while i< 43:\r\n",
        "    print(i)\r\n",
        "    target_layer = bd_model.layers[5]\r\n",
        "    lst_high_apoz = get_apoz(bd_model, target_layer, x_val, node_indices=None)\r\n",
        "    lst_high_apoz = np.argsort(-lst_high_apoz)\r\n",
        "    prune_num_total = high_apoz(get_apoz(bd_model, target_layer, x_val, node_indices=None),method='absolute', cutoff_absolute=0.5)\r\n",
        "\r\n",
        "    valid_prune_list = []\r\n",
        "\r\n",
        "    for n in lst_high_apoz:\r\n",
        "        if n in prune_num_total:\r\n",
        "            valid_prune_list = np.append(valid_prune_list, n)\r\n",
        "    valid_prune_list = valid_prune_list.astype(int)\r\n",
        "    pruned_model = delete_channels(bd_model, target_layer, valid_prune_list[0:i],copy=True)\r\n",
        "\r\n",
        "    target_layer = pruned_model.layers[7]\r\n",
        "    lst_high_apoz = get_apoz(pruned_model, target_layer, x_val, node_indices=None)\r\n",
        "    lst_high_apoz = np.argsort(-lst_high_apoz)\r\n",
        "    prune_num_total = high_apoz(get_apoz(pruned_model, target_layer, x_val, node_indices=None),method='absolute', cutoff_absolute=0.5)\r\n",
        "\r\n",
        "    valid_prune_list = []\r\n",
        "\r\n",
        "    for n in lst_high_apoz:\r\n",
        "        if n in prune_num_total:\r\n",
        "            valid_prune_list = np.append(valid_prune_list, n)\r\n",
        "    valid_prune_list = valid_prune_list.astype(int)\r\n",
        "    pruned_model = delete_channels(pruned_model, target_layer, valid_prune_list[0:i],copy=True)\r\n",
        "\r\n",
        "    optimizer = keras.optimizers.Adadelta(lr=1)\r\n",
        "    pruned_model.compile(loss ='sparse_categorical_crossentropy', optimizer=optimizer, metrics=['accuracy'])\r\n",
        "    pruned_model.fit(x_val, y_val, epochs = 30, verbose=0)\r\n",
        "\r\n",
        "    y_pred_clean = model_package2(pruned_model, bd_model, x_test_clean, 0.99, 0.91)\r\n",
        "    y_pred_sung = model_package2(pruned_model, bd_model, x_test_sung, 0.99, 0.91)\r\n",
        "    y_pred_eye = model_package2(pruned_model, bd_model, x_test_eye, 0.99, 0.91)\r\n",
        "    y_pred_lip = model_package2(pruned_model, bd_model, x_test_lip, 0.99, 0.91)\r\n",
        "    attack_success_rate_sung = calc_success(y_pred_sung, y_test_sung)\r\n",
        "    attack_success_rate_eye = calc_success(y_pred_eye, y_test_eye)\r\n",
        "    attack_success_rate_lip = calc_success(y_pred_lip, y_test_lip)\r\n",
        "    clean_classification_rate_sung = calc_success(y_pred_clean, y_test_clean)\r\n",
        "    print(\"ASR\")\r\n",
        "    print(\"sung: \",attack_success_rate_sung, \"eye: \",attack_success_rate_eye, \"lip: \",attack_success_rate_lip)\r\n",
        "    print(\"CSR: \", clean_classification_rate)\r\n",
        "\r\n",
        "    atk_succ, def_succ, mid_succ, mid_fail, clean_succ, total_num = defense_success_rate(y_pred_clean, y_test_clean, y_test_sung, True)\r\n",
        "    print(\"clean:\")\r\n",
        "    print(atk_succ, def_succ, mid_succ, mid_fail, clean_succ, total_num)\r\n",
        "    print(atk_succ/total_num*100, def_succ/total_num*100, mid_succ/total_num*100, mid_fail/total_num*100, clean_succ/total_num*100)\r\n",
        "    print(\"sung:\")\r\n",
        "    atk_succ, def_succ, mid_succ, mid_fail, clean_succ, total_num = defense_success_rate(y_pred_sung, y_test_clean, y_test_sung[0], False)\r\n",
        "    print(atk_succ, def_succ, mid_succ, mid_fail, clean_succ, total_num)\r\n",
        "    print(atk_succ/total_num*100, def_succ/total_num*100, mid_succ/total_num*100, mid_fail/total_num*100, clean_succ/total_num*100)\r\n",
        "    print(\"eye:\")\r\n",
        "    atk_succ, def_succ, mid_succ, mid_fail, clean_succ, total_num = defense_success_rate(y_pred_eye, y_test_clean, y_test_eye[0], False)\r\n",
        "    print(atk_succ, def_succ, mid_succ, mid_fail, clean_succ, total_num)\r\n",
        "    print(atk_succ/total_num*100, def_succ/total_num*100, mid_succ/total_num*100, mid_fail/total_num*100, clean_succ/total_num*100)\r\n",
        "    print(\"lip:\")\r\n",
        "    atk_succ, def_succ, mid_succ, mid_fail, clean_succ, total_num = defense_success_rate(y_pred_lip, y_test_clean, y_test_lip[0], False)\r\n",
        "    print(atk_succ, def_succ, mid_succ, mid_fail, clean_succ, total_num)\r\n",
        "    print(atk_succ/total_num*100, def_succ/total_num*100, mid_succ/total_num*100, mid_fail/total_num*100, clean_succ/total_num*100)\r\n",
        "\r\n",
        "    ASR_lst = np.append(ASR_lst, attack_success_rate)\r\n",
        "    CSR_lst = np.append(CSR_lst, clean_classification_rate)\r\n",
        "    \r\n",
        "    i += 1"
      ],
      "execution_count": null,
      "outputs": [
        {
          "output_type": "stream",
          "text": [
            "42\n",
            "Deleting 42/60 channels from layer: conv_3\n",
            "Deleting 42/80 channels from layer: conv_4\n",
            "ASR\n",
            "sung:  0.009742790335151987 eye:  0.5455962587685114 lip:  0.11691348402182386\n",
            "CSR:  91.44193296960249\n",
            "clean:\n",
            "0 662 0 168 12000 12830\n",
            "0.0 5.159781761496492 0.0 1.309431021044427 93.53078721745908\n",
            "sung:\n",
            "1 7868 0 2395 0 10264\n",
            "0.009742790335151987 76.65627435697584 0.0 23.33398285268901 0.0\n",
            "eye:\n",
            "56 7546 0 2662 0 10264\n",
            "0.5455962587685114 73.5190958690569 0.0 25.93530787217459 0.0\n",
            "lip:\n",
            "12 8296 0 1956 0 10264\n",
            "0.11691348402182386 80.8261886204209 0.0 19.056897895557288 0.0\n"
          ],
          "name": "stdout"
        }
      ]
    },
    {
      "cell_type": "code",
      "metadata": {
        "id": "asePpyBbUcGN"
      },
      "source": [
        "!mkdir -p saved_model\r\n",
        "pruned_model.save('saved_model/G4_0_054_011_91.h5') \r\n"
      ],
      "execution_count": null,
      "outputs": []
    },
    {
      "cell_type": "code",
      "metadata": {
        "id": "ZW5mhkexaruS"
      },
      "source": [
        "atk_succ, def_succ, mid_succ, mid_fail, clean_succ, total_num = defense_success_rate(y_pred_sung, y_test_clean, y_test_sung, False)\r\n",
        "print(atk_succ, def_succ, mid_succ, mid_fail, clean_succ, total_num)\r\n",
        "print(atk_succ/total_num*100, def_succ/total_num*100, mid_succ/total_num*100, mid_fail/total_num*100, clean_succ/total_num*100)\r\n",
        "\r\n",
        "atk_succ, def_succ, mid_succ, mid_fail, clean_succ, total_num = defense_success_rate(y_pred_clean, y_test_clean, y_test_sung, True)\r\n",
        "print(atk_succ, def_succ, mid_succ, mid_fail, clean_succ, total_num)\r\n",
        "print(atk_succ/total_num*100, def_succ/total_num*100, mid_succ/total_num*100, mid_fail/total_num*100, clean_succ/total_num*100)"
      ],
      "execution_count": null,
      "outputs": []
    }
  ]
}